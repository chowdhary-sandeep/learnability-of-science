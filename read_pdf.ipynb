{
 "cells": [
  {
   "cell_type": "code",
   "execution_count": 13,
   "id": "8bdaa43d-0d1e-4384-a33c-fe4c93a23782",
   "metadata": {},
   "outputs": [],
   "source": [
    "import PyPDF2\n",
    "\n",
    "\n",
    "# # creating an object \n",
    "# file = open('Kenneth M Hoffman, Ray Kunze - Linear Algebra -Prentice Hall (1971).pdf', 'rb')\n",
    "\n",
    "\n",
    "\n",
    "# # creating a pdf reader object\n",
    "# fileReader = PyPDF2.PdfFileReader(file)\n",
    "\n",
    "\n",
    "\n",
    "# # print the number of pages in pdf file\n",
    "# print(fileReader.numPages)"
   ]
  },
  {
   "cell_type": "code",
   "execution_count": 14,
   "id": "0c612be8-cb3a-4122-b0b7-78cc4ad9775f",
   "metadata": {},
   "outputs": [],
   "source": [
    "\n"
   ]
  },
  {
   "cell_type": "code",
   "execution_count": 15,
   "id": "23f3f0e2-1358-40ab-869d-39db773713cb",
   "metadata": {},
   "outputs": [
    {
     "name": "stdout",
     "output_type": "stream",
     "text": [
      "597\n"
     ]
    },
    {
     "name": "stderr",
     "output_type": "stream",
     "text": [
      "PdfReadWarning: Xref table not zero-indexed. ID numbers for objects will be corrected. [pdf.py:1736]\n"
     ]
    }
   ],
   "source": [
    "# file = open('David J. Griffiths - Introduction to Electrodynamics (1999, Prentice-Hall) - libgen.lc.pdf', 'rb')\n",
    "# fileReader = PyPDF2.PdfFileReader(file)\n",
    "# print(fileReader.numPages)"
   ]
  },
  {
   "cell_type": "code",
   "execution_count": 16,
   "id": "c80a49cc-50d5-4a94-a3ae-0e79619a7982",
   "metadata": {},
   "outputs": [],
   "source": [
    "# import PyPDF2\n",
    "\n",
    "# def Read(startPage, endPage):\n",
    "#     global text\n",
    "#     text = []\n",
    "#     cleanText = \"\"\n",
    "# import PyPDF2\n",
    "\n",
    "# def Read(startPage, endPage):\n",
    "#     global text\n",
    "#     text = []\n",
    "#     cleanText = \"\"\n",
    "#     pdfFileObj = open('David J. Griffiths - Introduction to Electrodynamics (1999, Prentice-Hall) - libgen.lc.pdf', 'rb')\n",
    "#     pdfReader = PyPDF2.PdfFileReader(pdfFileObj)\n",
    "#     while startPage <= endPage:\n",
    "#         pageObj = pdfReader.getPage(startPage)\n",
    "#         text += pageObj.extractText()\n",
    "#         startPage += 1\n",
    "#     pdfFileObj.close()\n",
    "#     for myWord in text:\n",
    "#         if myWord != '\\n':\n",
    "#             cleanText += myWord\n",
    "#     text = cleanText.split()\n",
    "#     return text\n",
    "\n",
    "\n",
    "\n"
   ]
  },
  {
   "cell_type": "code",
   "execution_count": null,
   "id": "4c144708-f0bf-4d82-b701-82c9ea6cebc5",
   "metadata": {},
   "outputs": [],
   "source": []
  },
  {
   "cell_type": "code",
   "execution_count": 57,
   "id": "66493413-265c-4874-81a5-8c6db4b6b35c",
   "metadata": {},
   "outputs": [
    {
     "name": "stdout",
     "output_type": "stream",
     "text": [
      "[' ', 'A  Bessel’s  inequality,      ', 'Bilinear  form,     ,    ,     ', 'Adjoint  ', 'diagonalization  of,     ', 'classical,     ,      ', 'group  preserving,      ', 'of transformation,      ', 'matrix  of,     ', 'Admissible  sltbspace,      ', 'non-degenerate  (non-singular),      ', 'Algebra,      ', 'positive  definite,      ', 'of formal  power  series,      ', 'rank  of,     ', 'self-adjoint,      ', 'signature  of,     ', 'Algebraically  closed  field,      ', 'skew-symmetric,      ', 'Alternating  n-linear  function,     ,     ', 'symmetric,      ', 'Annihilator  ', 'of subset,      ', 'of sum  and intersection,     (Ex.    ) ', 'C ', 'of vector  (T-annihilator),     ,     ,      ', 'Approximation,      ', 'Cauchy-Schwars  inequality,      ', 'Associativity,    ', 'Cayley-Hamilton  theorem,     ,     ', 'of matrix  multiplicat,ion,    ,    ', 'of vector  addition,      Cayley  transform,     (Ex.   ) ', 'Augmented  matrix,      Characteristic  ', 'Axiom  of choice,       of a field,    ', 'polynomial,      ', 'space,      ', 'B  value,     ,      ', 'vector,      ', 'Basis,      Classical  adjoint,     ,     ', 'change  of,      Coefficients  of polynomial,      ', 'dual,    ,      Cofactor,      ', 'for  module,       Column  ', 'ordered,      equivalence,      ', 'orthonormal,       operations,    ,     ', 'standard  basis  of P,      rank,    ,     ', '    ']\n",
      "['A  Bessel’s  inequality,      ', 'Bilinear  form,     ,    ,     ', 'Adjoint  ', 'Admissible  sltbspace,      ', 'Algebra,      ', 'Algebraically  closed  field,      ', 'Alternating  n-linear  function,     ,     ', 'Annihilator  ', 'C ', 'Approximation,      ', 'Cauchy-Schwars  inequality,      ', 'Associativity,    ', 'Cayley-Hamilton  theorem,     ,     ', 'Augmented  matrix,      Characteristic  ', 'Axiom  of choice,       of a field,    ', 'B  value,     ,      ', 'Basis,      Classical  adjoint,     ,     ']\n"
     ]
    }
   ],
   "source": [
    "# fileReader\n",
    "import re\n",
    "import pdfplumber\n",
    "\n",
    "# file = pdfplumber.open('David J. Griffiths - Introduction to Electrodynamics (1999, Prentice-Hall) - libgen.lc.pdf')\n",
    "file = pdfplumber.open('Kenneth M Hoffman, Ray Kunze - Linear Algebra -Prentice Hall (1971).pdf')\n",
    "\n",
    "\n",
    "\n",
    "for x in range(400,500):\n",
    "#     Read(x,x+1)\n",
    "#     text_=pageObj.extractText()\n",
    "    text_=file.pages[x].extract_text()\n",
    "    \n",
    "    if 'Index' in text_ :\n",
    "        text_=text_.replace('Index','')\n",
    "        text_=text_.replace('INDEX','')\n",
    "# #         text_=text_.replace('Ex.','')\n",
    "# #         text_=text_.replace('( ','(')\n",
    "# #         text_=text_.replace('( ','(')\n",
    "# #         text_=text_.replace('() ',',')\n",
    "# #     text_=text_.lower()\n",
    "        text_ = ''.join([i if not i.isdigit() else ' ' for i in text_])\n",
    "\n",
    "        text_=text_.replace(':', ' ')\n",
    "#         text_=re.split(' ',text_)\n",
    "\n",
    "#         text_=[x for x in text_ if len(x)>1]\n",
    "# # #         xx=''\n",
    "# #         for x in text_ :\n",
    "# #             if len(x)>1:\n",
    "#                 xx=xx+' '+x\n",
    "        text_=text_.split('\\n')\n",
    "\n",
    "        text_=[x.replace('\\n','') for x in text_]\n",
    "        print(text_)\n",
    "#         text_=[x for x in text_ if len(x)>2]\n",
    "        print([x for x in text_ if x[0].isupper()==1])\n",
    "        break\n"
   ]
  },
  {
   "cell_type": "code",
   "execution_count": 56,
   "id": "4903acb6-21e3-4a47-8cc5-05504309eadd",
   "metadata": {},
   "outputs": [
    {
     "data": {
      "text/plain": [
       "'Algebra,      '"
      ]
     },
     "execution_count": 56,
     "metadata": {},
     "output_type": "execute_result"
    }
   ],
   "source": [
    "text_[11]"
   ]
  },
  {
   "cell_type": "code",
   "execution_count": null,
   "id": "48d77612-867e-48c5-8bd7-e443066ec13a",
   "metadata": {},
   "outputs": [],
   "source": [
    "#         text_=[x for x in text_ if len(x)>1]\n",
    "# # #         xx=''\n",
    "# #         for x in text_ :\n",
    "# #             if len(x)>1:\n",
    "#                 xx=xx+' '+x"
   ]
  },
  {
   "cell_type": "code",
   "execution_count": 10,
   "id": "0b8c693c",
   "metadata": {},
   "outputs": [],
   "source": [
    "x0 = 0    # Distance of left side of character from left side of page.\n",
    "x1 = 0.4  # Distance of right side of character from left side of page.\n",
    "y0 = 0  # Distance of bottom of character from bottom of page.\n",
    "y1 = 1  # Distance of top of character from bottom of page.\n",
    "\n",
    "import pdfplumber\n",
    "\n",
    "file = pdfplumber.open('Kenneth M Hoffman, Ray Kunze - Linear Algebra -Prentice Hall (1971).pdf')\n",
    "\n",
    "node_list = []\n",
    "\n",
    "\n",
    "for x in range(400,410):\n",
    "    all_content = []\n",
    "    page = file.pages[x]\n",
    "    \n",
    "    width = page.width\n",
    "    height = page.height\n",
    "\n",
    "    # Crop pages\n",
    "    left_bbox = (0*float(width), y0*float(height), x1*float(width), y1*float(height))\n",
    "    page_crop = page.crop(bbox=left_bbox)\n",
    "    left_text = page_crop.extract_text()\n",
    "\n",
    "    right_bbox = (x1*float(width), y0*float(height), 1*float(width), y1*float(height))\n",
    "    page_crop = page.crop(bbox=right_bbox)\n",
    "    right_text = page_crop.extract_text()\n",
    "    page_context = '\\n'.join([left_text, right_text])\n",
    "    all_content.append(page_context)\n",
    "\n",
    "    text_=all_content#.extract_text()\n",
    "\n",
    "    if 'Index' in text_[0]:\n",
    "        new_text_ = text_[0].split(',')\n",
    "        new_text_ = list(new_text_)\n",
    "\n",
    "        for y in range(len(new_text_)):\n",
    "            if new_text_[y].isdigit():\n",
    "                pass\n",
    "            else:\n",
    "                result = ''.join([i for i in new_text_[y] if not i.isdigit()])\n",
    "                node_list.append(result.replace('\\n',''))\n",
    "\n",
    "node_list = [name for name in node_list if name.strip()]\n",
    "node_list = [name.lstrip() for name in node_list]\n",
    "node_list = [name for name in node_list if name[0].isupper()]"
   ]
  },
  {
   "cell_type": "code",
   "execution_count": 12,
   "id": "7b527c6d",
   "metadata": {},
   "outputs": [
    {
     "data": {
      "text/plain": [
       "['Adjoint',\n",
       " 'Admissible sltbspace',\n",
       " 'Algebra',\n",
       " 'Algebraically closed field',\n",
       " 'Alternating n-linear function',\n",
       " 'Annihilator',\n",
       " 'Approximation',\n",
       " 'Associativity',\n",
       " 'Augmented matrix',\n",
       " 'Axiom of choice',\n",
       " 'Basis',\n",
       " 'Bessel’s inequality',\n",
       " 'Bilinear form',\n",
       " 'Cauchy-Schwars inequality',\n",
       " 'Cayley-Hamilton theorem',\n",
       " 'Cayley transform',\n",
       " 'Classical adjoint',\n",
       " 'Coefficients of polynomial',\n",
       " 'Cofactor',\n",
       " 'Column',\n",
       " 'Commutative',\n",
       " 'Companion matrix',\n",
       " 'Complementary subspace',\n",
       " 'Composition',\n",
       " 'Conductor',\n",
       " 'Congruence',\n",
       " 'Conjugate',\n",
       " 'Conjugation',\n",
       " 'Coset',\n",
       " 'Cramer’s rule',\n",
       " 'Cyclic',\n",
       " 'Degree',\n",
       " 'Dependence',\n",
       " 'Derivative of polynomial',\n",
       " 'Determinant function',\n",
       " 'Determinant rank',\n",
       " 'Diagonalization',\n",
       " 'Differential equations',\n",
       " 'Direct sum',\n",
       " 'Disjoint subspaces (see Independent',\n",
       " 'Dual',\n",
       " 'Eigenvalue (see Characteristic',\n",
       " 'Jordan matrix',\n",
       " 'Empty set',\n",
       " 'Entries of matrix',\n",
       " 'Equiva',\n",
       " 'Equivalent systems of equations',\n",
       " 'Euclidean space',\n",
       " 'Exterior (wedge) product',\n",
       " 'F”',\n",
       " 'F”',\n",
       " 'Factor.',\n",
       " 'Field',\n",
       " 'Finite-dimensional',\n",
       " 'Finitely generated module',\n",
       " 'Form',\n",
       " 'Hermitian t- tor)',\n",
       " 'Formal power series',\n",
       " 'Free module']"
      ]
     },
     "execution_count": 12,
     "metadata": {},
     "output_type": "execute_result"
    }
   ],
   "source": [
    "for i,node in enumerate(node_list):\n",
    "    node = ' '.join( [w for w in node.split() if len(w)>1] )\n",
    "    node = node.split(':')\n",
    "    node = node[0].replace('Index ','')\n",
    "    node_list[i] = node\n",
    "node_list"
   ]
  },
  {
   "cell_type": "code",
   "execution_count": null,
   "id": "2b3c4e36",
   "metadata": {},
   "outputs": [],
   "source": []
  }
 ],
 "metadata": {
  "kernelspec": {
   "display_name": "Python 3",
   "language": "python",
   "name": "python3"
  },
  "language_info": {
   "codemirror_mode": {
    "name": "ipython",
    "version": 3
   },
   "file_extension": ".py",
   "mimetype": "text/x-python",
   "name": "python",
   "nbconvert_exporter": "python",
   "pygments_lexer": "ipython3",
   "version": "3.9.7"
  }
 },
 "nbformat": 4,
 "nbformat_minor": 5
}
