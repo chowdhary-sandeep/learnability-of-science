{
 "cells": [
  {
   "cell_type": "code",
   "execution_count": 1,
   "id": "8bdaa43d-0d1e-4384-a33c-fe4c93a23782",
   "metadata": {},
   "outputs": [
    {
     "name": "stdout",
     "output_type": "stream",
     "text": [
      "415\n"
     ]
    },
    {
     "name": "stderr",
     "output_type": "stream",
     "text": [
      "PdfReadWarning: Xref table not zero-indexed. ID numbers for objects will be corrected. [pdf.py:1736]\n"
     ]
    }
   ],
   "source": [
    "import PyPDF2\n",
    "\n",
    "\n",
    "# creating an object \n",
    "file = open('Kenneth M Hoffman, Ray Kunze - Linear Algebra -Prentice Hall (1971).pdf', 'rb')\n",
    "\n",
    "\n",
    "\n",
    "# creating a pdf reader object\n",
    "fileReader = PyPDF2.PdfFileReader(file)\n",
    "\n",
    "\n",
    "\n",
    "# print the number of pages in pdf file\n",
    "print(fileReader.numPages)"
   ]
  },
  {
   "cell_type": "code",
   "execution_count": 11,
   "id": "23f3f0e2-1358-40ab-869d-39db773713cb",
   "metadata": {},
   "outputs": [
    {
     "name": "stdout",
     "output_type": "stream",
     "text": [
      "597\n"
     ]
    }
   ],
   "source": [
    "file = open('David J. Griffiths - Introduction to Electrodynamics (1999, Prentice-Hall) - libgen.lc.pdf', 'rb')\n",
    "fileReader = PyPDF2.PdfFileReader(file)\n",
    "print(fileReader.numPages)"
   ]
  },
  {
   "cell_type": "code",
   "execution_count": 14,
   "id": "66493413-265c-4874-81a5-8c6db4b6b35c",
   "metadata": {},
   "outputs": [
    {
     "name": "stdout",
     "output_type": "stream",
     "text": [
      "INDEXdielectric-filled,183discharging,290-291energyin,105-106,191parallel-plate,74,104,183,231,525Cartesiancoordinates,4,127,547-548Cauchy'sformula,404Causality,421,425,467,\n",
      "506Cavity:inconductor,99,117indielectric,177inmagneticmaterial,272-273resonant,415Centerofmomentum,511cgsunits,xv,327,559-562Charge:bound,166-173,186,328conservation(seeConservation)electric,xiv,58-59enclosed,68free,160,175,393induced,97-101invariance,525magnetic(seeMonopole)quantization,xiv,362Chargedensity:line,62surface,62,102volume,62Child-Langmuirlaw,108Circularpolarization,374Clausius-Mossottiequation,200Coaxialcable,75,411-412Coefficientof:absorption,402-403dispersion,404reflection,386,391-392refraction,404transmission,386,391-392Collidingbeam,515-516Collision:classical,483elastic,514relativistic,514-516Completeness,132563Complexnotation,369,378,\n",
      "382,401amplitude,369permittivity,402susceptibility,401wavenumber,402Component,5,39Comptonscattering,514-515Comptonwavelength,515Conductivity,285-286Conductor,96-103,160,285\"good\"and\"poor\",393perfect,285,334,341,405surfacechargeon,123,126,288Conservationlaws:global,xiv,345local(seeContinuityequation)relativistic,510-516Conservation,electrodynamic,345-363angularmomentum,358-361charge,xiv,214,327,354,538energy,346-349,386momentum,355-357,442Constitutiverelation,180,275,330,545Continuityequation,xiv,214-215,327,345-346,348,356,538-539Contravariantvector,50I,543Coordinates:Cartesian,4,548curvilinear,38,547-554cylindrical,43-45,548inversionof,12rotationof,10-12spherical,38-43,548translationof,12Cosines,lawof,3Coulomb(unit),59,559Coulombgauge,421,541Coulomb'slaw,xv,59,62magnetic,328Covariantvector,501,543Criticalangle,413Crossproduct,3,6Curiepoint,281Curl,16,19,552-553\n",
      "564inCartesiancoordinates,19incurvilinearcoordinates,553incylindricalcoordinates,44insphericalcoordinates,42ofA,234,416ofB,221-225ofD,l78ofE,65,76,\n",
      "302,330ofH,269,330Curl-lessfields,53,77-79Current,208-214bound,263-268,277displacement,323enclosed,222,225,269,\n",
      "322free,269,277induced,304polarization,329steady,215Currentdensity,211-214four-vector,537-538surface,211-212volume,212-213Curvilinearcoordinates,38,547-554Cutofffrequency,409-411Cycloidmotion,205-207,545Cyclotronmotion,205,519-520Cylindricalcoordinates,43-45,548D,(seeDisplacement,electric)d'Alembertian,422,542Deloperator,16Deltafunction:Dirac,45-52,157Kronecker,158,352Densityoffieldlines,65Derivative,13normal,90Diamagnetism,255,260-263,335,337Dielectric,160constant,180linear,179-196Diode,vacuum,107Dipole,electric,66,146,149-155energyof,inelectricfield,165INDEXenergyofinteractionoftwo,165fieldof:static,66,153-155oscillating,447forceon,164-165induced,160-163moment,149perfect,150,154permanent,163physical,150,154potentialof:static,146-147,149oscillating,446radiation,444-450runawaymotion,543torqueon,164Dipole,magnetic,243-246Amperemodel,258,284energyof,inmagneticfield,281energyofinteractionoftwo,282fieldof:static,246,253-254oscillating,453forceon,257-259,282-283Gilbertmodel,258,284,454moment,244,254ofelectron,252moving,544perfect,245-246physical,245-246potentialof:static,244,246oscillating,453radiation,451-455,459Thomson,362torqueon,255-257,259Dirac,P.A.M.,362Diracdeltafunction,45-52,157Dirichlet'stheorem,130Dischargeofcapacitor,290-291Discontinuity,inB,241,274inE,88-89Dispersion,398-405\n",
      "INDEXanomalous,403-404coefficient,404Displacementcurrent,323,325,330,\n",
      "339Displacement,electric,175-179Displacementvector:finite,1,8-9four-vector,502infinitesimal:Cartesian,9curvilinear,547cylindrical,44spherical,40Divergence,16,17,549-551four-dimensional,539inCartesiancoordinates,17incurvilinearcoordinates,550incylindricalcoordinates,44insphericalcoordinates,42ofA,234ofB,221-223,330ofD,329-330ofE,65,69ofH,273Divergencelessfields,54,240Divergencetheorem,31,551Domain,278-280Dotproduct,2,5,501Driftvelocity,234,289Drude,P.K.I.,289Dualtensor,537,545Dualitytransformation,342,454Dumbbellmodel,469-470Earnshaw'stheorem,115Earth'smagneticfield,216Eddycurrents,298-299,305Ehrenfest'sparadox,493Einstein,A.,303,478-479Einsteinsummationconvention,501Einsteinvelocityadditionrule,482-483,497-498Einstein'spostulates,477-482Elasticcollision,514Electret,170,178565Electric(seeCharge,Current,Dipole,placement,Energy,Field,Force,Polarization,Potential,tibility)Electricfield,58,61averageoverasphere,156-157curlof,65divergenceof,65Electricfieldof:dynamicconfigurations:arbitrarychargedistribution,427,457oscillatingelectricdipole,447oscillatingmagneticdipole,453parallel-platecapacitor,moving,525-526,533pointcharge,arbitrarymotion,\n",
      "438pointcharge,constantvelocity,439,527-528pointchargemovinginstraightline,441rotatingelectricdipole,450staticconfigurations:barelectret,170,178conductingsphereindielectricmedium,199conductingsphereinexternalfield,141-142continuouschargedistribution,61dielectriccylinderinexternalfield,190dielectricsphereinexternalfield,186-188dipole,153-155,157disk,64finiteline,62-63infinitecylinder,72infiniteplane,73infiniteline,63,75linecharge,62overlappingspheres,75,172parallel-platecapacitor,74pointchargedistribution,60\n",
      "566pointchargenearconductingplane,121-122pointchargeneardielectricplane,188-190polarizedobject,166-170ring,64sphere,64,70sphericalshell,64,75surfacechargedistribution,62unifonnlypolarizedcylinder,173unifonnlypolarizedobject,283unifonnlypolarizedsphere,168volumechargedistribution,62Electromagneticinduction,301-320mass,472paradox,472radiation,xiv,443spectrum,377waves,364-415Electromotance,293Electromotiveforce,285-300,314Electron,dipolemoment,252<,liscovery,208radiativetimeconstant,467spin,252,362Electrostatics,59,215,225,232-233Electrostaticpressure,103emf,285-300,314Enclosedcharge,68Enclosedcurrent,222,225,\n",
      "269,322Energy:conservation,346-349,386,510flux,347inelectricfield,346-348inmagneticfield,317-321,346ofcapacitor,106ofchargeinstaticfield,90-91ofcontinuouschargedistribution,93-95ofdipole,165,281-282ofelectromagneticwave,380-382ofinductor,317INDEXoflineardielectric,191-193ofpointchargedistribution,91ofpointchargenearconductingplane,124ofsphericalshell,94-95ofstaticchargedistribution,90Energydensity:electromagnetic,348,380electrostatic,93-96inlinearmedia,348magnetostatic,318-319ofelectromagneticwave,380-383Energy-momentumfour-vector,510Energy,relativistic,510kinetic,510rest,510Equipotential,79,97Equivalenceprinciple,476Ether,479-481drag,480wind,479-481Euler'sformula,369Evanescentwave,414Event,493Farad(unit),104Faraday,M.,xiii,301Faradaycage,101Faraday'slaw,301-310,321,336,\n",
      "378-379,540Ferromagneticdomain,278-280Ferromagnetism,255,278-282Feynmandiskparadox,359-361Field(seealsoElectric,Magnetic)electric,58averageoversphere,156-157curlof,65divergenceof,65inconductor,97,285-286induced,302,305-310macroscopic,173-175microscopic,173-175line,65-67magnetic,\n",
      "INDEXaverageoverasphere,253curlof,221-225divergenceof,221-223,330macroscopic,268microscopic,268point,9,60tensor,535-537,541theory,xiii,52-55,525Flux,electric,65,67magnetic,295,300Fluxdensity,271energy,347momentum,356Fluxintegral,24Fluxrule,296-298,302-303,478-479Force:density,351electric:betweenpointcharges,59,439onconductor,102-103ondielectric,193-196,199onelectricdipole,164-165onpointchargeinfield,60,204onpointchargenearconductingplane,123-124onpointchargeneardielectricplane,188-190onsurfacecharge,102-103electromagnetic:betweenpointcharges,439Lorentz,204,209,\n",
      "519magnetic:betweencurrentloops,250betweenmonopoles,328betweenparallelcurrents,202-204,217,220,522-525betweenparallelplanes,231oncurrent,209,211-212onmagneticdipole,257-259,282onmagnetizedmaterial,262onpointcharge,204Minkowski,518-519,521,540,\n",
      "543relativistic,516567Fourierseries,130Fouriertransform,370,412Fourier'strick,130,140Fourvector,500-502acceleration,521charge/current,537-538displacement,502energy/momentum,510gradient,543Minkowskiforce,518,521,540,543position/time,500potential,541-543velocity,507-508Freecharge,175,186,393Freecurrent,269,277Fresnelequations,390-392Fringingfield,194-195Fundamentaltheoremofcalculus,28forcurls,34fordivergences,31,551forgradients,29,548Future,504Galileantransformation,494,502Galileo,477Galileo'sprincipleofrelativity,477Galileo'svelocityadditionrule,482Gauge:Coulomb,421,541invariance,542Lorentz,421-422,542transformation,419-420Gauss(unit),216,560Gaussian:\"pillbox\",72-73surface,70-73units,xv,327,559-562Gauss'slaw,65,67-69,232,321,539applicationsof,70insidematter,175-177symmetryfor,71Gauss'stheorem,31Gedankenexperiment,483GeneralizedCoulombfield,438\n",
      "568Generator,294-300Gilbertdipole,258,284,\n",
      "454Globalconservationlaw,xiv,345Gradient,13,14,548four-dimensional,543inCartesiancoordinates,13,14incurvilinearcoordinates,548incylindricalcoordinates,44insphericalcoordinates,42theorem,29,548Green'sidentity,56,121Green'sreciprocitytheorem,157-158Green'stheorem,31,56Ground,118Groupvelocity,399,410Guidedwave,405-412Gyromagneticratio,252H,269-274Halleffect,247Harmonicfunction,111Beaviside-Lorentzunits,xv,561Helicalmotion,205Helmholtzcoil,249Helmholtztheorem,52-53,555-557Henry(unit),313Hertz,H.,xiii,323Hiddenmomentum,357,361,520-521Homogeneousmedium,182Horizon,434-435Hyperbolicgeometry,505-506motion,434,441,476,\n",
      "509,516,543Hysteresis,280-281Images,methodof,121-125andconductingplane,165parallelcylinders,127pointchargeandconductingplane,121-124,475pointchargeandconductingsphere,124-126pointchargeanddielectricplane,190INDEXIncidence:angleof,388planeof,387-388Incidentwave,370,384Indexofrefraction,383,388,\n",
      "398,403Inducedcharge,97-101,123,126current,304dipole,160-163electricfield,305-310emf,302Inductance,310-316mutual,310-312,321self,313-315Induction,271,301-320Inertialsystem,477Inhomogeneouswaveequation,422Isotropicmedium,184Insulator,96,160Integrationbyparts,37Intensity,381Internal293Internalreflection,413Interval,spacetime,502-503lightlike,503,505-506spacelike,503,505-506timelike,503,505-506Invarianceofcharge,525ofmass,511time-reversal,425Invariant,501,511,534,\n",
      "537interval,501-503product,501Inversion,12,412Irrotationalfield,53,77-79Isotropicmedium,184Jefimenko'sequations,427-429Jouleheatinglaw,290Jumpingring,304-305Kineticenergy,510Kroneckerdelta,158,352\n",
      "INDEXLCcircuit,316Langevinequation,200-201Laplace'sequation,83,110-114,116inonedimension,111-112inthreedimensions,114,116intwodimensions,112-114Laplacian,23inCartesiancoordinates,22,111incurvilinearcoordinates,235,554incylindricalcoordinates,44insphericalcoordinates,42ofA,235ofascalar,23ofV,83,87,110ofavector,23,235Larmorformula,458,462Lawofcosines,3Left-handedcoordinates,6Legendrepolynomials,138,148Lenz'slaw,303-304Levi-Civitasymbol,283Levitation,335-336Lienardformula,463,545Lienard-Wiechertpotentials,429-434Lifetime,486,488Light,364-415cone,504speedof,linearmedium,383universal,481vacuum,376,480-481Lightlikeinterval,503Linecharge,62Linecurrent,208-209Lineelement:Cartesian,9curvilinear,547cylindrical,44spherical,40Lineintegral,24Linearcombination,130,369-370Linearequation,130,367Linearmedium,382-384electric,179-196569magnetic,274-277Linearpolarization,374Localconservation(seeContinuity)Longitudinalwave,373Lorentzcontraction,481,489-493,497paradox,490-491Lorentzforcelaw,202-214,232,519,540,545Lorentzgauge,421-422,426,542Lorentztransformation,493,500,543Lorentz,H.A.,xiii,469,481Lorentz-Lorenzequation,200Macroscopicfield,173-175,268Magnet,265,274Magnetic(seeCharge,Dipole,Energy,Field,Flux,Force,tion,Potential,Susceptibility)Magneticfield,202-204,271,522averageoverasphere,253curlof,221-225divergenceof,221-223,330insuperconductor,325ofearth,216Magneticfieldof:dynamicconfigurations:arbitrarychargedistribution,428,457chargingcapacitor,324-325oscillatingelectricdipole,447oscillatingmagneticdipole,453parallel-platecapacitor,moving,528-530pointcharge,arbitrarymotion,\n",
      "219,435-439pointcharge,constantvelocity,440,532solenoid,moving,530-531staticconfigurations:barmagnet,265,274circularloop,218dipole,246,253-254finitesolenoid,220finitestraightline,216\n",
      "570incavity,272-273infiniteplane,226infinitesolenoid,220,227,232,249infinitestraightline,217,221,226magnetizedobject,263-264,268solenoidfilledwithmagneticma-terial,275-276sphereoflinearmaterialinexter-nalfield,277spinningsphere,237,240,\n",
      "253toroidalcoil,229-230uniformlymagnetizedcylinder,265uniformlymagnetizedobject,288uniformlymagnetizedsphere,264-265Magneticinduction,271,301-320Magneticmonopole,232-233,248,258,\n",
      "327-328,342,546Magneticsusceptibility,274-275Magnetism,522-525Magnetization,255-263,328-330Magnetomechanicalratio,252Magnetostatics,215,225,232,240,339Mass:electromagnetic,472relativistic,510renormalization,472rest,510Masslessparticle,512-515Matrix:Lorentztransformation,500rotation,11Maxwell,J.c.,xiii,321-323,376Maxwell'sequations,232,321,539,542ingaussianunits,561insidematter,328-330invacuum,327tensorform,539withmagneticmonopoles,327,546Maxwellstresstensor,351-355Meissnereffect,325Merzbacher'spuzzle,340INDEXMethod(seeImages,Relaxation,Separa-tionofvariables)Michelson-Morleyexperiment,480-481Microscopicfield,173-175,268Minkowski,H.,504Minkowskiconstitutiverelations,545diagram,503force,518-519,521-522,540,543mksunits,xv,327,559-562Momentum:angular,358-361conservation,355-357,442,510density,355-356,380flux,356four-vector,510hidden,357,361,520-521inelectromagneticfield,349-357inelectromagneticwave,380-382relativistic,509-511Monochromaticwave,376-380Monopole:electric,147,149,458magnetic,232-233,\n",
      "243,248,\n",
      "328,342,362,546Motionalemf,294-300,478-479Multipoleexpansion:ofelectrostaticpotential,146-152ofmagnetostaticpotential,242ofradiationfields,458Mutualinductance,310-312,321Neumannformula,311Newton'slaws:first,477second,472,516third,349-351,442,469,517-518Normalderivative,90Normalincidence,384-386Normalvector,26,89,241,332Obliqueincidence,386-392Observer,484Octopole,147,151,159,458\n",
      "INDEXOersted,c.,xiii,536Ohm(unit),287Ohm'slaw,285-291Operator,16Ordinaryacceleration,521force,516,519velocity,507-508Orthogonalcoordinates,547Orthogonalfunctions,130,132,\n",
      "140Orthogonality,130,132,\n",
      "140Paradox(seeBarnandladder,Ehrenfest,Electromagneticmass,Feynmandisk,Lorentzcontraction,Merzbacher,Timedilation,Twin)Parallel-platecapacitor,74,104-105,183,231,525-526Paramagnetism,255-257,263Past,504Pathindependence,24-25,30,53,78Pathintegral,24Perfectconductor,285,334,341,405Permanentmagnet,265,280Permeability,216,274-275,278,545offreespace,216,275relative,275Permittivity,180,545complex,402offreespace,59,180relative,180Phase,367constant,367,395-396transition,281velocity,399,410Photon,504,513-515Pillbox,72-73Pincheffect,247Planckformula,513Plane:ofincidence,387-388ofpolarization,386wave,376-380Plasma,247,341571Pointcharge(seeElectric,Force,netic,Monopole,Potential)Poisson'sequation,83,110,235,274forA,235forV,83,87,\n",
      "110Polarangle,38Polarmolecule,163Polarizability,atomic,161tensor,162-163Polarization(ofamedium),161,166current,329electric,161,166,328-330induced,161magnetic(seeMagnetization)Polarization(ofawave),373-375angle,374circular,374linear,374vector,374Pole(magnetic),232-233,248,258Positionvector,8-9Position-timefour-vector,500Postulates,Einstein's,477-482Potential(seealsoScalar,Vector),557advanced,425electric,77-82four-vector,541-543inelectrodynamics,416-422Lienard-Wiechert,429-434magneticscalar,236,239,\n",
      "251magneticvector,234-246,252retarded,422-427Potentialenergy,79ofachargeconfiguration,93ofapointcharge,91Power:dissipatedinresistor,290,348inelectromagneticwave,381radiatedby:arbitrarysource,457-458oscillatingelectricdipole,448,454oscillatingmagneticdipole,453-454\n",
      "572pointcharge,460-465Poynting'stheorem,346-349Poyntingvector,347,380-383Preacceleration,467,469,475Present,504Pressure:electromagnetic,353electrostatic,103radiation,382Principle(seeEquivalence,Relativity,Su-perposition)Productrules,20Propagationvector,379Properacceleration,521time,507-509velocity,507-509Pseudoscalar,12Pseudovector,12,204Pulsar,474Quadrupole:electric,147,150-151,158,459magnetic,243moment,158radiation,458-459Quantizationofcharge,xiv,362Quasistatic,308-309,429Quotientrules,21RCcircuit,290-291RLcircuit,320Radiation,443-476damping,468electromagnetic,xiv,443-444,460field,438,460pressure,382reaction,465-473,476resistance,450,454synchrotron,465zone,446,453,\n",
      "456Radiationby:arbitrarysource,454-459electricdipole,444-450INDEXelectricquadrupole,458-459magneticdipole,451-454,473-474pointcharge,460-465inhyperbolicmotion,476rotatingelectricdipole,450surfacecurrent,474-475Rapidity,502Referencepoint:forelectricdipole,151-152formagneticdipole,245forpotential,78,80,82Reflection,384-392angleof,388atconductingsurface,396-398coefficient,386,391-392internal,413lawof,388wavesonastring,370-373Refraction,384-392angleof,388coefficientof,404indexof,383,398,\n",
      "403lawof,388Relativistic,constitutiverelations,545dynamics,516-522electrodynamics,522-543energy,509-511kinematics,511-516mass,510mechanics,507-522momentum,509-511potentials,541-543Relativity:ofsimultaneity,483-484,496-497principleof,477-483special,xi,477-546Relaxation,methodof,113Renormalization,ofcharge,183ofmass,472Resistance,287Resistivity,285-286Resistor,286\n",
      "INDEXResonantcavity,415Restenergy,510Restmass,510Retardedposition,429-432potentials,422-427time,423Reversionofseries,471Righthandrule,3Right-handedcoordinates,6Rogriguesformula,138,144Rotation,10Rotationmatrix,11Runawaymotion,467,469,\n",
      "543Saturation,280Scalar,1Scalarpotential,53,416-442dynamicconfigurations:arbitrarychargedistribution,423,456oscillatingelectricdipole,446oscillatingmagneticdipole,451pointcharge,arbitrarymotion,432pointcharge,constantvelocity,433-434staticconfigurations:averageoverasphere,114-115conductingsphereinexternalfield,141-142continuouschargedistribution,83-84disk,86electricdipole,149finitecylinder,87infiniteline,\n",
      "85-86multipoleexpansion,146-152pointcharges,84polarizedmatter,166-170ring,86specifiedchargeonsurfaceofsphere,142-143specifiedelectricfield,78,251573specifiedpotentialonsurfaceofsphere,139-140sphericalshell,81,85,\n",
      "144surfacecharge,85uniformlychargedobject,283uniformlychargedsphere,82,87uniformlypolarizedsphere,168-169,172volumecharge,84Scalarpotential,magnetic,236,239,251,274Scalarproduct,2,5,7,501-502Secondderivative,22-23Second-ranktensor,11-12,535Self-force,469-472Self-inductance,312-315Semiconductor,286Separationofvariables,127-145Cartesiancoordinates,127-136cylindricalcoordinates,145sphericalcoordinates,137-145Separationvector,ix,9,15,59,224Shear,353Shielding,183Simultaneity,483-484,496-497Sinusoidalwaves,367-370SIunits,xv,327,559-562Skindepth,394Sky,bluenessof,449Snell'slaw,388Solenoid,220,227-228Solenoidalfield,54,240Sourcecharge,9,58-59,202Sourcepoint,9,60Spacecharge,107Spacelikeinterval,503Spacetime:diagram,503-506interval,502-503structure,500-506Specialrelativity,xi,477-546Spectrum,electromagnetic,377Speed,ofchargesinwire,234,289\n",
      "574oflightinlinearmedium,383oflightinvacuum,376,480-481ofwavesonastring,366Sphericalcoordinates,38-43Sphericalwave,412Standingwave,367,410Stationarycharge,59,215Steadycurrent,215Stepfunction,49Stokes'theorem,34,552-554Stress,353Stresstensor,351-355String,waveson,364-374Summationconvention,501-502Sun,ageof,109Sunset,rednessof,449Superconductor,335Superlurninalvelocity,399,484-485Superpositionprinciple,58,81,96Surfacecharge,62,102-103,288Surfacecurrent,211-212Surfaceelement,26,40Surfaceintegral,24,26Susceptibility:complex,401electric,179,200magnetic,274-275,\n",
      "278tensor,184Symmetrictensor,535,537Symmetry:azimuthal,137duality,342forAmpere'slaw,229forGauss'slaw,71ofE,B,D,andH,283ofMaxwell'sequation,327-328Synchronization,484,487-488,496Synchrotronradiation,465TEwaves,407-411TEMwaves,407Tensor,11-12antisymmetric,535,537contravariant,537INDEXcovariant,537dual,537,545field,535-537polarizability,162-163second-rank,11-12,535stress,351-355susceptibility,184symmetric,535,537Terminalvelocity,300,336Tesla(unit),216,560Testcharge,58-59,202Thetafunction,49Thirdlaw,349-351,442,469,517-518Thompson-Lampardtheorem,159Thomsondipole,362Three-dimensionalwaveequation,376Threshold,543Time,advanced,425constant,291,315,393,467dilation,485-489,496-497paradox,487retarded,423reversal,425Timelikeinterval,503TMwaves,407Toroidalcoil,229-230,320Torque:onelectricdipole,164onmagneticdipole,255-257,259Totalinternalreflection,413Transformation:duality,342,454Galilean,494,502gauge,419-420Lorentz,493-498,500-501,543ofangles,493,499ofchargeandcurrentdensity,538ofelectromagneticfields,525-532offorces,518oflengths,489-493,497ofmomentumandenergy,510ofvelocity,508Transformer,338\n",
      "INDEXTranslation,12Transmission:coefficient,386,391-392line,340,411-412ofwavesonastring,370-373Transparency,383Transversewave,373-375,378,394Trianglediagram:electrodynamics,441electrostatics,87magnetostatics,240,250-251Tripleproduct,7Tunneling,414,475-476Twinparadox,488,499Uniformlymagnetizedcylinder,265magnetizedobject,283,288magnetizedsphere,264-265movingcharge,440,532polarizedcylinder,173polarizedobject,167,283polarizedsphere,168-170Uniquenesstheorem,116-120,198,252Units,559-562ampere,208,216coulomb,59,559esu(electrostaticunit),559-560farad,104gauss,216,560henry,313ohrp,287tesla,216560volt,81Unitsystems(seeGaussian,Lorentz,SI)Unitvectors,ix,3-4,9,39,42Cartesian,4curvilinear,39,547cylindrical,43normal,89spherical,38,42Universalspeedoflight,481575Vacuumpolarization,183Vector,1addition,2,5area,57,244component,5,39contravariant,501covariant,501displacement,1,8-9four-,500-502magnitude,1operator,16polarization,374position,8product,cross,3,6dot,2,5scalar,2,5,501-502vector,3,6propagation,379pseudo-,12,204separation,ix,9,15,59-60,224subtraction,2tripleproducts,7unit,(seeUnitvectors)Vectorpotential,54,234-246,416-442of,238dynamicconfigurations:arbitrarychargedistribution,423,456oscillatingelectricdipole,446,oscillatingmagneticdipole,453pointcharge,arbitrarymotion,433pointcharge,constantvelocity,433-434staticconfigurations:arbitrarycurrentconfiguration,235-236fillitelinecurrent,239infinitelinecurrent,239infiniteplanecurrent,239infinitesolenoid,238magneticdipole,244-246magnetizedmaterial,263-264multipo'leexpansion,242-246\n",
      "576specifiedmagneticfield,251spinningsphere,236-237,253uniformmagneticfield,239Velocity:additionrules,482-483,497-498drift,234,289field,438,460four-,507-509group,399oflightinlinearmedium,383oflightinvacuum,376,480-481ordinary,507phase,399proper,507wavesonastring,366wave,399Visiblerange,377Volt(unit),81Voltmeter,337Volume:charge,62current,212integral,24,27Volumeelement,Cartesian,27curvilinear,549cylindrical,44spherical,40Wave:complex,369guide,405,408length,368number,368vector,379velocity,366,376,\n",
      "399Waveequation,364-367,375-376forA,422forB,375-376forE,375-376forV,422generalsolution,367homogeneous,366,376inhomogeneous,422INDEXone-dimensional,366three-dimensional,376Waves:dispersive,398electromagnetic,364-415evanescent,414guided,405-412inconductors,392-398infreespace,375-382inlinearmedia,382-392longitudinal,373monochromatic,376onastring,364-367plane,376-380sinusoidal,367-370spherical,412standing,367,410transverse,373-375,378water,404Work:andemf,295,317andpotential,90-91-energytheorem,516relativistic,516Workdone(seealsoEnergy):againstbackemf,317bymagneticforce,207,210-211inchargingacapacitor,105-106insettingupachargeconfiguration,91-93inmovingacharge,90-91inmovingadielectric,194-196inmovingawireloop,294-296inpolarizingadielectric,191-193Worldline,503-504\n"
     ]
    }
   ],
   "source": [
    "# fileReader\n",
    "for x in range(1,fileReader.numPages):\n",
    "    pageObj = fileReader.getPage(x)\n",
    "    text_=pageObj.extractText()\n",
    "    if 'INDEX' in text_ :\n",
    "#     text_=text_.replace('Index','')\n",
    "#         text_=text_.replace('Ex.','')\n",
    "#         text_=text_.replace('( ','(')\n",
    "#         text_=text_.replace('( ','(')\n",
    "#         text_=text_.replace('() ',',')\n",
    "#     text_=text_.lower()\n",
    "#         text_ = ''.join([i for i in text_ if not i.isdigit()])\n",
    "#         text_=text_.split(' ')\n",
    "#         text_=[x for x in text_ if len(x)>1]\n",
    "#         xx=''\n",
    "#         for x in text_ :\n",
    "#             if len(x)>1:\n",
    "#                 xx=xx+' '+x\n",
    "\n",
    "#         print(xx)\n",
    "        print(text_)\n"
   ]
  },
  {
   "cell_type": "code",
   "execution_count": null,
   "id": "4903acb6-21e3-4a47-8cc5-05504309eadd",
   "metadata": {},
   "outputs": [],
   "source": []
  },
  {
   "cell_type": "code",
   "execution_count": null,
   "id": "48d77612-867e-48c5-8bd7-e443066ec13a",
   "metadata": {},
   "outputs": [],
   "source": []
  }
 ],
 "metadata": {
  "kernelspec": {
   "display_name": "Python 3",
   "language": "python",
   "name": "python3"
  },
  "language_info": {
   "codemirror_mode": {
    "name": "ipython",
    "version": 3
   },
   "file_extension": ".py",
   "mimetype": "text/x-python",
   "name": "python",
   "nbconvert_exporter": "python",
   "pygments_lexer": "ipython3",
   "version": "3.9.2"
  }
 },
 "nbformat": 4,
 "nbformat_minor": 5
}
