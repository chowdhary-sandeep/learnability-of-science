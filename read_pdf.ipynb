{
 "cells": [
  {
   "cell_type": "code",
   "execution_count": 53,
   "id": "8bdaa43d-0d1e-4384-a33c-fe4c93a23782",
   "metadata": {},
   "outputs": [],
   "source": [
    "import PyPDF2\n",
    "import matplotlib.pyplot as plt\n",
    "\n",
    "\n",
    "%matplotlib inline\n",
    "plt.rcParams.update({'font.size': 8, 'font.style': 'normal', 'font.family':'serif'})\n",
    "%config InlineBackend.figure_format = 'svg'\n",
    "\n",
    "def simpleaxis(ax,xlab_,ylab_):\n",
    "    ax.spines['top'].set_visible(False)\n",
    "    ax.spines['right'].set_visible(False)\n",
    "    ax.get_xaxis().tick_bottom()\n",
    "    ax.get_yaxis().tick_left()\n",
    "    ax.set_xlabel(xlab_,fontsize=ff) \n",
    "    ax.set_ylabel(ylab_,fontsize=ff)        \n",
    "    plt.tight_layout()\n",
    "\n",
    "# # creating an object \n",
    "# file = open('Kenneth M Hoffman, Ray Kunze - Linear Algebra -Prentice Hall (1971).pdf', 'rb')\n",
    "\n",
    "\n",
    "\n",
    "# # creating a pdf reader object\n",
    "# fileReader = PyPDF2.PdfFileReader(file)\n",
    "\n",
    "\n",
    "\n",
    "# # print the number of pages in pdf file\n",
    "# print(fileReader.numPages)"
   ]
  },
  {
   "cell_type": "code",
   "execution_count": 54,
   "id": "a3a2f526-04c4-4f76-ace7-858ac6ce1786",
   "metadata": {},
   "outputs": [],
   "source": [
    "# from statannotations.Annotator import Annotator\n"
   ]
  },
  {
   "cell_type": "code",
   "execution_count": null,
   "id": "0c612be8-cb3a-4122-b0b7-78cc4ad9775f",
   "metadata": {},
   "outputs": [],
   "source": [
    "\n"
   ]
  },
  {
   "cell_type": "code",
   "execution_count": 55,
   "id": "23f3f0e2-1358-40ab-869d-39db773713cb",
   "metadata": {},
   "outputs": [],
   "source": [
    "# file = open('David J. Griffiths - Introduction to Electrodynamics (1999, Prentice-Hall) - libgen.lc.pdf', 'rb')\n",
    "# fileReader = PyPDF2.PdfFileReader(file)\n",
    "# print(fileReader.numPages)"
   ]
  },
  {
   "cell_type": "code",
   "execution_count": 56,
   "id": "c80a49cc-50d5-4a94-a3ae-0e79619a7982",
   "metadata": {},
   "outputs": [],
   "source": [
    "# import PyPDF2\n",
    "\n",
    "# def Read(startPage, endPage):\n",
    "#     global text\n",
    "#     text = []\n",
    "#     cleanText = \"\"\n",
    "# import PyPDF2\n",
    "\n",
    "# def Read(startPage, endPage):\n",
    "#     global text\n",
    "#     text = []\n",
    "#     cleanText = \"\"\n",
    "#     pdfFileObj = open('David J. Griffiths - Introduction to Electrodynamics (1999, Prentice-Hall) - libgen.lc.pdf', 'rb')\n",
    "#     pdfReader = PyPDF2.PdfFileReader(pdfFileObj)\n",
    "#     while startPage <= endPage:\n",
    "#         pageObj = pdfReader.getPage(startPage)\n",
    "#         text += pageObj.extractText()\n",
    "#         startPage += 1\n",
    "#     pdfFileObj.close()\n",
    "#     for myWord in text:\n",
    "#         if myWord != '\\n':\n",
    "#             cleanText += myWord\n",
    "#     text = cleanText.split()\n",
    "#     return text\n",
    "\n",
    "\n",
    "\n"
   ]
  },
  {
   "cell_type": "code",
   "execution_count": null,
   "id": "4c144708-f0bf-4d82-b701-82c9ea6cebc5",
   "metadata": {},
   "outputs": [],
   "source": []
  },
  {
   "cell_type": "code",
   "execution_count": 57,
   "id": "66493413-265c-4874-81a5-8c6db4b6b35c",
   "metadata": {},
   "outputs": [
    {
     "name": "stdout",
     "output_type": "stream",
     "text": [
      "[' ', 'A  Bessel’s  inequality,      ', 'Bilinear  form,     ,    ,     ', 'Adjoint  ', 'diagonalization  of,     ', 'classical,     ,      ', 'group  preserving,      ', 'of transformation,      ', 'matrix  of,     ', 'Admissible  sltbspace,      ', 'non-degenerate  (non-singular),      ', 'Algebra,      ', 'positive  definite,      ', 'of formal  power  series,      ', 'rank  of,     ', 'self-adjoint,      ', 'signature  of,     ', 'Algebraically  closed  field,      ', 'skew-symmetric,      ', 'Alternating  n-linear  function,     ,     ', 'symmetric,      ', 'Annihilator  ', 'of subset,      ', 'of sum  and intersection,     (Ex.    ) ', 'C ', 'of vector  (T-annihilator),     ,     ,      ', 'Approximation,      ', 'Cauchy-Schwars  inequality,      ', 'Associativity,    ', 'Cayley-Hamilton  theorem,     ,     ', 'of matrix  multiplicat,ion,    ,    ', 'of vector  addition,      Cayley  transform,     (Ex.   ) ', 'Augmented  matrix,      Characteristic  ', 'Axiom  of choice,       of a field,    ', 'polynomial,      ', 'space,      ', 'B  value,     ,      ', 'vector,      ', 'Basis,      Classical  adjoint,     ,     ', 'change  of,      Coefficients  of polynomial,      ', 'dual,    ,      Cofactor,      ', 'for  module,       Column  ', 'ordered,      equivalence,      ', 'orthonormal,       operations,    ,     ', 'standard  basis  of P,      rank,    ,     ', '    ']\n",
      "['A  Bessel’s  inequality,      ', 'Bilinear  form,     ,    ,     ', 'Adjoint  ', 'Admissible  sltbspace,      ', 'Algebra,      ', 'Algebraically  closed  field,      ', 'Alternating  n-linear  function,     ,     ', 'Annihilator  ', 'C ', 'Approximation,      ', 'Cauchy-Schwars  inequality,      ', 'Associativity,    ', 'Cayley-Hamilton  theorem,     ,     ', 'Augmented  matrix,      Characteristic  ', 'Axiom  of choice,       of a field,    ', 'B  value,     ,      ', 'Basis,      Classical  adjoint,     ,     ']\n"
     ]
    }
   ],
   "source": [
    "# fileReader\n",
    "import re\n",
    "import pdfplumber\n",
    "\n",
    "# file = pdfplumber.open('David J. Griffiths - Introduction to Electrodynamics (1999, Prentice-Hall) - libgen.lc.pdf')\n",
    "file = pdfplumber.open('Kenneth M Hoffman, Ray Kunze - Linear Algebra -Prentice Hall (1971).pdf')\n",
    "\n",
    "\n",
    "\n",
    "for x in range(400,500):\n",
    "#     Read(x,x+1)\n",
    "#     text_=pageObj.extractText()\n",
    "    text_=file.pages[x].extract_text()\n",
    "    \n",
    "    if 'Index' in text_ :\n",
    "        text_=text_.replace('Index','')\n",
    "        text_=text_.replace('INDEX','')\n",
    "# #         text_=text_.replace('Ex.','')\n",
    "# #         text_=text_.replace('( ','(')\n",
    "# #         text_=text_.replace('( ','(')\n",
    "# #         text_=text_.replace('() ',',')\n",
    "# #     text_=text_.lower()\n",
    "        text_ = ''.join([i if not i.isdigit() else ' ' for i in text_])\n",
    "\n",
    "        text_=text_.replace(':', ' ')\n",
    "#         text_=re.split(' ',text_)\n",
    "\n",
    "#         text_=[x for x in text_ if len(x)>1]\n",
    "# # #         xx=''\n",
    "# #         for x in text_ :\n",
    "# #             if len(x)>1:\n",
    "#                 xx=xx+' '+x\n",
    "        text_=text_.split('\\n')\n",
    "\n",
    "        text_=[x.replace('\\n','') for x in text_]\n",
    "        print(text_)\n",
    "#         text_=[x for x in text_ if len(x)>2]\n",
    "        print([x for x in text_ if x[0].isupper()==1])\n",
    "        break\n"
   ]
  },
  {
   "cell_type": "code",
   "execution_count": 58,
   "id": "4903acb6-21e3-4a47-8cc5-05504309eadd",
   "metadata": {},
   "outputs": [
    {
     "data": {
      "text/plain": [
       "'Algebra,      '"
      ]
     },
     "execution_count": 58,
     "metadata": {},
     "output_type": "execute_result"
    }
   ],
   "source": [
    "text_[11]"
   ]
  },
  {
   "cell_type": "code",
   "execution_count": 59,
   "id": "48d77612-867e-48c5-8bd7-e443066ec13a",
   "metadata": {},
   "outputs": [],
   "source": [
    "#         text_=[x for x in text_ if len(x)>1]\n",
    "# # #         xx=''\n",
    "# #         for x in text_ :\n",
    "# #             if len(x)>1:\n",
    "#                 xx=xx+' '+x"
   ]
  },
  {
   "cell_type": "code",
   "execution_count": 60,
   "id": "0b8c693c",
   "metadata": {},
   "outputs": [],
   "source": [
    "x0 = 0    # Distance of left side of character from left side of page.\n",
    "x1 = 0.4  # Distance of right side of character from left side of page.\n",
    "y0 = 0  # Distance of bottom of character from bottom of page.\n",
    "y1 = 1  # Distance of top of character from bottom of page.\n",
    "\n",
    "import pdfplumber\n",
    "\n",
    "# file = pdfplumber.open('Kenneth M Hoffman, Ray Kunze - Linear Algebra -Prentice Hall (1971).pdf')\n",
    "file = pdfplumber.open('Linear Algebra, 2Nd Edition - Kenneth Hoffmann And Ray Kunze.pdf')\n",
    "\n",
    "node_list = []\n",
    "\n",
    "\n",
    "for x in range(400,415):\n",
    "    all_content = []\n",
    "    page = file.pages[x]\n",
    "    \n",
    "    width = page.width\n",
    "    height = page.height\n",
    "\n",
    "    # Crop pages\n",
    "    left_bbox = (0*float(width), y0*float(height), x1*float(width), y1*float(height))\n",
    "    page_crop = page.crop(bbox=left_bbox)\n",
    "    left_text = page_crop.extract_text()\n",
    "\n",
    "    right_bbox = (x1*float(width), y0*float(height), 1*float(width), y1*float(height))\n",
    "    page_crop = page.crop(bbox=right_bbox)\n",
    "    right_text = page_crop.extract_text()\n",
    "    page_context = '\\n'.join([left_text, right_text])\n",
    "    all_content.append(page_context)\n",
    "\n",
    "    text_=all_content#.extract_text()\n",
    "\n",
    "    if 'Index' in text_[0]:\n",
    "        new_text_ = text_[0].split(',')\n",
    "        new_text_ = list(new_text_)\n",
    "\n",
    "        for y in range(len(new_text_)):\n",
    "            if new_text_[y].isdigit():\n",
    "                pass\n",
    "            else:\n",
    "                result = ''.join([i for i in new_text_[y] if not i.isdigit()])\n",
    "                node_list.append(result.replace('\\n',''))\n",
    "\n",
    "node_list = [name for name in node_list if name.strip()]\n",
    "node_list = [name.lstrip() for name in node_list]\n",
    "node_list = [name for name in node_list if name[0].isupper()]"
   ]
  },
  {
   "cell_type": "code",
   "execution_count": 61,
   "id": "7b527c6d",
   "metadata": {},
   "outputs": [],
   "source": [
    "for i,node in enumerate(node_list):\n",
    "    node = ' '.join( [w for w in node.split() if len(w)>1] )\n",
    "    node = node.split(':')\n",
    "    node = node[0].replace('Index ','')\n",
    "    node_list[i] = node\n"
   ]
  },
  {
   "cell_type": "code",
   "execution_count": 62,
   "id": "2b3c4e36",
   "metadata": {},
   "outputs": [],
   "source": [
    "page_list = [[] for i in range(192)] \n",
    "node_list=[x.lower() for x in node_list]\n",
    "\n",
    "dict_node_appearances={};\n",
    "for node in node_list:\n",
    "    dict_node_appearances[node]=[] \n",
    "    \n",
    "for x in range(400):\n",
    "    text_=file.pages[x].extract_text();    text_=text_.replace('\\n','');     text_=text_.lower()\n",
    "    for node in node_list:    \n",
    "        if node in text_:             \n",
    "            dict_node_appearances[node].append(x)\n",
    "\n"
   ]
  },
  {
   "cell_type": "code",
   "execution_count": null,
   "id": "6f701e9d-e08a-44c1-bde8-0da85bb5589f",
   "metadata": {},
   "outputs": [],
   "source": []
  },
  {
   "cell_type": "code",
   "execution_count": 63,
   "id": "7f9ee52d",
   "metadata": {},
   "outputs": [
    {
     "data": {
      "image/svg+xml": "<?xml version=\"1.0\" encoding=\"utf-8\" standalone=\"no\"?>\n<!DOCTYPE svg PUBLIC \"-//W3C//DTD SVG 1.1//EN\"\n  \"http://www.w3.org/Graphics/SVG/1.1/DTD/svg11.dtd\">\n<svg xmlns:xlink=\"http://www.w3.org/1999/xlink\" width=\"549.453125pt\" height=\"276.9909pt\" viewBox=\"0 0 549.453125 276.9909\" xmlns=\"http://www.w3.org/2000/svg\" version=\"1.1\">\n <metadata>\n  <rdf:RDF xmlns:dc=\"http://purl.org/dc/elements/1.1/\" xmlns:cc=\"http://creativecommons.org/ns#\" xmlns:rdf=\"http://www.w3.org/1999/02/22-rdf-syntax-ns#\">\n   <cc:Work>\n    <dc:type rdf:resource=\"http://purl.org/dc/dcmitype/StillImage\"/>\n    <dc:date>2022-06-26T22:58:07.837783</dc:date>\n    <dc:format>image/svg+xml</dc:format>\n    <dc:creator>\n     <cc:Agent>\n      <dc:title>Matplotlib v3.5.1, https://matplotlib.org/</dc:title>\n     </cc:Agent>\n    </dc:creator>\n   </cc:Work>\n  </rdf:RDF>\n </metadata>\n <defs>\n  <style type=\"text/css\">*{stroke-linejoin: round; stroke-linecap: butt}</style>\n </defs>\n <g id=\"figure_1\">\n  <g id=\"patch_1\">\n   <path d=\"M 0 276.9909 \nL 549.453125 276.9909 \nL 549.453125 0 \nL 0 0 \nL 0 276.9909 \nz\n\" style=\"fill: none\"/>\n  </g>\n  <g id=\"axes_1\">\n   <g id=\"patch_2\">\n    <path d=\"M 43.148125 170.432 \nL 542.253125 170.432 \nL 542.253125 7.2 \nL 43.148125 7.2 \nz\n\" style=\"fill: #ffffff\"/>\n   </g>\n   <g id=\"matplotlib.axis_1\">\n    <g id=\"xtick_1\">\n     <g id=\"line2d_1\">\n      <defs>\n       <path id=\"m7d9eea8c54\" d=\"M 0 0 \nL 0 3.5 \n\" style=\"stroke: #000000; stroke-width: 0.8\"/>\n      </defs>\n      <g>\n       <use xlink:href=\"#m7d9eea8c54\" x=\"64.694686\" y=\"170.432\" style=\"stroke: #000000; stroke-width: 0.8\"/>\n      </g>\n     </g>\n     <g id=\"text_1\">\n      <!-- 0 -->\n      <g transform=\"translate(62.149686 183.51075)scale(0.08 -0.08)\">\n       <defs>\n        <path id=\"DejaVuSerif-30\" d=\"M 2034 219 \nQ 2513 219 2750 744 \nQ 2988 1269 2988 2328 \nQ 2988 3391 2750 3916 \nQ 2513 4441 2034 4441 \nQ 1556 4441 1318 3916 \nQ 1081 3391 1081 2328 \nQ 1081 1269 1318 744 \nQ 1556 219 2034 219 \nz\nM 2034 -91 \nQ 1275 -91 848 546 \nQ 422 1184 422 2328 \nQ 422 3475 848 4112 \nQ 1275 4750 2034 4750 \nQ 2797 4750 3222 4112 \nQ 3647 3475 3647 2328 \nQ 3647 1184 3222 546 \nQ 2797 -91 2034 -91 \nz\n\" transform=\"scale(0.015625)\"/>\n       </defs>\n       <use xlink:href=\"#DejaVuSerif-30\"/>\n      </g>\n     </g>\n    </g>\n    <g id=\"xtick_2\">\n     <g id=\"line2d_2\">\n      <g>\n       <use xlink:href=\"#m7d9eea8c54\" x=\"121.696171\" y=\"170.432\" style=\"stroke: #000000; stroke-width: 0.8\"/>\n      </g>\n     </g>\n     <g id=\"text_2\">\n      <!-- 50 -->\n      <g transform=\"translate(116.606171 183.51075)scale(0.08 -0.08)\">\n       <defs>\n        <path id=\"DejaVuSerif-35\" d=\"M 3219 4666 \nL 3219 4153 \nL 1081 4153 \nL 1081 2816 \nQ 1244 2928 1461 2984 \nQ 1678 3041 1947 3041 \nQ 2703 3041 3140 2622 \nQ 3578 2203 3578 1478 \nQ 3578 738 3136 323 \nQ 2694 -91 1894 -91 \nQ 1572 -91 1234 -12 \nQ 897 66 544 225 \nL 544 1131 \nL 897 1131 \nQ 925 688 1179 453 \nQ 1434 219 1894 219 \nQ 2388 219 2653 544 \nQ 2919 869 2919 1478 \nQ 2919 2084 2655 2407 \nQ 2391 2731 1894 2731 \nQ 1613 2731 1398 2631 \nQ 1184 2531 1019 2322 \nL 750 2322 \nL 750 4666 \nL 3219 4666 \nz\n\" transform=\"scale(0.015625)\"/>\n       </defs>\n       <use xlink:href=\"#DejaVuSerif-35\"/>\n       <use xlink:href=\"#DejaVuSerif-30\" x=\"63.623047\"/>\n      </g>\n     </g>\n    </g>\n    <g id=\"xtick_3\">\n     <g id=\"line2d_3\">\n      <g>\n       <use xlink:href=\"#m7d9eea8c54\" x=\"178.697656\" y=\"170.432\" style=\"stroke: #000000; stroke-width: 0.8\"/>\n      </g>\n     </g>\n     <g id=\"text_3\">\n      <!-- 100 -->\n      <g transform=\"translate(171.062656 183.51075)scale(0.08 -0.08)\">\n       <defs>\n        <path id=\"DejaVuSerif-31\" d=\"M 909 0 \nL 909 331 \nL 1722 331 \nL 1722 4213 \nL 781 3603 \nL 781 4013 \nL 1919 4750 \nL 2350 4750 \nL 2350 331 \nL 3163 331 \nL 3163 0 \nL 909 0 \nz\n\" transform=\"scale(0.015625)\"/>\n       </defs>\n       <use xlink:href=\"#DejaVuSerif-31\"/>\n       <use xlink:href=\"#DejaVuSerif-30\" x=\"63.623047\"/>\n       <use xlink:href=\"#DejaVuSerif-30\" x=\"127.246094\"/>\n      </g>\n     </g>\n    </g>\n    <g id=\"xtick_4\">\n     <g id=\"line2d_4\">\n      <g>\n       <use xlink:href=\"#m7d9eea8c54\" x=\"235.69914\" y=\"170.432\" style=\"stroke: #000000; stroke-width: 0.8\"/>\n      </g>\n     </g>\n     <g id=\"text_4\">\n      <!-- 150 -->\n      <g transform=\"translate(228.06414 183.51075)scale(0.08 -0.08)\">\n       <use xlink:href=\"#DejaVuSerif-31\"/>\n       <use xlink:href=\"#DejaVuSerif-35\" x=\"63.623047\"/>\n       <use xlink:href=\"#DejaVuSerif-30\" x=\"127.246094\"/>\n      </g>\n     </g>\n    </g>\n    <g id=\"xtick_5\">\n     <g id=\"line2d_5\">\n      <g>\n       <use xlink:href=\"#m7d9eea8c54\" x=\"292.700625\" y=\"170.432\" style=\"stroke: #000000; stroke-width: 0.8\"/>\n      </g>\n     </g>\n     <g id=\"text_5\">\n      <!-- 200 -->\n      <g transform=\"translate(285.065625 183.51075)scale(0.08 -0.08)\">\n       <defs>\n        <path id=\"DejaVuSerif-32\" d=\"M 819 3553 \nL 469 3553 \nL 469 4384 \nQ 803 4563 1142 4656 \nQ 1481 4750 1806 4750 \nQ 2534 4750 2956 4397 \nQ 3378 4044 3378 3438 \nQ 3378 2753 2422 1800 \nQ 2347 1728 2309 1691 \nL 1131 513 \nL 3078 513 \nL 3078 1088 \nL 3444 1088 \nL 3444 0 \nL 434 0 \nL 434 341 \nL 1850 1753 \nQ 2319 2222 2519 2614 \nQ 2719 3006 2719 3438 \nQ 2719 3909 2473 4175 \nQ 2228 4441 1797 4441 \nQ 1350 4441 1106 4219 \nQ 863 3997 819 3553 \nz\n\" transform=\"scale(0.015625)\"/>\n       </defs>\n       <use xlink:href=\"#DejaVuSerif-32\"/>\n       <use xlink:href=\"#DejaVuSerif-30\" x=\"63.623047\"/>\n       <use xlink:href=\"#DejaVuSerif-30\" x=\"127.246094\"/>\n      </g>\n     </g>\n    </g>\n    <g id=\"xtick_6\">\n     <g id=\"line2d_6\">\n      <g>\n       <use xlink:href=\"#m7d9eea8c54\" x=\"349.70211\" y=\"170.432\" style=\"stroke: #000000; stroke-width: 0.8\"/>\n      </g>\n     </g>\n     <g id=\"text_6\">\n      <!-- 250 -->\n      <g transform=\"translate(342.06711 183.51075)scale(0.08 -0.08)\">\n       <use xlink:href=\"#DejaVuSerif-32\"/>\n       <use xlink:href=\"#DejaVuSerif-35\" x=\"63.623047\"/>\n       <use xlink:href=\"#DejaVuSerif-30\" x=\"127.246094\"/>\n      </g>\n     </g>\n    </g>\n    <g id=\"xtick_7\">\n     <g id=\"line2d_7\">\n      <g>\n       <use xlink:href=\"#m7d9eea8c54\" x=\"406.703594\" y=\"170.432\" style=\"stroke: #000000; stroke-width: 0.8\"/>\n      </g>\n     </g>\n     <g id=\"text_7\">\n      <!-- 300 -->\n      <g transform=\"translate(399.068594 183.51075)scale(0.08 -0.08)\">\n       <defs>\n        <path id=\"DejaVuSerif-33\" d=\"M 622 4469 \nQ 988 4606 1323 4678 \nQ 1659 4750 1953 4750 \nQ 2638 4750 3022 4454 \nQ 3406 4159 3406 3634 \nQ 3406 3213 3140 2930 \nQ 2875 2647 2388 2547 \nQ 2963 2466 3280 2130 \nQ 3597 1794 3597 1259 \nQ 3597 606 3158 257 \nQ 2719 -91 1894 -91 \nQ 1528 -91 1179 -12 \nQ 831 66 488 225 \nL 488 1131 \nL 838 1131 \nQ 869 681 1141 450 \nQ 1413 219 1906 219 \nQ 2384 219 2661 495 \nQ 2938 772 2938 1253 \nQ 2938 1803 2653 2086 \nQ 2369 2369 1819 2369 \nL 1522 2369 \nL 1522 2688 \nL 1678 2688 \nQ 2225 2688 2498 2914 \nQ 2772 3141 2772 3597 \nQ 2772 4006 2547 4223 \nQ 2322 4441 1900 4441 \nQ 1478 4441 1245 4241 \nQ 1013 4041 972 3647 \nL 622 3647 \nL 622 4469 \nz\n\" transform=\"scale(0.015625)\"/>\n       </defs>\n       <use xlink:href=\"#DejaVuSerif-33\"/>\n       <use xlink:href=\"#DejaVuSerif-30\" x=\"63.623047\"/>\n       <use xlink:href=\"#DejaVuSerif-30\" x=\"127.246094\"/>\n      </g>\n     </g>\n    </g>\n    <g id=\"xtick_8\">\n     <g id=\"line2d_8\">\n      <g>\n       <use xlink:href=\"#m7d9eea8c54\" x=\"463.705079\" y=\"170.432\" style=\"stroke: #000000; stroke-width: 0.8\"/>\n      </g>\n     </g>\n     <g id=\"text_8\">\n      <!-- 350 -->\n      <g transform=\"translate(456.070079 183.51075)scale(0.08 -0.08)\">\n       <use xlink:href=\"#DejaVuSerif-33\"/>\n       <use xlink:href=\"#DejaVuSerif-35\" x=\"63.623047\"/>\n       <use xlink:href=\"#DejaVuSerif-30\" x=\"127.246094\"/>\n      </g>\n     </g>\n    </g>\n    <g id=\"xtick_9\">\n     <g id=\"line2d_9\">\n      <g>\n       <use xlink:href=\"#m7d9eea8c54\" x=\"520.706564\" y=\"170.432\" style=\"stroke: #000000; stroke-width: 0.8\"/>\n      </g>\n     </g>\n     <g id=\"text_9\">\n      <!-- 400 -->\n      <g transform=\"translate(513.071564 183.51075)scale(0.08 -0.08)\">\n       <defs>\n        <path id=\"DejaVuSerif-34\" d=\"M 2234 1581 \nL 2234 4063 \nL 641 1581 \nL 2234 1581 \nz\nM 3609 0 \nL 1484 0 \nL 1484 331 \nL 2234 331 \nL 2234 1247 \nL 197 1247 \nL 197 1588 \nL 2241 4750 \nL 2859 4750 \nL 2859 1581 \nL 3750 1581 \nL 3750 1247 \nL 2859 1247 \nL 2859 331 \nL 3609 331 \nL 3609 0 \nz\n\" transform=\"scale(0.015625)\"/>\n       </defs>\n       <use xlink:href=\"#DejaVuSerif-34\"/>\n       <use xlink:href=\"#DejaVuSerif-30\" x=\"63.623047\"/>\n       <use xlink:href=\"#DejaVuSerif-30\" x=\"127.246094\"/>\n      </g>\n     </g>\n    </g>\n    <g id=\"text_10\">\n     <!-- page number -->\n     <g transform=\"translate(259.037344 196.772938)scale(0.1 -0.1)\">\n      <defs>\n       <path id=\"DejaVuSerif-70\" d=\"M 1313 1825 \nL 1313 1497 \nQ 1313 897 1542 583 \nQ 1772 269 2209 269 \nQ 2650 269 2876 622 \nQ 3103 975 3103 1663 \nQ 3103 2353 2876 2703 \nQ 2650 3053 2209 3053 \nQ 1772 3053 1542 2737 \nQ 1313 2422 1313 1825 \nz\nM 738 2988 \nL 184 2988 \nL 184 3322 \nL 1313 3322 \nL 1313 2803 \nQ 1481 3116 1742 3264 \nQ 2003 3413 2388 3413 \nQ 3000 3413 3387 2928 \nQ 3775 2444 3775 1663 \nQ 3775 881 3387 395 \nQ 3000 -91 2388 -91 \nQ 2003 -91 1742 57 \nQ 1481 206 1313 519 \nL 1313 -997 \nL 1856 -997 \nL 1856 -1331 \nL 184 -1331 \nL 184 -997 \nL 738 -997 \nL 738 2988 \nz\n\" transform=\"scale(0.015625)\"/>\n       <path id=\"DejaVuSerif-61\" d=\"M 2547 1044 \nL 2547 1747 \nL 1806 1747 \nQ 1378 1747 1168 1562 \nQ 959 1378 959 997 \nQ 959 650 1171 447 \nQ 1384 244 1747 244 \nQ 2106 244 2326 466 \nQ 2547 688 2547 1044 \nz\nM 3122 2075 \nL 3122 331 \nL 3634 331 \nL 3634 0 \nL 2547 0 \nL 2547 359 \nQ 2356 128 2106 18 \nQ 1856 -91 1522 -91 \nQ 969 -91 644 203 \nQ 319 497 319 997 \nQ 319 1513 691 1797 \nQ 1063 2081 1741 2081 \nL 2547 2081 \nL 2547 2309 \nQ 2547 2688 2317 2895 \nQ 2088 3103 1672 3103 \nQ 1328 3103 1125 2947 \nQ 922 2791 872 2484 \nL 575 2484 \nL 575 3156 \nQ 875 3284 1158 3348 \nQ 1441 3413 1709 3413 \nQ 2400 3413 2761 3070 \nQ 3122 2728 3122 2075 \nz\n\" transform=\"scale(0.015625)\"/>\n       <path id=\"DejaVuSerif-67\" d=\"M 3359 2988 \nL 3359 72 \nQ 3359 -644 2965 -1033 \nQ 2572 -1422 1844 -1422 \nQ 1516 -1422 1216 -1362 \nQ 916 -1303 641 -1184 \nL 641 -488 \nL 941 -488 \nQ 997 -813 1206 -963 \nQ 1416 -1113 1806 -1113 \nQ 2313 -1113 2548 -827 \nQ 2784 -541 2784 72 \nL 2784 519 \nQ 2616 206 2355 57 \nQ 2094 -91 1709 -91 \nQ 1097 -91 708 395 \nQ 319 881 319 1663 \nQ 319 2444 706 2928 \nQ 1094 3413 1709 3413 \nQ 2094 3413 2355 3264 \nQ 2616 3116 2784 2803 \nL 2784 3322 \nL 3909 3322 \nL 3909 2988 \nL 3359 2988 \nz\nM 2784 1825 \nQ 2784 2422 2554 2737 \nQ 2325 3053 1888 3053 \nQ 1444 3053 1217 2703 \nQ 991 2353 991 1663 \nQ 991 975 1217 622 \nQ 1444 269 1888 269 \nQ 2325 269 2554 583 \nQ 2784 897 2784 1497 \nL 2784 1825 \nz\n\" transform=\"scale(0.015625)\"/>\n       <path id=\"DejaVuSerif-65\" d=\"M 3469 1600 \nL 991 1600 \nL 991 1575 \nQ 991 903 1244 561 \nQ 1497 219 1991 219 \nQ 2369 219 2611 417 \nQ 2853 616 2950 1006 \nL 3413 1006 \nQ 3275 459 2904 184 \nQ 2534 -91 1931 -91 \nQ 1203 -91 761 389 \nQ 319 869 319 1663 \nQ 319 2450 753 2931 \nQ 1188 3413 1894 3413 \nQ 2647 3413 3050 2948 \nQ 3453 2484 3469 1600 \nz\nM 2791 1931 \nQ 2772 2513 2545 2808 \nQ 2319 3103 1894 3103 \nQ 1497 3103 1269 2806 \nQ 1041 2509 991 1931 \nL 2791 1931 \nz\n\" transform=\"scale(0.015625)\"/>\n       <path id=\"DejaVuSerif-20\" transform=\"scale(0.015625)\"/>\n       <path id=\"DejaVuSerif-6e\" d=\"M 263 0 \nL 263 331 \nL 781 331 \nL 781 2988 \nL 231 2988 \nL 231 3322 \nL 1356 3322 \nL 1356 2731 \nQ 1516 3069 1770 3241 \nQ 2025 3413 2363 3413 \nQ 2913 3413 3172 3097 \nQ 3431 2781 3431 2113 \nL 3431 331 \nL 3944 331 \nL 3944 0 \nL 2356 0 \nL 2356 331 \nL 2853 331 \nL 2853 1931 \nQ 2853 2541 2703 2767 \nQ 2553 2994 2175 2994 \nQ 1775 2994 1565 2701 \nQ 1356 2409 1356 1850 \nL 1356 331 \nL 1856 331 \nL 1856 0 \nL 263 0 \nz\n\" transform=\"scale(0.015625)\"/>\n       <path id=\"DejaVuSerif-75\" d=\"M 2266 3322 \nL 3341 3322 \nL 3341 331 \nL 3884 331 \nL 3884 0 \nL 2766 0 \nL 2766 588 \nQ 2606 256 2353 82 \nQ 2100 -91 1766 -91 \nQ 1213 -91 952 223 \nQ 691 538 691 1209 \nL 691 2988 \nL 172 2988 \nL 172 3322 \nL 1269 3322 \nL 1269 1388 \nQ 1269 781 1417 556 \nQ 1566 331 1947 331 \nQ 2347 331 2556 625 \nQ 2766 919 2766 1478 \nL 2766 2988 \nL 2266 2988 \nL 2266 3322 \nz\n\" transform=\"scale(0.015625)\"/>\n       <path id=\"DejaVuSerif-6d\" d=\"M 3316 2675 \nQ 3481 3041 3739 3227 \nQ 3997 3413 4341 3413 \nQ 4863 3413 5119 3089 \nQ 5375 2766 5375 2113 \nL 5375 331 \nL 5894 331 \nL 5894 0 \nL 4300 0 \nL 4300 331 \nL 4800 331 \nL 4800 2047 \nQ 4800 2556 4650 2772 \nQ 4500 2988 4153 2988 \nQ 3769 2988 3567 2697 \nQ 3366 2406 3366 1850 \nL 3366 331 \nL 3866 331 \nL 3866 0 \nL 2291 0 \nL 2291 331 \nL 2791 331 \nL 2791 2069 \nQ 2791 2566 2641 2777 \nQ 2491 2988 2144 2988 \nQ 1759 2988 1557 2697 \nQ 1356 2406 1356 1850 \nL 1356 331 \nL 1856 331 \nL 1856 0 \nL 263 0 \nL 263 331 \nL 781 331 \nL 781 2994 \nL 231 2994 \nL 231 3322 \nL 1356 3322 \nL 1356 2731 \nQ 1516 3063 1762 3238 \nQ 2009 3413 2322 3413 \nQ 2709 3413 2968 3220 \nQ 3228 3028 3316 2675 \nz\n\" transform=\"scale(0.015625)\"/>\n       <path id=\"DejaVuSerif-62\" d=\"M 738 331 \nL 738 4531 \nL 184 4531 \nL 184 4863 \nL 1313 4863 \nL 1313 2803 \nQ 1481 3116 1742 3264 \nQ 2003 3413 2388 3413 \nQ 3000 3413 3387 2928 \nQ 3775 2444 3775 1663 \nQ 3775 881 3387 395 \nQ 3000 -91 2388 -91 \nQ 2003 -91 1742 57 \nQ 1481 206 1313 519 \nL 1313 0 \nL 184 0 \nL 184 331 \nL 738 331 \nz\nM 1313 1497 \nQ 1313 897 1542 583 \nQ 1772 269 2209 269 \nQ 2650 269 2876 622 \nQ 3103 975 3103 1663 \nQ 3103 2353 2876 2703 \nQ 2650 3053 2209 3053 \nQ 1772 3053 1542 2737 \nQ 1313 2422 1313 1825 \nL 1313 1497 \nz\n\" transform=\"scale(0.015625)\"/>\n       <path id=\"DejaVuSerif-72\" d=\"M 3059 3328 \nL 3059 2497 \nL 2728 2497 \nQ 2713 2744 2591 2866 \nQ 2469 2988 2234 2988 \nQ 1809 2988 1582 2694 \nQ 1356 2400 1356 1850 \nL 1356 331 \nL 2022 331 \nL 2022 0 \nL 263 0 \nL 263 331 \nL 781 331 \nL 781 2994 \nL 231 2994 \nL 231 3322 \nL 1356 3322 \nL 1356 2731 \nQ 1525 3078 1790 3245 \nQ 2056 3413 2438 3413 \nQ 2578 3413 2733 3391 \nQ 2888 3369 3059 3328 \nz\n\" transform=\"scale(0.015625)\"/>\n      </defs>\n      <use xlink:href=\"#DejaVuSerif-70\"/>\n      <use xlink:href=\"#DejaVuSerif-61\" x=\"64.013672\"/>\n      <use xlink:href=\"#DejaVuSerif-67\" x=\"123.632812\"/>\n      <use xlink:href=\"#DejaVuSerif-65\" x=\"187.646484\"/>\n      <use xlink:href=\"#DejaVuSerif-20\" x=\"246.826172\"/>\n      <use xlink:href=\"#DejaVuSerif-6e\" x=\"278.613281\"/>\n      <use xlink:href=\"#DejaVuSerif-75\" x=\"343.017578\"/>\n      <use xlink:href=\"#DejaVuSerif-6d\" x=\"407.421875\"/>\n      <use xlink:href=\"#DejaVuSerif-62\" x=\"502.246094\"/>\n      <use xlink:href=\"#DejaVuSerif-65\" x=\"566.259766\"/>\n      <use xlink:href=\"#DejaVuSerif-72\" x=\"625.439453\"/>\n     </g>\n    </g>\n   </g>\n   <g id=\"matplotlib.axis_2\">\n    <g id=\"ytick_1\">\n     <g id=\"line2d_10\">\n      <defs>\n       <path id=\"mf781fb47da\" d=\"M 0 0 \nL -3.5 0 \n\" style=\"stroke: #000000; stroke-width: 0.8\"/>\n      </defs>\n      <g>\n       <use xlink:href=\"#mf781fb47da\" x=\"43.148125\" y=\"163.522304\" style=\"stroke: #000000; stroke-width: 0.8\"/>\n      </g>\n     </g>\n     <g id=\"text_11\">\n      <!-- 0 -->\n      <g transform=\"translate(31.058125 166.561679)scale(0.08 -0.08)\">\n       <use xlink:href=\"#DejaVuSerif-30\"/>\n      </g>\n     </g>\n    </g>\n    <g id=\"ytick_2\">\n     <g id=\"line2d_11\">\n      <g>\n       <use xlink:href=\"#mf781fb47da\" x=\"43.148125\" y=\"138.025272\" style=\"stroke: #000000; stroke-width: 0.8\"/>\n      </g>\n     </g>\n     <g id=\"text_12\">\n      <!-- 50 -->\n      <g transform=\"translate(25.968125 141.064647)scale(0.08 -0.08)\">\n       <use xlink:href=\"#DejaVuSerif-35\"/>\n       <use xlink:href=\"#DejaVuSerif-30\" x=\"63.623047\"/>\n      </g>\n     </g>\n    </g>\n    <g id=\"ytick_3\">\n     <g id=\"line2d_12\">\n      <g>\n       <use xlink:href=\"#mf781fb47da\" x=\"43.148125\" y=\"112.52824\" style=\"stroke: #000000; stroke-width: 0.8\"/>\n      </g>\n     </g>\n     <g id=\"text_13\">\n      <!-- 100 -->\n      <g transform=\"translate(20.878125 115.567615)scale(0.08 -0.08)\">\n       <use xlink:href=\"#DejaVuSerif-31\"/>\n       <use xlink:href=\"#DejaVuSerif-30\" x=\"63.623047\"/>\n       <use xlink:href=\"#DejaVuSerif-30\" x=\"127.246094\"/>\n      </g>\n     </g>\n    </g>\n    <g id=\"ytick_4\">\n     <g id=\"line2d_13\">\n      <g>\n       <use xlink:href=\"#mf781fb47da\" x=\"43.148125\" y=\"87.031208\" style=\"stroke: #000000; stroke-width: 0.8\"/>\n      </g>\n     </g>\n     <g id=\"text_14\">\n      <!-- 150 -->\n      <g transform=\"translate(20.878125 90.070583)scale(0.08 -0.08)\">\n       <use xlink:href=\"#DejaVuSerif-31\"/>\n       <use xlink:href=\"#DejaVuSerif-35\" x=\"63.623047\"/>\n       <use xlink:href=\"#DejaVuSerif-30\" x=\"127.246094\"/>\n      </g>\n     </g>\n    </g>\n    <g id=\"ytick_5\">\n     <g id=\"line2d_14\">\n      <g>\n       <use xlink:href=\"#mf781fb47da\" x=\"43.148125\" y=\"61.534176\" style=\"stroke: #000000; stroke-width: 0.8\"/>\n      </g>\n     </g>\n     <g id=\"text_15\">\n      <!-- 200 -->\n      <g transform=\"translate(20.878125 64.573551)scale(0.08 -0.08)\">\n       <use xlink:href=\"#DejaVuSerif-32\"/>\n       <use xlink:href=\"#DejaVuSerif-30\" x=\"63.623047\"/>\n       <use xlink:href=\"#DejaVuSerif-30\" x=\"127.246094\"/>\n      </g>\n     </g>\n    </g>\n    <g id=\"ytick_6\">\n     <g id=\"line2d_15\">\n      <g>\n       <use xlink:href=\"#mf781fb47da\" x=\"43.148125\" y=\"36.037143\" style=\"stroke: #000000; stroke-width: 0.8\"/>\n      </g>\n     </g>\n     <g id=\"text_16\">\n      <!-- 250 -->\n      <g transform=\"translate(20.878125 39.076518)scale(0.08 -0.08)\">\n       <use xlink:href=\"#DejaVuSerif-32\"/>\n       <use xlink:href=\"#DejaVuSerif-35\" x=\"63.623047\"/>\n       <use xlink:href=\"#DejaVuSerif-30\" x=\"127.246094\"/>\n      </g>\n     </g>\n    </g>\n    <g id=\"ytick_7\">\n     <g id=\"line2d_16\">\n      <g>\n       <use xlink:href=\"#mf781fb47da\" x=\"43.148125\" y=\"10.540111\" style=\"stroke: #000000; stroke-width: 0.8\"/>\n      </g>\n     </g>\n     <g id=\"text_17\">\n      <!-- 300 -->\n      <g transform=\"translate(20.878125 13.579486)scale(0.08 -0.08)\">\n       <use xlink:href=\"#DejaVuSerif-33\"/>\n       <use xlink:href=\"#DejaVuSerif-30\" x=\"63.623047\"/>\n       <use xlink:href=\"#DejaVuSerif-30\" x=\"127.246094\"/>\n      </g>\n     </g>\n    </g>\n    <g id=\"text_18\">\n     <!-- count -->\n     <g transform=\"translate(14.798437 103.076156)rotate(-90)scale(0.1 -0.1)\">\n      <defs>\n       <path id=\"DejaVuSerif-63\" d=\"M 3291 997 \nQ 3169 466 2822 187 \nQ 2475 -91 1925 -91 \nQ 1200 -91 759 389 \nQ 319 869 319 1663 \nQ 319 2459 759 2936 \nQ 1200 3413 1925 3413 \nQ 2241 3413 2553 3339 \nQ 2866 3266 3181 3116 \nL 3181 2266 \nL 2847 2266 \nQ 2781 2703 2561 2903 \nQ 2341 3103 1931 3103 \nQ 1466 3103 1228 2742 \nQ 991 2381 991 1663 \nQ 991 944 1227 581 \nQ 1463 219 1931 219 \nQ 2303 219 2525 412 \nQ 2747 606 2828 997 \nL 3291 997 \nz\n\" transform=\"scale(0.015625)\"/>\n       <path id=\"DejaVuSerif-6f\" d=\"M 1925 219 \nQ 2388 219 2623 584 \nQ 2859 950 2859 1663 \nQ 2859 2375 2623 2739 \nQ 2388 3103 1925 3103 \nQ 1463 3103 1227 2739 \nQ 991 2375 991 1663 \nQ 991 950 1228 584 \nQ 1466 219 1925 219 \nz\nM 1925 -91 \nQ 1200 -91 759 389 \nQ 319 869 319 1663 \nQ 319 2456 758 2934 \nQ 1197 3413 1925 3413 \nQ 2653 3413 3092 2934 \nQ 3531 2456 3531 1663 \nQ 3531 869 3092 389 \nQ 2653 -91 1925 -91 \nz\n\" transform=\"scale(0.015625)\"/>\n       <path id=\"DejaVuSerif-74\" d=\"M 691 2988 \nL 184 2988 \nL 184 3322 \nL 691 3322 \nL 691 4353 \nL 1269 4353 \nL 1269 3322 \nL 2350 3322 \nL 2350 2988 \nL 1269 2988 \nL 1269 878 \nQ 1269 456 1350 337 \nQ 1431 219 1650 219 \nQ 1875 219 1978 351 \nQ 2081 484 2088 781 \nL 2522 781 \nQ 2497 328 2275 118 \nQ 2053 -91 1600 -91 \nQ 1103 -91 897 129 \nQ 691 350 691 878 \nL 691 2988 \nz\n\" transform=\"scale(0.015625)\"/>\n      </defs>\n      <use xlink:href=\"#DejaVuSerif-63\"/>\n      <use xlink:href=\"#DejaVuSerif-6f\" x=\"56.005859\"/>\n      <use xlink:href=\"#DejaVuSerif-75\" x=\"116.210938\"/>\n      <use xlink:href=\"#DejaVuSerif-6e\" x=\"180.615234\"/>\n      <use xlink:href=\"#DejaVuSerif-74\" x=\"245.019531\"/>\n     </g>\n    </g>\n   </g>\n   <g id=\"line2d_17\">\n    <path d=\"M 112.575933 163.012364 \nL 112.575933 162.502423 \nL 115.996022 161.992482 \nL 115.996022 161.482542 \nL 125.11626 160.972601 \nL 125.11626 160.46266 \nL 128.536349 159.95272 \nL 128.536349 159.442779 \nL 130.816408 158.932838 \nL 130.816408 158.422898 \nL 168.437388 157.912957 \nL 168.437388 157.403017 \nL 180.977715 156.893076 \nL 180.977715 156.383135 \nL 190.097953 155.873195 \nL 190.097953 155.363254 \nL 192.378012 154.853313 \nL 192.378012 154.343373 \nL 199.21819 153.833432 \nL 199.21819 153.323491 \nL 207.198398 152.813551 \nL 207.198398 152.30361 \nL 208.338428 151.793669 \nL 208.338428 151.283729 \nL 210.618487 150.773788 \nL 210.618487 150.263848 \nL 212.898546 149.753907 \nL 212.898546 149.243966 \nL 219.738725 148.734026 \nL 219.738725 148.224085 \nL 249.379497 147.714144 \nL 249.379497 147.204204 \nL 375.922793 146.694263 \nL 375.922793 146.184322 \nL 378.202852 145.674382 \nL 378.202852 145.164441 \nL 383.903001 144.6545 \nL 383.903001 144.14456 \n\" clip-path=\"url(#pf7ef7b8355)\" style=\"fill: none; stroke: #1f77b4; stroke-width: 1.5; stroke-linecap: square\"/>\n    <defs>\n     <path id=\"m00bd4e55fc\" d=\"M -2.5 2.5 \nL 2.5 -2.5 \nM -2.5 -2.5 \nL 2.5 2.5 \n\" style=\"stroke: #1f77b4\"/>\n    </defs>\n    <g clip-path=\"url(#pf7ef7b8355)\">\n     <use xlink:href=\"#m00bd4e55fc\" x=\"112.575933\" y=\"163.012364\" style=\"fill: #1f77b4; stroke: #1f77b4\"/>\n     <use xlink:href=\"#m00bd4e55fc\" x=\"112.575933\" y=\"162.502423\" style=\"fill: #1f77b4; stroke: #1f77b4\"/>\n     <use xlink:href=\"#m00bd4e55fc\" x=\"115.996022\" y=\"161.992482\" style=\"fill: #1f77b4; stroke: #1f77b4\"/>\n     <use xlink:href=\"#m00bd4e55fc\" x=\"115.996022\" y=\"161.482542\" style=\"fill: #1f77b4; stroke: #1f77b4\"/>\n     <use xlink:href=\"#m00bd4e55fc\" x=\"125.11626\" y=\"160.972601\" style=\"fill: #1f77b4; stroke: #1f77b4\"/>\n     <use xlink:href=\"#m00bd4e55fc\" x=\"125.11626\" y=\"160.46266\" style=\"fill: #1f77b4; stroke: #1f77b4\"/>\n     <use xlink:href=\"#m00bd4e55fc\" x=\"128.536349\" y=\"159.95272\" style=\"fill: #1f77b4; stroke: #1f77b4\"/>\n     <use xlink:href=\"#m00bd4e55fc\" x=\"128.536349\" y=\"159.442779\" style=\"fill: #1f77b4; stroke: #1f77b4\"/>\n     <use xlink:href=\"#m00bd4e55fc\" x=\"130.816408\" y=\"158.932838\" style=\"fill: #1f77b4; stroke: #1f77b4\"/>\n     <use xlink:href=\"#m00bd4e55fc\" x=\"130.816408\" y=\"158.422898\" style=\"fill: #1f77b4; stroke: #1f77b4\"/>\n     <use xlink:href=\"#m00bd4e55fc\" x=\"168.437388\" y=\"157.912957\" style=\"fill: #1f77b4; stroke: #1f77b4\"/>\n     <use xlink:href=\"#m00bd4e55fc\" x=\"168.437388\" y=\"157.403017\" style=\"fill: #1f77b4; stroke: #1f77b4\"/>\n     <use xlink:href=\"#m00bd4e55fc\" x=\"180.977715\" y=\"156.893076\" style=\"fill: #1f77b4; stroke: #1f77b4\"/>\n     <use xlink:href=\"#m00bd4e55fc\" x=\"180.977715\" y=\"156.383135\" style=\"fill: #1f77b4; stroke: #1f77b4\"/>\n     <use xlink:href=\"#m00bd4e55fc\" x=\"190.097953\" y=\"155.873195\" style=\"fill: #1f77b4; stroke: #1f77b4\"/>\n     <use xlink:href=\"#m00bd4e55fc\" x=\"190.097953\" y=\"155.363254\" style=\"fill: #1f77b4; stroke: #1f77b4\"/>\n     <use xlink:href=\"#m00bd4e55fc\" x=\"192.378012\" y=\"154.853313\" style=\"fill: #1f77b4; stroke: #1f77b4\"/>\n     <use xlink:href=\"#m00bd4e55fc\" x=\"192.378012\" y=\"154.343373\" style=\"fill: #1f77b4; stroke: #1f77b4\"/>\n     <use xlink:href=\"#m00bd4e55fc\" x=\"199.21819\" y=\"153.833432\" style=\"fill: #1f77b4; stroke: #1f77b4\"/>\n     <use xlink:href=\"#m00bd4e55fc\" x=\"199.21819\" y=\"153.323491\" style=\"fill: #1f77b4; stroke: #1f77b4\"/>\n     <use xlink:href=\"#m00bd4e55fc\" x=\"207.198398\" y=\"152.813551\" style=\"fill: #1f77b4; stroke: #1f77b4\"/>\n     <use xlink:href=\"#m00bd4e55fc\" x=\"207.198398\" y=\"152.30361\" style=\"fill: #1f77b4; stroke: #1f77b4\"/>\n     <use xlink:href=\"#m00bd4e55fc\" x=\"208.338428\" y=\"151.793669\" style=\"fill: #1f77b4; stroke: #1f77b4\"/>\n     <use xlink:href=\"#m00bd4e55fc\" x=\"208.338428\" y=\"151.283729\" style=\"fill: #1f77b4; stroke: #1f77b4\"/>\n     <use xlink:href=\"#m00bd4e55fc\" x=\"210.618487\" y=\"150.773788\" style=\"fill: #1f77b4; stroke: #1f77b4\"/>\n     <use xlink:href=\"#m00bd4e55fc\" x=\"210.618487\" y=\"150.263848\" style=\"fill: #1f77b4; stroke: #1f77b4\"/>\n     <use xlink:href=\"#m00bd4e55fc\" x=\"212.898546\" y=\"149.753907\" style=\"fill: #1f77b4; stroke: #1f77b4\"/>\n     <use xlink:href=\"#m00bd4e55fc\" x=\"212.898546\" y=\"149.243966\" style=\"fill: #1f77b4; stroke: #1f77b4\"/>\n     <use xlink:href=\"#m00bd4e55fc\" x=\"219.738725\" y=\"148.734026\" style=\"fill: #1f77b4; stroke: #1f77b4\"/>\n     <use xlink:href=\"#m00bd4e55fc\" x=\"219.738725\" y=\"148.224085\" style=\"fill: #1f77b4; stroke: #1f77b4\"/>\n     <use xlink:href=\"#m00bd4e55fc\" x=\"249.379497\" y=\"147.714144\" style=\"fill: #1f77b4; stroke: #1f77b4\"/>\n     <use xlink:href=\"#m00bd4e55fc\" x=\"249.379497\" y=\"147.204204\" style=\"fill: #1f77b4; stroke: #1f77b4\"/>\n     <use xlink:href=\"#m00bd4e55fc\" x=\"375.922793\" y=\"146.694263\" style=\"fill: #1f77b4; stroke: #1f77b4\"/>\n     <use xlink:href=\"#m00bd4e55fc\" x=\"375.922793\" y=\"146.184322\" style=\"fill: #1f77b4; stroke: #1f77b4\"/>\n     <use xlink:href=\"#m00bd4e55fc\" x=\"378.202852\" y=\"145.674382\" style=\"fill: #1f77b4; stroke: #1f77b4\"/>\n     <use xlink:href=\"#m00bd4e55fc\" x=\"378.202852\" y=\"145.164441\" style=\"fill: #1f77b4; stroke: #1f77b4\"/>\n     <use xlink:href=\"#m00bd4e55fc\" x=\"383.903001\" y=\"144.6545\" style=\"fill: #1f77b4; stroke: #1f77b4\"/>\n     <use xlink:href=\"#m00bd4e55fc\" x=\"383.903001\" y=\"144.14456\" style=\"fill: #1f77b4; stroke: #1f77b4\"/>\n    </g>\n   </g>\n   <g id=\"line2d_18\">\n    <path d=\"M 321.201367 163.012364 \nL 324.621456 162.502423 \nL 363.382466 161.992482 \nL 367.942585 161.482542 \n\" clip-path=\"url(#pf7ef7b8355)\" style=\"fill: none; stroke: #ff7f0e; stroke-width: 1.5; stroke-linecap: square\"/>\n    <defs>\n     <path id=\"ma7202002c4\" d=\"M -2.5 2.5 \nL 2.5 -2.5 \nM -2.5 -2.5 \nL 2.5 2.5 \n\" style=\"stroke: #ff7f0e\"/>\n    </defs>\n    <g clip-path=\"url(#pf7ef7b8355)\">\n     <use xlink:href=\"#ma7202002c4\" x=\"321.201367\" y=\"163.012364\" style=\"fill: #ff7f0e; stroke: #ff7f0e\"/>\n     <use xlink:href=\"#ma7202002c4\" x=\"324.621456\" y=\"162.502423\" style=\"fill: #ff7f0e; stroke: #ff7f0e\"/>\n     <use xlink:href=\"#ma7202002c4\" x=\"363.382466\" y=\"161.992482\" style=\"fill: #ff7f0e; stroke: #ff7f0e\"/>\n     <use xlink:href=\"#ma7202002c4\" x=\"367.942585\" y=\"161.482542\" style=\"fill: #ff7f0e; stroke: #ff7f0e\"/>\n    </g>\n   </g>\n   <g id=\"line2d_19\">\n    <path d=\"M 68.114775 163.012364 \nL 70.394835 162.502423 \nL 73.814924 161.992482 \nL 76.094983 160.972601 \nL 78.375043 160.46266 \nL 79.515072 159.95272 \nL 81.795132 159.442779 \nL 85.215221 157.912957 \nL 88.63531 157.403017 \nL 90.915369 156.383135 \nL 94.335458 155.873195 \nL 95.475488 155.363254 \nL 97.755547 154.853313 \nL 104.595726 153.833432 \nL 108.015815 152.30361 \nL 110.295874 151.793669 \nL 115.996022 149.243966 \nL 118.276082 148.734026 \nL 121.696171 147.204204 \nL 123.97623 146.694263 \nL 125.11626 146.184322 \nL 127.396319 145.674382 \nL 129.676379 144.6545 \nL 133.096468 144.14456 \nL 136.516557 142.614738 \nL 138.796616 142.104797 \nL 147.916854 141.594857 \nL 151.336943 140.065035 \nL 153.617002 139.555094 \nL 159.317151 137.005391 \nL 161.59721 136.49545 \nL 165.017299 134.965628 \nL 167.297359 134.455688 \nL 174.137537 131.396044 \nL 177.557626 130.886103 \nL 179.837685 130.376162 \nL 184.397804 128.3364 \nL 187.817893 127.826459 \nL 192.378012 127.316519 \nL 195.798101 125.786697 \nL 202.638279 124.766815 \nL 208.338428 122.217112 \nL 210.618487 121.707172 \nL 226.578903 114.568002 \nL 228.858962 114.058062 \nL 233.419081 112.018299 \nL 235.69914 111.508359 \nL 237.9792 110.488477 \nL 241.399289 109.978537 \nL 243.679348 108.958655 \nL 249.379497 108.448715 \nL 250.519526 107.938774 \nL 255.079645 106.918893 \nL 259.639764 104.87913 \nL 272.180091 103.859249 \nL 274.46015 103.349308 \nL 280.160298 102.839368 \nL 282.440358 102.329427 \nL 285.860447 100.799605 \nL 288.140506 100.289664 \nL 291.560595 98.759843 \nL 294.980684 98.249902 \nL 297.260744 97.739961 \nL 299.540803 96.72008 \nL 302.960892 96.210139 \nL 304.100922 95.700199 \nL 306.380981 95.190258 \nL 309.80107 93.660436 \nL 312.08113 93.150495 \nL 315.501219 92.640555 \nL 320.061338 92.130614 \nL 322.341397 91.620674 \nL 323.481427 91.110733 \nL 325.761486 90.600792 \nL 326.901516 90.090852 \nL 329.181575 89.580911 \nL 332.601664 88.051089 \nL 336.021753 87.541148 \nL 337.161783 87.031208 \nL 344.001961 86.521267 \nL 345.141991 86.011326 \nL 348.56208 85.501386 \nL 349.70211 84.991445 \nL 353.122199 84.481505 \nL 354.262228 83.971564 \nL 356.542288 83.461623 \nL 359.962377 81.931801 \nL 364.522496 81.421861 \nL 370.222644 80.91192 \nL 372.502704 79.892039 \nL 374.782763 79.382098 \nL 377.062822 78.362217 \nL 379.342882 77.852276 \nL 381.622941 76.832395 \nL 387.32309 76.322454 \nL 403.283505 75.812514 \nL 405.563565 75.302573 \nL 414.683802 74.282692 \nL 416.963862 73.772751 \nL 426.084099 73.26281 \nL 437.484396 72.75287 \nL 444.324574 72.242929 \nL 448.884693 71.732988 \nL 456.864901 71.223048 \nL 471.685287 70.713107 \nL 473.965346 69.693226 \nL 478.525465 69.183285 \nL 479.665495 68.673345 \nL 481.945554 68.163404 \nL 484.225614 67.143523 \nL 489.925762 66.633582 \nL 494.485881 64.593819 \nL 497.90597 64.083879 \nL 500.186029 63.063998 \nL 502.466089 62.554057 \nL 507.026207 60.514294 \nL 510.446297 60.004354 \nL 510.446297 60.004354 \n\" clip-path=\"url(#pf7ef7b8355)\" style=\"fill: none; stroke: #2ca02c; stroke-width: 1.5; stroke-linecap: square\"/>\n    <defs>\n     <path id=\"m5e7b726447\" d=\"M -2.5 2.5 \nL 2.5 -2.5 \nM -2.5 -2.5 \nL 2.5 2.5 \n\" style=\"stroke: #2ca02c\"/>\n    </defs>\n    <g clip-path=\"url(#pf7ef7b8355)\">\n     <use xlink:href=\"#m5e7b726447\" x=\"68.114775\" y=\"163.012364\" style=\"fill: #2ca02c; stroke: #2ca02c\"/>\n     <use xlink:href=\"#m5e7b726447\" x=\"70.394835\" y=\"162.502423\" style=\"fill: #2ca02c; stroke: #2ca02c\"/>\n     <use xlink:href=\"#m5e7b726447\" x=\"73.814924\" y=\"161.992482\" style=\"fill: #2ca02c; stroke: #2ca02c\"/>\n     <use xlink:href=\"#m5e7b726447\" x=\"74.954953\" y=\"161.482542\" style=\"fill: #2ca02c; stroke: #2ca02c\"/>\n     <use xlink:href=\"#m5e7b726447\" x=\"76.094983\" y=\"160.972601\" style=\"fill: #2ca02c; stroke: #2ca02c\"/>\n     <use xlink:href=\"#m5e7b726447\" x=\"78.375043\" y=\"160.46266\" style=\"fill: #2ca02c; stroke: #2ca02c\"/>\n     <use xlink:href=\"#m5e7b726447\" x=\"79.515072\" y=\"159.95272\" style=\"fill: #2ca02c; stroke: #2ca02c\"/>\n     <use xlink:href=\"#m5e7b726447\" x=\"81.795132\" y=\"159.442779\" style=\"fill: #2ca02c; stroke: #2ca02c\"/>\n     <use xlink:href=\"#m5e7b726447\" x=\"82.935161\" y=\"158.932838\" style=\"fill: #2ca02c; stroke: #2ca02c\"/>\n     <use xlink:href=\"#m5e7b726447\" x=\"84.075191\" y=\"158.422898\" style=\"fill: #2ca02c; stroke: #2ca02c\"/>\n     <use xlink:href=\"#m5e7b726447\" x=\"85.215221\" y=\"157.912957\" style=\"fill: #2ca02c; stroke: #2ca02c\"/>\n     <use xlink:href=\"#m5e7b726447\" x=\"88.63531\" y=\"157.403017\" style=\"fill: #2ca02c; stroke: #2ca02c\"/>\n     <use xlink:href=\"#m5e7b726447\" x=\"89.775339\" y=\"156.893076\" style=\"fill: #2ca02c; stroke: #2ca02c\"/>\n     <use xlink:href=\"#m5e7b726447\" x=\"90.915369\" y=\"156.383135\" style=\"fill: #2ca02c; stroke: #2ca02c\"/>\n     <use xlink:href=\"#m5e7b726447\" x=\"94.335458\" y=\"155.873195\" style=\"fill: #2ca02c; stroke: #2ca02c\"/>\n     <use xlink:href=\"#m5e7b726447\" x=\"95.475488\" y=\"155.363254\" style=\"fill: #2ca02c; stroke: #2ca02c\"/>\n     <use xlink:href=\"#m5e7b726447\" x=\"97.755547\" y=\"154.853313\" style=\"fill: #2ca02c; stroke: #2ca02c\"/>\n     <use xlink:href=\"#m5e7b726447\" x=\"101.175636\" y=\"154.343373\" style=\"fill: #2ca02c; stroke: #2ca02c\"/>\n     <use xlink:href=\"#m5e7b726447\" x=\"104.595726\" y=\"153.833432\" style=\"fill: #2ca02c; stroke: #2ca02c\"/>\n     <use xlink:href=\"#m5e7b726447\" x=\"105.735755\" y=\"153.323491\" style=\"fill: #2ca02c; stroke: #2ca02c\"/>\n     <use xlink:href=\"#m5e7b726447\" x=\"106.875785\" y=\"152.813551\" style=\"fill: #2ca02c; stroke: #2ca02c\"/>\n     <use xlink:href=\"#m5e7b726447\" x=\"108.015815\" y=\"152.30361\" style=\"fill: #2ca02c; stroke: #2ca02c\"/>\n     <use xlink:href=\"#m5e7b726447\" x=\"110.295874\" y=\"151.793669\" style=\"fill: #2ca02c; stroke: #2ca02c\"/>\n     <use xlink:href=\"#m5e7b726447\" x=\"111.435904\" y=\"151.283729\" style=\"fill: #2ca02c; stroke: #2ca02c\"/>\n     <use xlink:href=\"#m5e7b726447\" x=\"112.575933\" y=\"150.773788\" style=\"fill: #2ca02c; stroke: #2ca02c\"/>\n     <use xlink:href=\"#m5e7b726447\" x=\"113.715963\" y=\"150.263848\" style=\"fill: #2ca02c; stroke: #2ca02c\"/>\n     <use xlink:href=\"#m5e7b726447\" x=\"114.855993\" y=\"149.753907\" style=\"fill: #2ca02c; stroke: #2ca02c\"/>\n     <use xlink:href=\"#m5e7b726447\" x=\"115.996022\" y=\"149.243966\" style=\"fill: #2ca02c; stroke: #2ca02c\"/>\n     <use xlink:href=\"#m5e7b726447\" x=\"118.276082\" y=\"148.734026\" style=\"fill: #2ca02c; stroke: #2ca02c\"/>\n     <use xlink:href=\"#m5e7b726447\" x=\"119.416112\" y=\"148.224085\" style=\"fill: #2ca02c; stroke: #2ca02c\"/>\n     <use xlink:href=\"#m5e7b726447\" x=\"120.556141\" y=\"147.714144\" style=\"fill: #2ca02c; stroke: #2ca02c\"/>\n     <use xlink:href=\"#m5e7b726447\" x=\"121.696171\" y=\"147.204204\" style=\"fill: #2ca02c; stroke: #2ca02c\"/>\n     <use xlink:href=\"#m5e7b726447\" x=\"123.97623\" y=\"146.694263\" style=\"fill: #2ca02c; stroke: #2ca02c\"/>\n     <use xlink:href=\"#m5e7b726447\" x=\"125.11626\" y=\"146.184322\" style=\"fill: #2ca02c; stroke: #2ca02c\"/>\n     <use xlink:href=\"#m5e7b726447\" x=\"127.396319\" y=\"145.674382\" style=\"fill: #2ca02c; stroke: #2ca02c\"/>\n     <use xlink:href=\"#m5e7b726447\" x=\"128.536349\" y=\"145.164441\" style=\"fill: #2ca02c; stroke: #2ca02c\"/>\n     <use xlink:href=\"#m5e7b726447\" x=\"129.676379\" y=\"144.6545\" style=\"fill: #2ca02c; stroke: #2ca02c\"/>\n     <use xlink:href=\"#m5e7b726447\" x=\"133.096468\" y=\"144.14456\" style=\"fill: #2ca02c; stroke: #2ca02c\"/>\n     <use xlink:href=\"#m5e7b726447\" x=\"134.236498\" y=\"143.634619\" style=\"fill: #2ca02c; stroke: #2ca02c\"/>\n     <use xlink:href=\"#m5e7b726447\" x=\"135.376527\" y=\"143.124679\" style=\"fill: #2ca02c; stroke: #2ca02c\"/>\n     <use xlink:href=\"#m5e7b726447\" x=\"136.516557\" y=\"142.614738\" style=\"fill: #2ca02c; stroke: #2ca02c\"/>\n     <use xlink:href=\"#m5e7b726447\" x=\"138.796616\" y=\"142.104797\" style=\"fill: #2ca02c; stroke: #2ca02c\"/>\n     <use xlink:href=\"#m5e7b726447\" x=\"147.916854\" y=\"141.594857\" style=\"fill: #2ca02c; stroke: #2ca02c\"/>\n     <use xlink:href=\"#m5e7b726447\" x=\"149.056884\" y=\"141.084916\" style=\"fill: #2ca02c; stroke: #2ca02c\"/>\n     <use xlink:href=\"#m5e7b726447\" x=\"150.196913\" y=\"140.574975\" style=\"fill: #2ca02c; stroke: #2ca02c\"/>\n     <use xlink:href=\"#m5e7b726447\" x=\"151.336943\" y=\"140.065035\" style=\"fill: #2ca02c; stroke: #2ca02c\"/>\n     <use xlink:href=\"#m5e7b726447\" x=\"153.617002\" y=\"139.555094\" style=\"fill: #2ca02c; stroke: #2ca02c\"/>\n     <use xlink:href=\"#m5e7b726447\" x=\"154.757032\" y=\"139.045153\" style=\"fill: #2ca02c; stroke: #2ca02c\"/>\n     <use xlink:href=\"#m5e7b726447\" x=\"155.897062\" y=\"138.535213\" style=\"fill: #2ca02c; stroke: #2ca02c\"/>\n     <use xlink:href=\"#m5e7b726447\" x=\"157.037091\" y=\"138.025272\" style=\"fill: #2ca02c; stroke: #2ca02c\"/>\n     <use xlink:href=\"#m5e7b726447\" x=\"158.177121\" y=\"137.515331\" style=\"fill: #2ca02c; stroke: #2ca02c\"/>\n     <use xlink:href=\"#m5e7b726447\" x=\"159.317151\" y=\"137.005391\" style=\"fill: #2ca02c; stroke: #2ca02c\"/>\n     <use xlink:href=\"#m5e7b726447\" x=\"161.59721\" y=\"136.49545\" style=\"fill: #2ca02c; stroke: #2ca02c\"/>\n     <use xlink:href=\"#m5e7b726447\" x=\"162.73724\" y=\"135.98551\" style=\"fill: #2ca02c; stroke: #2ca02c\"/>\n     <use xlink:href=\"#m5e7b726447\" x=\"163.87727\" y=\"135.475569\" style=\"fill: #2ca02c; stroke: #2ca02c\"/>\n     <use xlink:href=\"#m5e7b726447\" x=\"165.017299\" y=\"134.965628\" style=\"fill: #2ca02c; stroke: #2ca02c\"/>\n     <use xlink:href=\"#m5e7b726447\" x=\"167.297359\" y=\"134.455688\" style=\"fill: #2ca02c; stroke: #2ca02c\"/>\n     <use xlink:href=\"#m5e7b726447\" x=\"168.437388\" y=\"133.945747\" style=\"fill: #2ca02c; stroke: #2ca02c\"/>\n     <use xlink:href=\"#m5e7b726447\" x=\"169.577418\" y=\"133.435806\" style=\"fill: #2ca02c; stroke: #2ca02c\"/>\n     <use xlink:href=\"#m5e7b726447\" x=\"170.717448\" y=\"132.925866\" style=\"fill: #2ca02c; stroke: #2ca02c\"/>\n     <use xlink:href=\"#m5e7b726447\" x=\"171.857477\" y=\"132.415925\" style=\"fill: #2ca02c; stroke: #2ca02c\"/>\n     <use xlink:href=\"#m5e7b726447\" x=\"172.997507\" y=\"131.905984\" style=\"fill: #2ca02c; stroke: #2ca02c\"/>\n     <use xlink:href=\"#m5e7b726447\" x=\"174.137537\" y=\"131.396044\" style=\"fill: #2ca02c; stroke: #2ca02c\"/>\n     <use xlink:href=\"#m5e7b726447\" x=\"177.557626\" y=\"130.886103\" style=\"fill: #2ca02c; stroke: #2ca02c\"/>\n     <use xlink:href=\"#m5e7b726447\" x=\"179.837685\" y=\"130.376162\" style=\"fill: #2ca02c; stroke: #2ca02c\"/>\n     <use xlink:href=\"#m5e7b726447\" x=\"180.977715\" y=\"129.866222\" style=\"fill: #2ca02c; stroke: #2ca02c\"/>\n     <use xlink:href=\"#m5e7b726447\" x=\"182.117745\" y=\"129.356281\" style=\"fill: #2ca02c; stroke: #2ca02c\"/>\n     <use xlink:href=\"#m5e7b726447\" x=\"183.257774\" y=\"128.846341\" style=\"fill: #2ca02c; stroke: #2ca02c\"/>\n     <use xlink:href=\"#m5e7b726447\" x=\"184.397804\" y=\"128.3364\" style=\"fill: #2ca02c; stroke: #2ca02c\"/>\n     <use xlink:href=\"#m5e7b726447\" x=\"187.817893\" y=\"127.826459\" style=\"fill: #2ca02c; stroke: #2ca02c\"/>\n     <use xlink:href=\"#m5e7b726447\" x=\"192.378012\" y=\"127.316519\" style=\"fill: #2ca02c; stroke: #2ca02c\"/>\n     <use xlink:href=\"#m5e7b726447\" x=\"193.518042\" y=\"126.806578\" style=\"fill: #2ca02c; stroke: #2ca02c\"/>\n     <use xlink:href=\"#m5e7b726447\" x=\"194.658071\" y=\"126.296637\" style=\"fill: #2ca02c; stroke: #2ca02c\"/>\n     <use xlink:href=\"#m5e7b726447\" x=\"195.798101\" y=\"125.786697\" style=\"fill: #2ca02c; stroke: #2ca02c\"/>\n     <use xlink:href=\"#m5e7b726447\" x=\"199.21819\" y=\"125.276756\" style=\"fill: #2ca02c; stroke: #2ca02c\"/>\n     <use xlink:href=\"#m5e7b726447\" x=\"202.638279\" y=\"124.766815\" style=\"fill: #2ca02c; stroke: #2ca02c\"/>\n     <use xlink:href=\"#m5e7b726447\" x=\"203.778309\" y=\"124.256875\" style=\"fill: #2ca02c; stroke: #2ca02c\"/>\n     <use xlink:href=\"#m5e7b726447\" x=\"204.918339\" y=\"123.746934\" style=\"fill: #2ca02c; stroke: #2ca02c\"/>\n     <use xlink:href=\"#m5e7b726447\" x=\"206.058368\" y=\"123.236993\" style=\"fill: #2ca02c; stroke: #2ca02c\"/>\n     <use xlink:href=\"#m5e7b726447\" x=\"207.198398\" y=\"122.727053\" style=\"fill: #2ca02c; stroke: #2ca02c\"/>\n     <use xlink:href=\"#m5e7b726447\" x=\"208.338428\" y=\"122.217112\" style=\"fill: #2ca02c; stroke: #2ca02c\"/>\n     <use xlink:href=\"#m5e7b726447\" x=\"210.618487\" y=\"121.707172\" style=\"fill: #2ca02c; stroke: #2ca02c\"/>\n     <use xlink:href=\"#m5e7b726447\" x=\"211.758517\" y=\"121.197231\" style=\"fill: #2ca02c; stroke: #2ca02c\"/>\n     <use xlink:href=\"#m5e7b726447\" x=\"212.898546\" y=\"120.68729\" style=\"fill: #2ca02c; stroke: #2ca02c\"/>\n     <use xlink:href=\"#m5e7b726447\" x=\"214.038576\" y=\"120.17735\" style=\"fill: #2ca02c; stroke: #2ca02c\"/>\n     <use xlink:href=\"#m5e7b726447\" x=\"215.178606\" y=\"119.667409\" style=\"fill: #2ca02c; stroke: #2ca02c\"/>\n     <use xlink:href=\"#m5e7b726447\" x=\"216.318636\" y=\"119.157468\" style=\"fill: #2ca02c; stroke: #2ca02c\"/>\n     <use xlink:href=\"#m5e7b726447\" x=\"217.458665\" y=\"118.647528\" style=\"fill: #2ca02c; stroke: #2ca02c\"/>\n     <use xlink:href=\"#m5e7b726447\" x=\"218.598695\" y=\"118.137587\" style=\"fill: #2ca02c; stroke: #2ca02c\"/>\n     <use xlink:href=\"#m5e7b726447\" x=\"219.738725\" y=\"117.627646\" style=\"fill: #2ca02c; stroke: #2ca02c\"/>\n     <use xlink:href=\"#m5e7b726447\" x=\"220.878754\" y=\"117.117706\" style=\"fill: #2ca02c; stroke: #2ca02c\"/>\n     <use xlink:href=\"#m5e7b726447\" x=\"222.018784\" y=\"116.607765\" style=\"fill: #2ca02c; stroke: #2ca02c\"/>\n     <use xlink:href=\"#m5e7b726447\" x=\"223.158814\" y=\"116.097824\" style=\"fill: #2ca02c; stroke: #2ca02c\"/>\n     <use xlink:href=\"#m5e7b726447\" x=\"224.298843\" y=\"115.587884\" style=\"fill: #2ca02c; stroke: #2ca02c\"/>\n     <use xlink:href=\"#m5e7b726447\" x=\"225.438873\" y=\"115.077943\" style=\"fill: #2ca02c; stroke: #2ca02c\"/>\n     <use xlink:href=\"#m5e7b726447\" x=\"226.578903\" y=\"114.568002\" style=\"fill: #2ca02c; stroke: #2ca02c\"/>\n     <use xlink:href=\"#m5e7b726447\" x=\"228.858962\" y=\"114.058062\" style=\"fill: #2ca02c; stroke: #2ca02c\"/>\n     <use xlink:href=\"#m5e7b726447\" x=\"229.998992\" y=\"113.548121\" style=\"fill: #2ca02c; stroke: #2ca02c\"/>\n     <use xlink:href=\"#m5e7b726447\" x=\"231.139022\" y=\"113.038181\" style=\"fill: #2ca02c; stroke: #2ca02c\"/>\n     <use xlink:href=\"#m5e7b726447\" x=\"232.279051\" y=\"112.52824\" style=\"fill: #2ca02c; stroke: #2ca02c\"/>\n     <use xlink:href=\"#m5e7b726447\" x=\"233.419081\" y=\"112.018299\" style=\"fill: #2ca02c; stroke: #2ca02c\"/>\n     <use xlink:href=\"#m5e7b726447\" x=\"235.69914\" y=\"111.508359\" style=\"fill: #2ca02c; stroke: #2ca02c\"/>\n     <use xlink:href=\"#m5e7b726447\" x=\"236.83917\" y=\"110.998418\" style=\"fill: #2ca02c; stroke: #2ca02c\"/>\n     <use xlink:href=\"#m5e7b726447\" x=\"237.9792\" y=\"110.488477\" style=\"fill: #2ca02c; stroke: #2ca02c\"/>\n     <use xlink:href=\"#m5e7b726447\" x=\"241.399289\" y=\"109.978537\" style=\"fill: #2ca02c; stroke: #2ca02c\"/>\n     <use xlink:href=\"#m5e7b726447\" x=\"242.539318\" y=\"109.468596\" style=\"fill: #2ca02c; stroke: #2ca02c\"/>\n     <use xlink:href=\"#m5e7b726447\" x=\"243.679348\" y=\"108.958655\" style=\"fill: #2ca02c; stroke: #2ca02c\"/>\n     <use xlink:href=\"#m5e7b726447\" x=\"249.379497\" y=\"108.448715\" style=\"fill: #2ca02c; stroke: #2ca02c\"/>\n     <use xlink:href=\"#m5e7b726447\" x=\"250.519526\" y=\"107.938774\" style=\"fill: #2ca02c; stroke: #2ca02c\"/>\n     <use xlink:href=\"#m5e7b726447\" x=\"252.799586\" y=\"107.428833\" style=\"fill: #2ca02c; stroke: #2ca02c\"/>\n     <use xlink:href=\"#m5e7b726447\" x=\"255.079645\" y=\"106.918893\" style=\"fill: #2ca02c; stroke: #2ca02c\"/>\n     <use xlink:href=\"#m5e7b726447\" x=\"256.219675\" y=\"106.408952\" style=\"fill: #2ca02c; stroke: #2ca02c\"/>\n     <use xlink:href=\"#m5e7b726447\" x=\"257.359704\" y=\"105.899012\" style=\"fill: #2ca02c; stroke: #2ca02c\"/>\n     <use xlink:href=\"#m5e7b726447\" x=\"258.499734\" y=\"105.389071\" style=\"fill: #2ca02c; stroke: #2ca02c\"/>\n     <use xlink:href=\"#m5e7b726447\" x=\"259.639764\" y=\"104.87913\" style=\"fill: #2ca02c; stroke: #2ca02c\"/>\n     <use xlink:href=\"#m5e7b726447\" x=\"266.479942\" y=\"104.36919\" style=\"fill: #2ca02c; stroke: #2ca02c\"/>\n     <use xlink:href=\"#m5e7b726447\" x=\"272.180091\" y=\"103.859249\" style=\"fill: #2ca02c; stroke: #2ca02c\"/>\n     <use xlink:href=\"#m5e7b726447\" x=\"274.46015\" y=\"103.349308\" style=\"fill: #2ca02c; stroke: #2ca02c\"/>\n     <use xlink:href=\"#m5e7b726447\" x=\"280.160298\" y=\"102.839368\" style=\"fill: #2ca02c; stroke: #2ca02c\"/>\n     <use xlink:href=\"#m5e7b726447\" x=\"282.440358\" y=\"102.329427\" style=\"fill: #2ca02c; stroke: #2ca02c\"/>\n     <use xlink:href=\"#m5e7b726447\" x=\"283.580387\" y=\"101.819486\" style=\"fill: #2ca02c; stroke: #2ca02c\"/>\n     <use xlink:href=\"#m5e7b726447\" x=\"284.720417\" y=\"101.309546\" style=\"fill: #2ca02c; stroke: #2ca02c\"/>\n     <use xlink:href=\"#m5e7b726447\" x=\"285.860447\" y=\"100.799605\" style=\"fill: #2ca02c; stroke: #2ca02c\"/>\n     <use xlink:href=\"#m5e7b726447\" x=\"288.140506\" y=\"100.289664\" style=\"fill: #2ca02c; stroke: #2ca02c\"/>\n     <use xlink:href=\"#m5e7b726447\" x=\"289.280536\" y=\"99.779724\" style=\"fill: #2ca02c; stroke: #2ca02c\"/>\n     <use xlink:href=\"#m5e7b726447\" x=\"290.420566\" y=\"99.269783\" style=\"fill: #2ca02c; stroke: #2ca02c\"/>\n     <use xlink:href=\"#m5e7b726447\" x=\"291.560595\" y=\"98.759843\" style=\"fill: #2ca02c; stroke: #2ca02c\"/>\n     <use xlink:href=\"#m5e7b726447\" x=\"294.980684\" y=\"98.249902\" style=\"fill: #2ca02c; stroke: #2ca02c\"/>\n     <use xlink:href=\"#m5e7b726447\" x=\"297.260744\" y=\"97.739961\" style=\"fill: #2ca02c; stroke: #2ca02c\"/>\n     <use xlink:href=\"#m5e7b726447\" x=\"298.400773\" y=\"97.230021\" style=\"fill: #2ca02c; stroke: #2ca02c\"/>\n     <use xlink:href=\"#m5e7b726447\" x=\"299.540803\" y=\"96.72008\" style=\"fill: #2ca02c; stroke: #2ca02c\"/>\n     <use xlink:href=\"#m5e7b726447\" x=\"302.960892\" y=\"96.210139\" style=\"fill: #2ca02c; stroke: #2ca02c\"/>\n     <use xlink:href=\"#m5e7b726447\" x=\"304.100922\" y=\"95.700199\" style=\"fill: #2ca02c; stroke: #2ca02c\"/>\n     <use xlink:href=\"#m5e7b726447\" x=\"306.380981\" y=\"95.190258\" style=\"fill: #2ca02c; stroke: #2ca02c\"/>\n     <use xlink:href=\"#m5e7b726447\" x=\"307.521011\" y=\"94.680317\" style=\"fill: #2ca02c; stroke: #2ca02c\"/>\n     <use xlink:href=\"#m5e7b726447\" x=\"308.661041\" y=\"94.170377\" style=\"fill: #2ca02c; stroke: #2ca02c\"/>\n     <use xlink:href=\"#m5e7b726447\" x=\"309.80107\" y=\"93.660436\" style=\"fill: #2ca02c; stroke: #2ca02c\"/>\n     <use xlink:href=\"#m5e7b726447\" x=\"312.08113\" y=\"93.150495\" style=\"fill: #2ca02c; stroke: #2ca02c\"/>\n     <use xlink:href=\"#m5e7b726447\" x=\"315.501219\" y=\"92.640555\" style=\"fill: #2ca02c; stroke: #2ca02c\"/>\n     <use xlink:href=\"#m5e7b726447\" x=\"320.061338\" y=\"92.130614\" style=\"fill: #2ca02c; stroke: #2ca02c\"/>\n     <use xlink:href=\"#m5e7b726447\" x=\"322.341397\" y=\"91.620674\" style=\"fill: #2ca02c; stroke: #2ca02c\"/>\n     <use xlink:href=\"#m5e7b726447\" x=\"323.481427\" y=\"91.110733\" style=\"fill: #2ca02c; stroke: #2ca02c\"/>\n     <use xlink:href=\"#m5e7b726447\" x=\"325.761486\" y=\"90.600792\" style=\"fill: #2ca02c; stroke: #2ca02c\"/>\n     <use xlink:href=\"#m5e7b726447\" x=\"326.901516\" y=\"90.090852\" style=\"fill: #2ca02c; stroke: #2ca02c\"/>\n     <use xlink:href=\"#m5e7b726447\" x=\"329.181575\" y=\"89.580911\" style=\"fill: #2ca02c; stroke: #2ca02c\"/>\n     <use xlink:href=\"#m5e7b726447\" x=\"330.321605\" y=\"89.07097\" style=\"fill: #2ca02c; stroke: #2ca02c\"/>\n     <use xlink:href=\"#m5e7b726447\" x=\"331.461635\" y=\"88.56103\" style=\"fill: #2ca02c; stroke: #2ca02c\"/>\n     <use xlink:href=\"#m5e7b726447\" x=\"332.601664\" y=\"88.051089\" style=\"fill: #2ca02c; stroke: #2ca02c\"/>\n     <use xlink:href=\"#m5e7b726447\" x=\"336.021753\" y=\"87.541148\" style=\"fill: #2ca02c; stroke: #2ca02c\"/>\n     <use xlink:href=\"#m5e7b726447\" x=\"337.161783\" y=\"87.031208\" style=\"fill: #2ca02c; stroke: #2ca02c\"/>\n     <use xlink:href=\"#m5e7b726447\" x=\"344.001961\" y=\"86.521267\" style=\"fill: #2ca02c; stroke: #2ca02c\"/>\n     <use xlink:href=\"#m5e7b726447\" x=\"345.141991\" y=\"86.011326\" style=\"fill: #2ca02c; stroke: #2ca02c\"/>\n     <use xlink:href=\"#m5e7b726447\" x=\"348.56208\" y=\"85.501386\" style=\"fill: #2ca02c; stroke: #2ca02c\"/>\n     <use xlink:href=\"#m5e7b726447\" x=\"349.70211\" y=\"84.991445\" style=\"fill: #2ca02c; stroke: #2ca02c\"/>\n     <use xlink:href=\"#m5e7b726447\" x=\"353.122199\" y=\"84.481505\" style=\"fill: #2ca02c; stroke: #2ca02c\"/>\n     <use xlink:href=\"#m5e7b726447\" x=\"354.262228\" y=\"83.971564\" style=\"fill: #2ca02c; stroke: #2ca02c\"/>\n     <use xlink:href=\"#m5e7b726447\" x=\"356.542288\" y=\"83.461623\" style=\"fill: #2ca02c; stroke: #2ca02c\"/>\n     <use xlink:href=\"#m5e7b726447\" x=\"357.682318\" y=\"82.951683\" style=\"fill: #2ca02c; stroke: #2ca02c\"/>\n     <use xlink:href=\"#m5e7b726447\" x=\"358.822347\" y=\"82.441742\" style=\"fill: #2ca02c; stroke: #2ca02c\"/>\n     <use xlink:href=\"#m5e7b726447\" x=\"359.962377\" y=\"81.931801\" style=\"fill: #2ca02c; stroke: #2ca02c\"/>\n     <use xlink:href=\"#m5e7b726447\" x=\"364.522496\" y=\"81.421861\" style=\"fill: #2ca02c; stroke: #2ca02c\"/>\n     <use xlink:href=\"#m5e7b726447\" x=\"370.222644\" y=\"80.91192\" style=\"fill: #2ca02c; stroke: #2ca02c\"/>\n     <use xlink:href=\"#m5e7b726447\" x=\"371.362674\" y=\"80.401979\" style=\"fill: #2ca02c; stroke: #2ca02c\"/>\n     <use xlink:href=\"#m5e7b726447\" x=\"372.502704\" y=\"79.892039\" style=\"fill: #2ca02c; stroke: #2ca02c\"/>\n     <use xlink:href=\"#m5e7b726447\" x=\"374.782763\" y=\"79.382098\" style=\"fill: #2ca02c; stroke: #2ca02c\"/>\n     <use xlink:href=\"#m5e7b726447\" x=\"375.922793\" y=\"78.872157\" style=\"fill: #2ca02c; stroke: #2ca02c\"/>\n     <use xlink:href=\"#m5e7b726447\" x=\"377.062822\" y=\"78.362217\" style=\"fill: #2ca02c; stroke: #2ca02c\"/>\n     <use xlink:href=\"#m5e7b726447\" x=\"379.342882\" y=\"77.852276\" style=\"fill: #2ca02c; stroke: #2ca02c\"/>\n     <use xlink:href=\"#m5e7b726447\" x=\"380.482911\" y=\"77.342336\" style=\"fill: #2ca02c; stroke: #2ca02c\"/>\n     <use xlink:href=\"#m5e7b726447\" x=\"381.622941\" y=\"76.832395\" style=\"fill: #2ca02c; stroke: #2ca02c\"/>\n     <use xlink:href=\"#m5e7b726447\" x=\"387.32309\" y=\"76.322454\" style=\"fill: #2ca02c; stroke: #2ca02c\"/>\n     <use xlink:href=\"#m5e7b726447\" x=\"403.283505\" y=\"75.812514\" style=\"fill: #2ca02c; stroke: #2ca02c\"/>\n     <use xlink:href=\"#m5e7b726447\" x=\"405.563565\" y=\"75.302573\" style=\"fill: #2ca02c; stroke: #2ca02c\"/>\n     <use xlink:href=\"#m5e7b726447\" x=\"410.123683\" y=\"74.792632\" style=\"fill: #2ca02c; stroke: #2ca02c\"/>\n     <use xlink:href=\"#m5e7b726447\" x=\"414.683802\" y=\"74.282692\" style=\"fill: #2ca02c; stroke: #2ca02c\"/>\n     <use xlink:href=\"#m5e7b726447\" x=\"416.963862\" y=\"73.772751\" style=\"fill: #2ca02c; stroke: #2ca02c\"/>\n     <use xlink:href=\"#m5e7b726447\" x=\"426.084099\" y=\"73.26281\" style=\"fill: #2ca02c; stroke: #2ca02c\"/>\n     <use xlink:href=\"#m5e7b726447\" x=\"437.484396\" y=\"72.75287\" style=\"fill: #2ca02c; stroke: #2ca02c\"/>\n     <use xlink:href=\"#m5e7b726447\" x=\"444.324574\" y=\"72.242929\" style=\"fill: #2ca02c; stroke: #2ca02c\"/>\n     <use xlink:href=\"#m5e7b726447\" x=\"448.884693\" y=\"71.732988\" style=\"fill: #2ca02c; stroke: #2ca02c\"/>\n     <use xlink:href=\"#m5e7b726447\" x=\"456.864901\" y=\"71.223048\" style=\"fill: #2ca02c; stroke: #2ca02c\"/>\n     <use xlink:href=\"#m5e7b726447\" x=\"471.685287\" y=\"70.713107\" style=\"fill: #2ca02c; stroke: #2ca02c\"/>\n     <use xlink:href=\"#m5e7b726447\" x=\"472.825317\" y=\"70.203167\" style=\"fill: #2ca02c; stroke: #2ca02c\"/>\n     <use xlink:href=\"#m5e7b726447\" x=\"473.965346\" y=\"69.693226\" style=\"fill: #2ca02c; stroke: #2ca02c\"/>\n     <use xlink:href=\"#m5e7b726447\" x=\"478.525465\" y=\"69.183285\" style=\"fill: #2ca02c; stroke: #2ca02c\"/>\n     <use xlink:href=\"#m5e7b726447\" x=\"479.665495\" y=\"68.673345\" style=\"fill: #2ca02c; stroke: #2ca02c\"/>\n     <use xlink:href=\"#m5e7b726447\" x=\"481.945554\" y=\"68.163404\" style=\"fill: #2ca02c; stroke: #2ca02c\"/>\n     <use xlink:href=\"#m5e7b726447\" x=\"483.085584\" y=\"67.653463\" style=\"fill: #2ca02c; stroke: #2ca02c\"/>\n     <use xlink:href=\"#m5e7b726447\" x=\"484.225614\" y=\"67.143523\" style=\"fill: #2ca02c; stroke: #2ca02c\"/>\n     <use xlink:href=\"#m5e7b726447\" x=\"489.925762\" y=\"66.633582\" style=\"fill: #2ca02c; stroke: #2ca02c\"/>\n     <use xlink:href=\"#m5e7b726447\" x=\"491.065792\" y=\"66.123641\" style=\"fill: #2ca02c; stroke: #2ca02c\"/>\n     <use xlink:href=\"#m5e7b726447\" x=\"492.205821\" y=\"65.613701\" style=\"fill: #2ca02c; stroke: #2ca02c\"/>\n     <use xlink:href=\"#m5e7b726447\" x=\"493.345851\" y=\"65.10376\" style=\"fill: #2ca02c; stroke: #2ca02c\"/>\n     <use xlink:href=\"#m5e7b726447\" x=\"494.485881\" y=\"64.593819\" style=\"fill: #2ca02c; stroke: #2ca02c\"/>\n     <use xlink:href=\"#m5e7b726447\" x=\"497.90597\" y=\"64.083879\" style=\"fill: #2ca02c; stroke: #2ca02c\"/>\n     <use xlink:href=\"#m5e7b726447\" x=\"499.046\" y=\"63.573938\" style=\"fill: #2ca02c; stroke: #2ca02c\"/>\n     <use xlink:href=\"#m5e7b726447\" x=\"500.186029\" y=\"63.063998\" style=\"fill: #2ca02c; stroke: #2ca02c\"/>\n     <use xlink:href=\"#m5e7b726447\" x=\"502.466089\" y=\"62.554057\" style=\"fill: #2ca02c; stroke: #2ca02c\"/>\n     <use xlink:href=\"#m5e7b726447\" x=\"503.606118\" y=\"62.044116\" style=\"fill: #2ca02c; stroke: #2ca02c\"/>\n     <use xlink:href=\"#m5e7b726447\" x=\"504.746148\" y=\"61.534176\" style=\"fill: #2ca02c; stroke: #2ca02c\"/>\n     <use xlink:href=\"#m5e7b726447\" x=\"505.886178\" y=\"61.024235\" style=\"fill: #2ca02c; stroke: #2ca02c\"/>\n     <use xlink:href=\"#m5e7b726447\" x=\"507.026207\" y=\"60.514294\" style=\"fill: #2ca02c; stroke: #2ca02c\"/>\n     <use xlink:href=\"#m5e7b726447\" x=\"510.446297\" y=\"60.004354\" style=\"fill: #2ca02c; stroke: #2ca02c\"/>\n    </g>\n   </g>\n   <g id=\"line2d_20\">\n    <path d=\"M 68.114775 163.012364 \nL 121.696171 162.502423 \nL 126.25629 160.46266 \nL 128.536349 159.95272 \nL 129.676379 159.442779 \nL 135.376527 158.932838 \nL 153.617002 158.422898 \nL 158.177121 157.403017 \nL 165.017299 156.893076 \nL 168.437388 156.383135 \nL 170.717448 155.363254 \nL 175.277567 154.343373 \nL 177.557626 153.323491 \nL 182.117745 152.813551 \nL 185.537834 151.283729 \nL 187.817893 150.773788 \nL 193.518042 150.263848 \nL 196.938131 148.734026 \nL 203.778309 147.714144 \nL 204.918339 147.204204 \nL 208.338428 146.694263 \nL 212.898546 146.184322 \nL 260.779794 145.674382 \nL 279.020269 145.164441 \nL 281.300328 144.6545 \nL 284.720417 144.14456 \nL 285.860447 143.634619 \nL 290.420566 143.124679 \nL 297.260744 142.614738 \nL 299.540803 142.104797 \nL 300.680833 141.594857 \nL 305.240952 141.084916 \nL 308.661041 139.555094 \nL 310.9411 139.045153 \nL 313.221159 138.025272 \nL 317.781278 137.005391 \nL 321.201367 136.49545 \nL 322.341397 135.98551 \nL 329.181575 134.965628 \nL 331.461635 133.945747 \nL 336.021753 133.435806 \nL 338.301813 132.925866 \nL 341.721902 132.415925 \nL 342.861932 131.905984 \nL 347.42205 131.396044 \nL 349.70211 130.886103 \nL 354.262228 130.376162 \nL 370.222644 129.866222 \nL 374.782763 127.826459 \nL 379.342882 126.806578 \nL 382.762971 126.296637 \nL 387.32309 125.276756 \nL 388.463119 124.766815 \nL 391.883208 124.256875 \nL 393.023238 123.746934 \nL 396.443327 123.236993 \nL 398.723387 122.217112 \nL 402.143476 121.707172 \nL 404.423535 120.68729 \nL 406.703594 120.17735 \nL 414.683802 116.607765 \nL 418.103891 116.097824 \nL 423.80404 115.587884 \nL 435.204337 110.488477 \nL 437.484396 109.978537 \nL 440.904485 109.468596 \nL 443.184545 108.958655 \nL 447.744663 108.448715 \nL 450.024723 107.428833 \nL 454.584842 106.918893 \nL 455.724871 106.408952 \nL 463.705079 105.899012 \nL 468.265198 104.87913 \nL 469.405228 104.36919 \nL 473.965346 103.349308 \nL 477.385435 102.839368 \nL 479.665495 101.819486 \nL 484.225614 100.799605 \nL 485.365643 100.289664 \nL 487.645703 99.779724 \nL 488.785732 99.269783 \nL 491.065792 98.759843 \nL 496.76594 98.249902 \nL 501.326059 96.210139 \nL 503.606118 95.700199 \nL 505.886178 94.680317 \nL 510.446297 94.170377 \nL 510.446297 94.170377 \n\" clip-path=\"url(#pf7ef7b8355)\" style=\"fill: none; stroke: #d62728; stroke-width: 1.5; stroke-linecap: square\"/>\n    <defs>\n     <path id=\"maeeead3943\" d=\"M -2.5 2.5 \nL 2.5 -2.5 \nM -2.5 -2.5 \nL 2.5 2.5 \n\" style=\"stroke: #d62728\"/>\n    </defs>\n    <g clip-path=\"url(#pf7ef7b8355)\">\n     <use xlink:href=\"#maeeead3943\" x=\"68.114775\" y=\"163.012364\" style=\"fill: #d62728; stroke: #d62728\"/>\n     <use xlink:href=\"#maeeead3943\" x=\"121.696171\" y=\"162.502423\" style=\"fill: #d62728; stroke: #d62728\"/>\n     <use xlink:href=\"#maeeead3943\" x=\"122.836201\" y=\"161.992482\" style=\"fill: #d62728; stroke: #d62728\"/>\n     <use xlink:href=\"#maeeead3943\" x=\"123.97623\" y=\"161.482542\" style=\"fill: #d62728; stroke: #d62728\"/>\n     <use xlink:href=\"#maeeead3943\" x=\"125.11626\" y=\"160.972601\" style=\"fill: #d62728; stroke: #d62728\"/>\n     <use xlink:href=\"#maeeead3943\" x=\"126.25629\" y=\"160.46266\" style=\"fill: #d62728; stroke: #d62728\"/>\n     <use xlink:href=\"#maeeead3943\" x=\"128.536349\" y=\"159.95272\" style=\"fill: #d62728; stroke: #d62728\"/>\n     <use xlink:href=\"#maeeead3943\" x=\"129.676379\" y=\"159.442779\" style=\"fill: #d62728; stroke: #d62728\"/>\n     <use xlink:href=\"#maeeead3943\" x=\"135.376527\" y=\"158.932838\" style=\"fill: #d62728; stroke: #d62728\"/>\n     <use xlink:href=\"#maeeead3943\" x=\"153.617002\" y=\"158.422898\" style=\"fill: #d62728; stroke: #d62728\"/>\n     <use xlink:href=\"#maeeead3943\" x=\"155.897062\" y=\"157.912957\" style=\"fill: #d62728; stroke: #d62728\"/>\n     <use xlink:href=\"#maeeead3943\" x=\"158.177121\" y=\"157.403017\" style=\"fill: #d62728; stroke: #d62728\"/>\n     <use xlink:href=\"#maeeead3943\" x=\"165.017299\" y=\"156.893076\" style=\"fill: #d62728; stroke: #d62728\"/>\n     <use xlink:href=\"#maeeead3943\" x=\"168.437388\" y=\"156.383135\" style=\"fill: #d62728; stroke: #d62728\"/>\n     <use xlink:href=\"#maeeead3943\" x=\"169.577418\" y=\"155.873195\" style=\"fill: #d62728; stroke: #d62728\"/>\n     <use xlink:href=\"#maeeead3943\" x=\"170.717448\" y=\"155.363254\" style=\"fill: #d62728; stroke: #d62728\"/>\n     <use xlink:href=\"#maeeead3943\" x=\"172.997507\" y=\"154.853313\" style=\"fill: #d62728; stroke: #d62728\"/>\n     <use xlink:href=\"#maeeead3943\" x=\"175.277567\" y=\"154.343373\" style=\"fill: #d62728; stroke: #d62728\"/>\n     <use xlink:href=\"#maeeead3943\" x=\"176.417596\" y=\"153.833432\" style=\"fill: #d62728; stroke: #d62728\"/>\n     <use xlink:href=\"#maeeead3943\" x=\"177.557626\" y=\"153.323491\" style=\"fill: #d62728; stroke: #d62728\"/>\n     <use xlink:href=\"#maeeead3943\" x=\"182.117745\" y=\"152.813551\" style=\"fill: #d62728; stroke: #d62728\"/>\n     <use xlink:href=\"#maeeead3943\" x=\"183.257774\" y=\"152.30361\" style=\"fill: #d62728; stroke: #d62728\"/>\n     <use xlink:href=\"#maeeead3943\" x=\"184.397804\" y=\"151.793669\" style=\"fill: #d62728; stroke: #d62728\"/>\n     <use xlink:href=\"#maeeead3943\" x=\"185.537834\" y=\"151.283729\" style=\"fill: #d62728; stroke: #d62728\"/>\n     <use xlink:href=\"#maeeead3943\" x=\"187.817893\" y=\"150.773788\" style=\"fill: #d62728; stroke: #d62728\"/>\n     <use xlink:href=\"#maeeead3943\" x=\"193.518042\" y=\"150.263848\" style=\"fill: #d62728; stroke: #d62728\"/>\n     <use xlink:href=\"#maeeead3943\" x=\"194.658071\" y=\"149.753907\" style=\"fill: #d62728; stroke: #d62728\"/>\n     <use xlink:href=\"#maeeead3943\" x=\"195.798101\" y=\"149.243966\" style=\"fill: #d62728; stroke: #d62728\"/>\n     <use xlink:href=\"#maeeead3943\" x=\"196.938131\" y=\"148.734026\" style=\"fill: #d62728; stroke: #d62728\"/>\n     <use xlink:href=\"#maeeead3943\" x=\"200.35822\" y=\"148.224085\" style=\"fill: #d62728; stroke: #d62728\"/>\n     <use xlink:href=\"#maeeead3943\" x=\"203.778309\" y=\"147.714144\" style=\"fill: #d62728; stroke: #d62728\"/>\n     <use xlink:href=\"#maeeead3943\" x=\"204.918339\" y=\"147.204204\" style=\"fill: #d62728; stroke: #d62728\"/>\n     <use xlink:href=\"#maeeead3943\" x=\"208.338428\" y=\"146.694263\" style=\"fill: #d62728; stroke: #d62728\"/>\n     <use xlink:href=\"#maeeead3943\" x=\"212.898546\" y=\"146.184322\" style=\"fill: #d62728; stroke: #d62728\"/>\n     <use xlink:href=\"#maeeead3943\" x=\"260.779794\" y=\"145.674382\" style=\"fill: #d62728; stroke: #d62728\"/>\n     <use xlink:href=\"#maeeead3943\" x=\"279.020269\" y=\"145.164441\" style=\"fill: #d62728; stroke: #d62728\"/>\n     <use xlink:href=\"#maeeead3943\" x=\"281.300328\" y=\"144.6545\" style=\"fill: #d62728; stroke: #d62728\"/>\n     <use xlink:href=\"#maeeead3943\" x=\"284.720417\" y=\"144.14456\" style=\"fill: #d62728; stroke: #d62728\"/>\n     <use xlink:href=\"#maeeead3943\" x=\"285.860447\" y=\"143.634619\" style=\"fill: #d62728; stroke: #d62728\"/>\n     <use xlink:href=\"#maeeead3943\" x=\"290.420566\" y=\"143.124679\" style=\"fill: #d62728; stroke: #d62728\"/>\n     <use xlink:href=\"#maeeead3943\" x=\"297.260744\" y=\"142.614738\" style=\"fill: #d62728; stroke: #d62728\"/>\n     <use xlink:href=\"#maeeead3943\" x=\"299.540803\" y=\"142.104797\" style=\"fill: #d62728; stroke: #d62728\"/>\n     <use xlink:href=\"#maeeead3943\" x=\"300.680833\" y=\"141.594857\" style=\"fill: #d62728; stroke: #d62728\"/>\n     <use xlink:href=\"#maeeead3943\" x=\"305.240952\" y=\"141.084916\" style=\"fill: #d62728; stroke: #d62728\"/>\n     <use xlink:href=\"#maeeead3943\" x=\"306.380981\" y=\"140.574975\" style=\"fill: #d62728; stroke: #d62728\"/>\n     <use xlink:href=\"#maeeead3943\" x=\"307.521011\" y=\"140.065035\" style=\"fill: #d62728; stroke: #d62728\"/>\n     <use xlink:href=\"#maeeead3943\" x=\"308.661041\" y=\"139.555094\" style=\"fill: #d62728; stroke: #d62728\"/>\n     <use xlink:href=\"#maeeead3943\" x=\"310.9411\" y=\"139.045153\" style=\"fill: #d62728; stroke: #d62728\"/>\n     <use xlink:href=\"#maeeead3943\" x=\"312.08113\" y=\"138.535213\" style=\"fill: #d62728; stroke: #d62728\"/>\n     <use xlink:href=\"#maeeead3943\" x=\"313.221159\" y=\"138.025272\" style=\"fill: #d62728; stroke: #d62728\"/>\n     <use xlink:href=\"#maeeead3943\" x=\"315.501219\" y=\"137.515331\" style=\"fill: #d62728; stroke: #d62728\"/>\n     <use xlink:href=\"#maeeead3943\" x=\"317.781278\" y=\"137.005391\" style=\"fill: #d62728; stroke: #d62728\"/>\n     <use xlink:href=\"#maeeead3943\" x=\"321.201367\" y=\"136.49545\" style=\"fill: #d62728; stroke: #d62728\"/>\n     <use xlink:href=\"#maeeead3943\" x=\"322.341397\" y=\"135.98551\" style=\"fill: #d62728; stroke: #d62728\"/>\n     <use xlink:href=\"#maeeead3943\" x=\"325.761486\" y=\"135.475569\" style=\"fill: #d62728; stroke: #d62728\"/>\n     <use xlink:href=\"#maeeead3943\" x=\"329.181575\" y=\"134.965628\" style=\"fill: #d62728; stroke: #d62728\"/>\n     <use xlink:href=\"#maeeead3943\" x=\"330.321605\" y=\"134.455688\" style=\"fill: #d62728; stroke: #d62728\"/>\n     <use xlink:href=\"#maeeead3943\" x=\"331.461635\" y=\"133.945747\" style=\"fill: #d62728; stroke: #d62728\"/>\n     <use xlink:href=\"#maeeead3943\" x=\"336.021753\" y=\"133.435806\" style=\"fill: #d62728; stroke: #d62728\"/>\n     <use xlink:href=\"#maeeead3943\" x=\"338.301813\" y=\"132.925866\" style=\"fill: #d62728; stroke: #d62728\"/>\n     <use xlink:href=\"#maeeead3943\" x=\"341.721902\" y=\"132.415925\" style=\"fill: #d62728; stroke: #d62728\"/>\n     <use xlink:href=\"#maeeead3943\" x=\"342.861932\" y=\"131.905984\" style=\"fill: #d62728; stroke: #d62728\"/>\n     <use xlink:href=\"#maeeead3943\" x=\"347.42205\" y=\"131.396044\" style=\"fill: #d62728; stroke: #d62728\"/>\n     <use xlink:href=\"#maeeead3943\" x=\"349.70211\" y=\"130.886103\" style=\"fill: #d62728; stroke: #d62728\"/>\n     <use xlink:href=\"#maeeead3943\" x=\"354.262228\" y=\"130.376162\" style=\"fill: #d62728; stroke: #d62728\"/>\n     <use xlink:href=\"#maeeead3943\" x=\"370.222644\" y=\"129.866222\" style=\"fill: #d62728; stroke: #d62728\"/>\n     <use xlink:href=\"#maeeead3943\" x=\"371.362674\" y=\"129.356281\" style=\"fill: #d62728; stroke: #d62728\"/>\n     <use xlink:href=\"#maeeead3943\" x=\"372.502704\" y=\"128.846341\" style=\"fill: #d62728; stroke: #d62728\"/>\n     <use xlink:href=\"#maeeead3943\" x=\"373.642733\" y=\"128.3364\" style=\"fill: #d62728; stroke: #d62728\"/>\n     <use xlink:href=\"#maeeead3943\" x=\"374.782763\" y=\"127.826459\" style=\"fill: #d62728; stroke: #d62728\"/>\n     <use xlink:href=\"#maeeead3943\" x=\"377.062822\" y=\"127.316519\" style=\"fill: #d62728; stroke: #d62728\"/>\n     <use xlink:href=\"#maeeead3943\" x=\"379.342882\" y=\"126.806578\" style=\"fill: #d62728; stroke: #d62728\"/>\n     <use xlink:href=\"#maeeead3943\" x=\"382.762971\" y=\"126.296637\" style=\"fill: #d62728; stroke: #d62728\"/>\n     <use xlink:href=\"#maeeead3943\" x=\"385.04303\" y=\"125.786697\" style=\"fill: #d62728; stroke: #d62728\"/>\n     <use xlink:href=\"#maeeead3943\" x=\"387.32309\" y=\"125.276756\" style=\"fill: #d62728; stroke: #d62728\"/>\n     <use xlink:href=\"#maeeead3943\" x=\"388.463119\" y=\"124.766815\" style=\"fill: #d62728; stroke: #d62728\"/>\n     <use xlink:href=\"#maeeead3943\" x=\"391.883208\" y=\"124.256875\" style=\"fill: #d62728; stroke: #d62728\"/>\n     <use xlink:href=\"#maeeead3943\" x=\"393.023238\" y=\"123.746934\" style=\"fill: #d62728; stroke: #d62728\"/>\n     <use xlink:href=\"#maeeead3943\" x=\"396.443327\" y=\"123.236993\" style=\"fill: #d62728; stroke: #d62728\"/>\n     <use xlink:href=\"#maeeead3943\" x=\"397.583357\" y=\"122.727053\" style=\"fill: #d62728; stroke: #d62728\"/>\n     <use xlink:href=\"#maeeead3943\" x=\"398.723387\" y=\"122.217112\" style=\"fill: #d62728; stroke: #d62728\"/>\n     <use xlink:href=\"#maeeead3943\" x=\"402.143476\" y=\"121.707172\" style=\"fill: #d62728; stroke: #d62728\"/>\n     <use xlink:href=\"#maeeead3943\" x=\"403.283505\" y=\"121.197231\" style=\"fill: #d62728; stroke: #d62728\"/>\n     <use xlink:href=\"#maeeead3943\" x=\"404.423535\" y=\"120.68729\" style=\"fill: #d62728; stroke: #d62728\"/>\n     <use xlink:href=\"#maeeead3943\" x=\"406.703594\" y=\"120.17735\" style=\"fill: #d62728; stroke: #d62728\"/>\n     <use xlink:href=\"#maeeead3943\" x=\"407.843624\" y=\"119.667409\" style=\"fill: #d62728; stroke: #d62728\"/>\n     <use xlink:href=\"#maeeead3943\" x=\"408.983654\" y=\"119.157468\" style=\"fill: #d62728; stroke: #d62728\"/>\n     <use xlink:href=\"#maeeead3943\" x=\"410.123683\" y=\"118.647528\" style=\"fill: #d62728; stroke: #d62728\"/>\n     <use xlink:href=\"#maeeead3943\" x=\"411.263713\" y=\"118.137587\" style=\"fill: #d62728; stroke: #d62728\"/>\n     <use xlink:href=\"#maeeead3943\" x=\"412.403743\" y=\"117.627646\" style=\"fill: #d62728; stroke: #d62728\"/>\n     <use xlink:href=\"#maeeead3943\" x=\"413.543773\" y=\"117.117706\" style=\"fill: #d62728; stroke: #d62728\"/>\n     <use xlink:href=\"#maeeead3943\" x=\"414.683802\" y=\"116.607765\" style=\"fill: #d62728; stroke: #d62728\"/>\n     <use xlink:href=\"#maeeead3943\" x=\"418.103891\" y=\"116.097824\" style=\"fill: #d62728; stroke: #d62728\"/>\n     <use xlink:href=\"#maeeead3943\" x=\"423.80404\" y=\"115.587884\" style=\"fill: #d62728; stroke: #d62728\"/>\n     <use xlink:href=\"#maeeead3943\" x=\"424.944069\" y=\"115.077943\" style=\"fill: #d62728; stroke: #d62728\"/>\n     <use xlink:href=\"#maeeead3943\" x=\"426.084099\" y=\"114.568002\" style=\"fill: #d62728; stroke: #d62728\"/>\n     <use xlink:href=\"#maeeead3943\" x=\"427.224129\" y=\"114.058062\" style=\"fill: #d62728; stroke: #d62728\"/>\n     <use xlink:href=\"#maeeead3943\" x=\"428.364159\" y=\"113.548121\" style=\"fill: #d62728; stroke: #d62728\"/>\n     <use xlink:href=\"#maeeead3943\" x=\"429.504188\" y=\"113.038181\" style=\"fill: #d62728; stroke: #d62728\"/>\n     <use xlink:href=\"#maeeead3943\" x=\"430.644218\" y=\"112.52824\" style=\"fill: #d62728; stroke: #d62728\"/>\n     <use xlink:href=\"#maeeead3943\" x=\"431.784248\" y=\"112.018299\" style=\"fill: #d62728; stroke: #d62728\"/>\n     <use xlink:href=\"#maeeead3943\" x=\"432.924277\" y=\"111.508359\" style=\"fill: #d62728; stroke: #d62728\"/>\n     <use xlink:href=\"#maeeead3943\" x=\"434.064307\" y=\"110.998418\" style=\"fill: #d62728; stroke: #d62728\"/>\n     <use xlink:href=\"#maeeead3943\" x=\"435.204337\" y=\"110.488477\" style=\"fill: #d62728; stroke: #d62728\"/>\n     <use xlink:href=\"#maeeead3943\" x=\"437.484396\" y=\"109.978537\" style=\"fill: #d62728; stroke: #d62728\"/>\n     <use xlink:href=\"#maeeead3943\" x=\"440.904485\" y=\"109.468596\" style=\"fill: #d62728; stroke: #d62728\"/>\n     <use xlink:href=\"#maeeead3943\" x=\"443.184545\" y=\"108.958655\" style=\"fill: #d62728; stroke: #d62728\"/>\n     <use xlink:href=\"#maeeead3943\" x=\"447.744663\" y=\"108.448715\" style=\"fill: #d62728; stroke: #d62728\"/>\n     <use xlink:href=\"#maeeead3943\" x=\"448.884693\" y=\"107.938774\" style=\"fill: #d62728; stroke: #d62728\"/>\n     <use xlink:href=\"#maeeead3943\" x=\"450.024723\" y=\"107.428833\" style=\"fill: #d62728; stroke: #d62728\"/>\n     <use xlink:href=\"#maeeead3943\" x=\"454.584842\" y=\"106.918893\" style=\"fill: #d62728; stroke: #d62728\"/>\n     <use xlink:href=\"#maeeead3943\" x=\"455.724871\" y=\"106.408952\" style=\"fill: #d62728; stroke: #d62728\"/>\n     <use xlink:href=\"#maeeead3943\" x=\"463.705079\" y=\"105.899012\" style=\"fill: #d62728; stroke: #d62728\"/>\n     <use xlink:href=\"#maeeead3943\" x=\"465.985138\" y=\"105.389071\" style=\"fill: #d62728; stroke: #d62728\"/>\n     <use xlink:href=\"#maeeead3943\" x=\"468.265198\" y=\"104.87913\" style=\"fill: #d62728; stroke: #d62728\"/>\n     <use xlink:href=\"#maeeead3943\" x=\"469.405228\" y=\"104.36919\" style=\"fill: #d62728; stroke: #d62728\"/>\n     <use xlink:href=\"#maeeead3943\" x=\"471.685287\" y=\"103.859249\" style=\"fill: #d62728; stroke: #d62728\"/>\n     <use xlink:href=\"#maeeead3943\" x=\"473.965346\" y=\"103.349308\" style=\"fill: #d62728; stroke: #d62728\"/>\n     <use xlink:href=\"#maeeead3943\" x=\"477.385435\" y=\"102.839368\" style=\"fill: #d62728; stroke: #d62728\"/>\n     <use xlink:href=\"#maeeead3943\" x=\"478.525465\" y=\"102.329427\" style=\"fill: #d62728; stroke: #d62728\"/>\n     <use xlink:href=\"#maeeead3943\" x=\"479.665495\" y=\"101.819486\" style=\"fill: #d62728; stroke: #d62728\"/>\n     <use xlink:href=\"#maeeead3943\" x=\"481.945554\" y=\"101.309546\" style=\"fill: #d62728; stroke: #d62728\"/>\n     <use xlink:href=\"#maeeead3943\" x=\"484.225614\" y=\"100.799605\" style=\"fill: #d62728; stroke: #d62728\"/>\n     <use xlink:href=\"#maeeead3943\" x=\"485.365643\" y=\"100.289664\" style=\"fill: #d62728; stroke: #d62728\"/>\n     <use xlink:href=\"#maeeead3943\" x=\"487.645703\" y=\"99.779724\" style=\"fill: #d62728; stroke: #d62728\"/>\n     <use xlink:href=\"#maeeead3943\" x=\"488.785732\" y=\"99.269783\" style=\"fill: #d62728; stroke: #d62728\"/>\n     <use xlink:href=\"#maeeead3943\" x=\"491.065792\" y=\"98.759843\" style=\"fill: #d62728; stroke: #d62728\"/>\n     <use xlink:href=\"#maeeead3943\" x=\"496.76594\" y=\"98.249902\" style=\"fill: #d62728; stroke: #d62728\"/>\n     <use xlink:href=\"#maeeead3943\" x=\"497.90597\" y=\"97.739961\" style=\"fill: #d62728; stroke: #d62728\"/>\n     <use xlink:href=\"#maeeead3943\" x=\"499.046\" y=\"97.230021\" style=\"fill: #d62728; stroke: #d62728\"/>\n     <use xlink:href=\"#maeeead3943\" x=\"500.186029\" y=\"96.72008\" style=\"fill: #d62728; stroke: #d62728\"/>\n     <use xlink:href=\"#maeeead3943\" x=\"501.326059\" y=\"96.210139\" style=\"fill: #d62728; stroke: #d62728\"/>\n     <use xlink:href=\"#maeeead3943\" x=\"503.606118\" y=\"95.700199\" style=\"fill: #d62728; stroke: #d62728\"/>\n     <use xlink:href=\"#maeeead3943\" x=\"504.746148\" y=\"95.190258\" style=\"fill: #d62728; stroke: #d62728\"/>\n     <use xlink:href=\"#maeeead3943\" x=\"505.886178\" y=\"94.680317\" style=\"fill: #d62728; stroke: #d62728\"/>\n     <use xlink:href=\"#maeeead3943\" x=\"510.446297\" y=\"94.170377\" style=\"fill: #d62728; stroke: #d62728\"/>\n    </g>\n   </g>\n   <g id=\"line2d_21\"/>\n   <g id=\"line2d_22\">\n    <path d=\"M 65.834716 163.012364 \nL 72.674894 159.95272 \nL 74.954953 159.442779 \nL 82.935161 155.873195 \nL 85.215221 155.363254 \nL 86.35525 154.853313 \nL 93.195429 153.323491 \nL 100.035607 152.813551 \nL 102.315666 151.793669 \nL 106.875785 151.283729 \nL 109.155844 150.773788 \nL 110.295874 150.263848 \nL 112.575933 149.753907 \nL 115.996022 149.243966 \nL 120.556141 148.734026 \nL 127.396319 145.674382 \nL 131.956438 145.164441 \nL 137.656587 142.614738 \nL 142.216705 141.594857 \nL 168.437388 129.866222 \nL 170.717448 129.356281 \nL 184.397804 123.236993 \nL 188.957923 122.217112 \nL 195.798101 119.157468 \nL 198.07816 118.647528 \nL 204.918339 115.587884 \nL 208.338428 115.077943 \nL 209.478457 114.568002 \nL 212.898546 114.058062 \nL 214.038576 113.548121 \nL 216.318636 113.038181 \nL 219.738725 112.52824 \nL 222.018784 111.508359 \nL 228.858962 110.998418 \nL 231.139022 109.978537 \nL 233.419081 109.468596 \nL 234.559111 108.958655 \nL 236.83917 108.448715 \nL 242.539318 107.938774 \nL 243.679348 107.428833 \nL 245.959408 106.918893 \nL 247.099437 106.408952 \nL 251.659556 105.389071 \nL 255.079645 103.859249 \nL 257.359704 103.349308 \nL 258.499734 102.839368 \nL 261.919823 102.329427 \nL 274.46015 96.72008 \nL 276.740209 96.210139 \nL 287.000477 91.620674 \nL 293.840655 90.090852 \nL 298.400773 88.051089 \nL 300.680833 87.541148 \nL 305.240952 85.501386 \nL 309.80107 84.481505 \nL 312.08113 83.461623 \nL 316.641249 82.441742 \nL 323.481427 79.382098 \nL 325.761486 78.872157 \nL 375.922793 56.434769 \nL 378.202852 55.924828 \nL 382.762971 55.414888 \nL 383.903001 54.904947 \nL 390.743179 53.885066 \nL 395.303297 53.375125 \nL 396.443327 52.865185 \nL 398.723387 52.355244 \nL 404.423535 49.805541 \nL 410.123683 49.2956 \nL 413.543773 48.785659 \nL 416.963862 47.255838 \nL 419.243921 46.745897 \nL 421.52398 45.726016 \nL 424.944069 45.216075 \nL 427.224129 44.706134 \nL 436.344366 44.196194 \nL 453.444812 36.547084 \nL 458.004931 36.037143 \nL 462.565049 33.997381 \nL 464.845109 33.48744 \nL 465.985138 32.9775 \nL 469.405228 32.467559 \nL 471.685287 31.957618 \nL 473.965346 30.937737 \nL 478.525465 30.427796 \nL 511.586326 15.639518 \nL 518.426504 14.619636 \nL 518.426504 14.619636 \n\" clip-path=\"url(#pf7ef7b8355)\" style=\"fill: none; stroke: #8c564b; stroke-width: 1.5; stroke-linecap: square\"/>\n    <defs>\n     <path id=\"m6f87cd43da\" d=\"M -2.5 2.5 \nL 2.5 -2.5 \nM -2.5 -2.5 \nL 2.5 2.5 \n\" style=\"stroke: #8c564b\"/>\n    </defs>\n    <g clip-path=\"url(#pf7ef7b8355)\">\n     <use xlink:href=\"#m6f87cd43da\" x=\"65.834716\" y=\"163.012364\" style=\"fill: #8c564b; stroke: #8c564b\"/>\n     <use xlink:href=\"#m6f87cd43da\" x=\"66.974746\" y=\"162.502423\" style=\"fill: #8c564b; stroke: #8c564b\"/>\n     <use xlink:href=\"#m6f87cd43da\" x=\"68.114775\" y=\"161.992482\" style=\"fill: #8c564b; stroke: #8c564b\"/>\n     <use xlink:href=\"#m6f87cd43da\" x=\"69.254805\" y=\"161.482542\" style=\"fill: #8c564b; stroke: #8c564b\"/>\n     <use xlink:href=\"#m6f87cd43da\" x=\"70.394835\" y=\"160.972601\" style=\"fill: #8c564b; stroke: #8c564b\"/>\n     <use xlink:href=\"#m6f87cd43da\" x=\"71.534864\" y=\"160.46266\" style=\"fill: #8c564b; stroke: #8c564b\"/>\n     <use xlink:href=\"#m6f87cd43da\" x=\"72.674894\" y=\"159.95272\" style=\"fill: #8c564b; stroke: #8c564b\"/>\n     <use xlink:href=\"#m6f87cd43da\" x=\"74.954953\" y=\"159.442779\" style=\"fill: #8c564b; stroke: #8c564b\"/>\n     <use xlink:href=\"#m6f87cd43da\" x=\"76.094983\" y=\"158.932838\" style=\"fill: #8c564b; stroke: #8c564b\"/>\n     <use xlink:href=\"#m6f87cd43da\" x=\"77.235013\" y=\"158.422898\" style=\"fill: #8c564b; stroke: #8c564b\"/>\n     <use xlink:href=\"#m6f87cd43da\" x=\"78.375043\" y=\"157.912957\" style=\"fill: #8c564b; stroke: #8c564b\"/>\n     <use xlink:href=\"#m6f87cd43da\" x=\"79.515072\" y=\"157.403017\" style=\"fill: #8c564b; stroke: #8c564b\"/>\n     <use xlink:href=\"#m6f87cd43da\" x=\"80.655102\" y=\"156.893076\" style=\"fill: #8c564b; stroke: #8c564b\"/>\n     <use xlink:href=\"#m6f87cd43da\" x=\"81.795132\" y=\"156.383135\" style=\"fill: #8c564b; stroke: #8c564b\"/>\n     <use xlink:href=\"#m6f87cd43da\" x=\"82.935161\" y=\"155.873195\" style=\"fill: #8c564b; stroke: #8c564b\"/>\n     <use xlink:href=\"#m6f87cd43da\" x=\"85.215221\" y=\"155.363254\" style=\"fill: #8c564b; stroke: #8c564b\"/>\n     <use xlink:href=\"#m6f87cd43da\" x=\"86.35525\" y=\"154.853313\" style=\"fill: #8c564b; stroke: #8c564b\"/>\n     <use xlink:href=\"#m6f87cd43da\" x=\"88.63531\" y=\"154.343373\" style=\"fill: #8c564b; stroke: #8c564b\"/>\n     <use xlink:href=\"#m6f87cd43da\" x=\"90.915369\" y=\"153.833432\" style=\"fill: #8c564b; stroke: #8c564b\"/>\n     <use xlink:href=\"#m6f87cd43da\" x=\"93.195429\" y=\"153.323491\" style=\"fill: #8c564b; stroke: #8c564b\"/>\n     <use xlink:href=\"#m6f87cd43da\" x=\"100.035607\" y=\"152.813551\" style=\"fill: #8c564b; stroke: #8c564b\"/>\n     <use xlink:href=\"#m6f87cd43da\" x=\"101.175636\" y=\"152.30361\" style=\"fill: #8c564b; stroke: #8c564b\"/>\n     <use xlink:href=\"#m6f87cd43da\" x=\"102.315666\" y=\"151.793669\" style=\"fill: #8c564b; stroke: #8c564b\"/>\n     <use xlink:href=\"#m6f87cd43da\" x=\"106.875785\" y=\"151.283729\" style=\"fill: #8c564b; stroke: #8c564b\"/>\n     <use xlink:href=\"#m6f87cd43da\" x=\"109.155844\" y=\"150.773788\" style=\"fill: #8c564b; stroke: #8c564b\"/>\n     <use xlink:href=\"#m6f87cd43da\" x=\"110.295874\" y=\"150.263848\" style=\"fill: #8c564b; stroke: #8c564b\"/>\n     <use xlink:href=\"#m6f87cd43da\" x=\"112.575933\" y=\"149.753907\" style=\"fill: #8c564b; stroke: #8c564b\"/>\n     <use xlink:href=\"#m6f87cd43da\" x=\"115.996022\" y=\"149.243966\" style=\"fill: #8c564b; stroke: #8c564b\"/>\n     <use xlink:href=\"#m6f87cd43da\" x=\"120.556141\" y=\"148.734026\" style=\"fill: #8c564b; stroke: #8c564b\"/>\n     <use xlink:href=\"#m6f87cd43da\" x=\"121.696171\" y=\"148.224085\" style=\"fill: #8c564b; stroke: #8c564b\"/>\n     <use xlink:href=\"#m6f87cd43da\" x=\"122.836201\" y=\"147.714144\" style=\"fill: #8c564b; stroke: #8c564b\"/>\n     <use xlink:href=\"#m6f87cd43da\" x=\"123.97623\" y=\"147.204204\" style=\"fill: #8c564b; stroke: #8c564b\"/>\n     <use xlink:href=\"#m6f87cd43da\" x=\"125.11626\" y=\"146.694263\" style=\"fill: #8c564b; stroke: #8c564b\"/>\n     <use xlink:href=\"#m6f87cd43da\" x=\"126.25629\" y=\"146.184322\" style=\"fill: #8c564b; stroke: #8c564b\"/>\n     <use xlink:href=\"#m6f87cd43da\" x=\"127.396319\" y=\"145.674382\" style=\"fill: #8c564b; stroke: #8c564b\"/>\n     <use xlink:href=\"#m6f87cd43da\" x=\"131.956438\" y=\"145.164441\" style=\"fill: #8c564b; stroke: #8c564b\"/>\n     <use xlink:href=\"#m6f87cd43da\" x=\"133.096468\" y=\"144.6545\" style=\"fill: #8c564b; stroke: #8c564b\"/>\n     <use xlink:href=\"#m6f87cd43da\" x=\"134.236498\" y=\"144.14456\" style=\"fill: #8c564b; stroke: #8c564b\"/>\n     <use xlink:href=\"#m6f87cd43da\" x=\"135.376527\" y=\"143.634619\" style=\"fill: #8c564b; stroke: #8c564b\"/>\n     <use xlink:href=\"#m6f87cd43da\" x=\"136.516557\" y=\"143.124679\" style=\"fill: #8c564b; stroke: #8c564b\"/>\n     <use xlink:href=\"#m6f87cd43da\" x=\"137.656587\" y=\"142.614738\" style=\"fill: #8c564b; stroke: #8c564b\"/>\n     <use xlink:href=\"#m6f87cd43da\" x=\"139.936646\" y=\"142.104797\" style=\"fill: #8c564b; stroke: #8c564b\"/>\n     <use xlink:href=\"#m6f87cd43da\" x=\"142.216705\" y=\"141.594857\" style=\"fill: #8c564b; stroke: #8c564b\"/>\n     <use xlink:href=\"#m6f87cd43da\" x=\"143.356735\" y=\"141.084916\" style=\"fill: #8c564b; stroke: #8c564b\"/>\n     <use xlink:href=\"#m6f87cd43da\" x=\"144.496765\" y=\"140.574975\" style=\"fill: #8c564b; stroke: #8c564b\"/>\n     <use xlink:href=\"#m6f87cd43da\" x=\"145.636794\" y=\"140.065035\" style=\"fill: #8c564b; stroke: #8c564b\"/>\n     <use xlink:href=\"#m6f87cd43da\" x=\"146.776824\" y=\"139.555094\" style=\"fill: #8c564b; stroke: #8c564b\"/>\n     <use xlink:href=\"#m6f87cd43da\" x=\"147.916854\" y=\"139.045153\" style=\"fill: #8c564b; stroke: #8c564b\"/>\n     <use xlink:href=\"#m6f87cd43da\" x=\"149.056884\" y=\"138.535213\" style=\"fill: #8c564b; stroke: #8c564b\"/>\n     <use xlink:href=\"#m6f87cd43da\" x=\"150.196913\" y=\"138.025272\" style=\"fill: #8c564b; stroke: #8c564b\"/>\n     <use xlink:href=\"#m6f87cd43da\" x=\"151.336943\" y=\"137.515331\" style=\"fill: #8c564b; stroke: #8c564b\"/>\n     <use xlink:href=\"#m6f87cd43da\" x=\"152.476973\" y=\"137.005391\" style=\"fill: #8c564b; stroke: #8c564b\"/>\n     <use xlink:href=\"#m6f87cd43da\" x=\"153.617002\" y=\"136.49545\" style=\"fill: #8c564b; stroke: #8c564b\"/>\n     <use xlink:href=\"#m6f87cd43da\" x=\"154.757032\" y=\"135.98551\" style=\"fill: #8c564b; stroke: #8c564b\"/>\n     <use xlink:href=\"#m6f87cd43da\" x=\"155.897062\" y=\"135.475569\" style=\"fill: #8c564b; stroke: #8c564b\"/>\n     <use xlink:href=\"#m6f87cd43da\" x=\"157.037091\" y=\"134.965628\" style=\"fill: #8c564b; stroke: #8c564b\"/>\n     <use xlink:href=\"#m6f87cd43da\" x=\"158.177121\" y=\"134.455688\" style=\"fill: #8c564b; stroke: #8c564b\"/>\n     <use xlink:href=\"#m6f87cd43da\" x=\"159.317151\" y=\"133.945747\" style=\"fill: #8c564b; stroke: #8c564b\"/>\n     <use xlink:href=\"#m6f87cd43da\" x=\"160.457181\" y=\"133.435806\" style=\"fill: #8c564b; stroke: #8c564b\"/>\n     <use xlink:href=\"#m6f87cd43da\" x=\"161.59721\" y=\"132.925866\" style=\"fill: #8c564b; stroke: #8c564b\"/>\n     <use xlink:href=\"#m6f87cd43da\" x=\"162.73724\" y=\"132.415925\" style=\"fill: #8c564b; stroke: #8c564b\"/>\n     <use xlink:href=\"#m6f87cd43da\" x=\"163.87727\" y=\"131.905984\" style=\"fill: #8c564b; stroke: #8c564b\"/>\n     <use xlink:href=\"#m6f87cd43da\" x=\"165.017299\" y=\"131.396044\" style=\"fill: #8c564b; stroke: #8c564b\"/>\n     <use xlink:href=\"#m6f87cd43da\" x=\"166.157329\" y=\"130.886103\" style=\"fill: #8c564b; stroke: #8c564b\"/>\n     <use xlink:href=\"#m6f87cd43da\" x=\"167.297359\" y=\"130.376162\" style=\"fill: #8c564b; stroke: #8c564b\"/>\n     <use xlink:href=\"#m6f87cd43da\" x=\"168.437388\" y=\"129.866222\" style=\"fill: #8c564b; stroke: #8c564b\"/>\n     <use xlink:href=\"#m6f87cd43da\" x=\"170.717448\" y=\"129.356281\" style=\"fill: #8c564b; stroke: #8c564b\"/>\n     <use xlink:href=\"#m6f87cd43da\" x=\"171.857477\" y=\"128.846341\" style=\"fill: #8c564b; stroke: #8c564b\"/>\n     <use xlink:href=\"#m6f87cd43da\" x=\"172.997507\" y=\"128.3364\" style=\"fill: #8c564b; stroke: #8c564b\"/>\n     <use xlink:href=\"#m6f87cd43da\" x=\"174.137537\" y=\"127.826459\" style=\"fill: #8c564b; stroke: #8c564b\"/>\n     <use xlink:href=\"#m6f87cd43da\" x=\"175.277567\" y=\"127.316519\" style=\"fill: #8c564b; stroke: #8c564b\"/>\n     <use xlink:href=\"#m6f87cd43da\" x=\"176.417596\" y=\"126.806578\" style=\"fill: #8c564b; stroke: #8c564b\"/>\n     <use xlink:href=\"#m6f87cd43da\" x=\"177.557626\" y=\"126.296637\" style=\"fill: #8c564b; stroke: #8c564b\"/>\n     <use xlink:href=\"#m6f87cd43da\" x=\"178.697656\" y=\"125.786697\" style=\"fill: #8c564b; stroke: #8c564b\"/>\n     <use xlink:href=\"#m6f87cd43da\" x=\"179.837685\" y=\"125.276756\" style=\"fill: #8c564b; stroke: #8c564b\"/>\n     <use xlink:href=\"#m6f87cd43da\" x=\"180.977715\" y=\"124.766815\" style=\"fill: #8c564b; stroke: #8c564b\"/>\n     <use xlink:href=\"#m6f87cd43da\" x=\"182.117745\" y=\"124.256875\" style=\"fill: #8c564b; stroke: #8c564b\"/>\n     <use xlink:href=\"#m6f87cd43da\" x=\"183.257774\" y=\"123.746934\" style=\"fill: #8c564b; stroke: #8c564b\"/>\n     <use xlink:href=\"#m6f87cd43da\" x=\"184.397804\" y=\"123.236993\" style=\"fill: #8c564b; stroke: #8c564b\"/>\n     <use xlink:href=\"#m6f87cd43da\" x=\"186.677863\" y=\"122.727053\" style=\"fill: #8c564b; stroke: #8c564b\"/>\n     <use xlink:href=\"#m6f87cd43da\" x=\"188.957923\" y=\"122.217112\" style=\"fill: #8c564b; stroke: #8c564b\"/>\n     <use xlink:href=\"#m6f87cd43da\" x=\"190.097953\" y=\"121.707172\" style=\"fill: #8c564b; stroke: #8c564b\"/>\n     <use xlink:href=\"#m6f87cd43da\" x=\"191.237982\" y=\"121.197231\" style=\"fill: #8c564b; stroke: #8c564b\"/>\n     <use xlink:href=\"#m6f87cd43da\" x=\"192.378012\" y=\"120.68729\" style=\"fill: #8c564b; stroke: #8c564b\"/>\n     <use xlink:href=\"#m6f87cd43da\" x=\"193.518042\" y=\"120.17735\" style=\"fill: #8c564b; stroke: #8c564b\"/>\n     <use xlink:href=\"#m6f87cd43da\" x=\"194.658071\" y=\"119.667409\" style=\"fill: #8c564b; stroke: #8c564b\"/>\n     <use xlink:href=\"#m6f87cd43da\" x=\"195.798101\" y=\"119.157468\" style=\"fill: #8c564b; stroke: #8c564b\"/>\n     <use xlink:href=\"#m6f87cd43da\" x=\"198.07816\" y=\"118.647528\" style=\"fill: #8c564b; stroke: #8c564b\"/>\n     <use xlink:href=\"#m6f87cd43da\" x=\"199.21819\" y=\"118.137587\" style=\"fill: #8c564b; stroke: #8c564b\"/>\n     <use xlink:href=\"#m6f87cd43da\" x=\"200.35822\" y=\"117.627646\" style=\"fill: #8c564b; stroke: #8c564b\"/>\n     <use xlink:href=\"#m6f87cd43da\" x=\"201.498249\" y=\"117.117706\" style=\"fill: #8c564b; stroke: #8c564b\"/>\n     <use xlink:href=\"#m6f87cd43da\" x=\"202.638279\" y=\"116.607765\" style=\"fill: #8c564b; stroke: #8c564b\"/>\n     <use xlink:href=\"#m6f87cd43da\" x=\"203.778309\" y=\"116.097824\" style=\"fill: #8c564b; stroke: #8c564b\"/>\n     <use xlink:href=\"#m6f87cd43da\" x=\"204.918339\" y=\"115.587884\" style=\"fill: #8c564b; stroke: #8c564b\"/>\n     <use xlink:href=\"#m6f87cd43da\" x=\"208.338428\" y=\"115.077943\" style=\"fill: #8c564b; stroke: #8c564b\"/>\n     <use xlink:href=\"#m6f87cd43da\" x=\"209.478457\" y=\"114.568002\" style=\"fill: #8c564b; stroke: #8c564b\"/>\n     <use xlink:href=\"#m6f87cd43da\" x=\"212.898546\" y=\"114.058062\" style=\"fill: #8c564b; stroke: #8c564b\"/>\n     <use xlink:href=\"#m6f87cd43da\" x=\"214.038576\" y=\"113.548121\" style=\"fill: #8c564b; stroke: #8c564b\"/>\n     <use xlink:href=\"#m6f87cd43da\" x=\"216.318636\" y=\"113.038181\" style=\"fill: #8c564b; stroke: #8c564b\"/>\n     <use xlink:href=\"#m6f87cd43da\" x=\"219.738725\" y=\"112.52824\" style=\"fill: #8c564b; stroke: #8c564b\"/>\n     <use xlink:href=\"#m6f87cd43da\" x=\"220.878754\" y=\"112.018299\" style=\"fill: #8c564b; stroke: #8c564b\"/>\n     <use xlink:href=\"#m6f87cd43da\" x=\"222.018784\" y=\"111.508359\" style=\"fill: #8c564b; stroke: #8c564b\"/>\n     <use xlink:href=\"#m6f87cd43da\" x=\"228.858962\" y=\"110.998418\" style=\"fill: #8c564b; stroke: #8c564b\"/>\n     <use xlink:href=\"#m6f87cd43da\" x=\"229.998992\" y=\"110.488477\" style=\"fill: #8c564b; stroke: #8c564b\"/>\n     <use xlink:href=\"#m6f87cd43da\" x=\"231.139022\" y=\"109.978537\" style=\"fill: #8c564b; stroke: #8c564b\"/>\n     <use xlink:href=\"#m6f87cd43da\" x=\"233.419081\" y=\"109.468596\" style=\"fill: #8c564b; stroke: #8c564b\"/>\n     <use xlink:href=\"#m6f87cd43da\" x=\"234.559111\" y=\"108.958655\" style=\"fill: #8c564b; stroke: #8c564b\"/>\n     <use xlink:href=\"#m6f87cd43da\" x=\"236.83917\" y=\"108.448715\" style=\"fill: #8c564b; stroke: #8c564b\"/>\n     <use xlink:href=\"#m6f87cd43da\" x=\"242.539318\" y=\"107.938774\" style=\"fill: #8c564b; stroke: #8c564b\"/>\n     <use xlink:href=\"#m6f87cd43da\" x=\"243.679348\" y=\"107.428833\" style=\"fill: #8c564b; stroke: #8c564b\"/>\n     <use xlink:href=\"#m6f87cd43da\" x=\"245.959408\" y=\"106.918893\" style=\"fill: #8c564b; stroke: #8c564b\"/>\n     <use xlink:href=\"#m6f87cd43da\" x=\"247.099437\" y=\"106.408952\" style=\"fill: #8c564b; stroke: #8c564b\"/>\n     <use xlink:href=\"#m6f87cd43da\" x=\"249.379497\" y=\"105.899012\" style=\"fill: #8c564b; stroke: #8c564b\"/>\n     <use xlink:href=\"#m6f87cd43da\" x=\"251.659556\" y=\"105.389071\" style=\"fill: #8c564b; stroke: #8c564b\"/>\n     <use xlink:href=\"#m6f87cd43da\" x=\"252.799586\" y=\"104.87913\" style=\"fill: #8c564b; stroke: #8c564b\"/>\n     <use xlink:href=\"#m6f87cd43da\" x=\"253.939615\" y=\"104.36919\" style=\"fill: #8c564b; stroke: #8c564b\"/>\n     <use xlink:href=\"#m6f87cd43da\" x=\"255.079645\" y=\"103.859249\" style=\"fill: #8c564b; stroke: #8c564b\"/>\n     <use xlink:href=\"#m6f87cd43da\" x=\"257.359704\" y=\"103.349308\" style=\"fill: #8c564b; stroke: #8c564b\"/>\n     <use xlink:href=\"#m6f87cd43da\" x=\"258.499734\" y=\"102.839368\" style=\"fill: #8c564b; stroke: #8c564b\"/>\n     <use xlink:href=\"#m6f87cd43da\" x=\"261.919823\" y=\"102.329427\" style=\"fill: #8c564b; stroke: #8c564b\"/>\n     <use xlink:href=\"#m6f87cd43da\" x=\"263.059853\" y=\"101.819486\" style=\"fill: #8c564b; stroke: #8c564b\"/>\n     <use xlink:href=\"#m6f87cd43da\" x=\"264.199883\" y=\"101.309546\" style=\"fill: #8c564b; stroke: #8c564b\"/>\n     <use xlink:href=\"#m6f87cd43da\" x=\"265.339912\" y=\"100.799605\" style=\"fill: #8c564b; stroke: #8c564b\"/>\n     <use xlink:href=\"#m6f87cd43da\" x=\"266.479942\" y=\"100.289664\" style=\"fill: #8c564b; stroke: #8c564b\"/>\n     <use xlink:href=\"#m6f87cd43da\" x=\"267.619972\" y=\"99.779724\" style=\"fill: #8c564b; stroke: #8c564b\"/>\n     <use xlink:href=\"#m6f87cd43da\" x=\"268.760001\" y=\"99.269783\" style=\"fill: #8c564b; stroke: #8c564b\"/>\n     <use xlink:href=\"#m6f87cd43da\" x=\"269.900031\" y=\"98.759843\" style=\"fill: #8c564b; stroke: #8c564b\"/>\n     <use xlink:href=\"#m6f87cd43da\" x=\"271.040061\" y=\"98.249902\" style=\"fill: #8c564b; stroke: #8c564b\"/>\n     <use xlink:href=\"#m6f87cd43da\" x=\"272.180091\" y=\"97.739961\" style=\"fill: #8c564b; stroke: #8c564b\"/>\n     <use xlink:href=\"#m6f87cd43da\" x=\"273.32012\" y=\"97.230021\" style=\"fill: #8c564b; stroke: #8c564b\"/>\n     <use xlink:href=\"#m6f87cd43da\" x=\"274.46015\" y=\"96.72008\" style=\"fill: #8c564b; stroke: #8c564b\"/>\n     <use xlink:href=\"#m6f87cd43da\" x=\"276.740209\" y=\"96.210139\" style=\"fill: #8c564b; stroke: #8c564b\"/>\n     <use xlink:href=\"#m6f87cd43da\" x=\"277.880239\" y=\"95.700199\" style=\"fill: #8c564b; stroke: #8c564b\"/>\n     <use xlink:href=\"#m6f87cd43da\" x=\"279.020269\" y=\"95.190258\" style=\"fill: #8c564b; stroke: #8c564b\"/>\n     <use xlink:href=\"#m6f87cd43da\" x=\"280.160298\" y=\"94.680317\" style=\"fill: #8c564b; stroke: #8c564b\"/>\n     <use xlink:href=\"#m6f87cd43da\" x=\"281.300328\" y=\"94.170377\" style=\"fill: #8c564b; stroke: #8c564b\"/>\n     <use xlink:href=\"#m6f87cd43da\" x=\"282.440358\" y=\"93.660436\" style=\"fill: #8c564b; stroke: #8c564b\"/>\n     <use xlink:href=\"#m6f87cd43da\" x=\"283.580387\" y=\"93.150495\" style=\"fill: #8c564b; stroke: #8c564b\"/>\n     <use xlink:href=\"#m6f87cd43da\" x=\"284.720417\" y=\"92.640555\" style=\"fill: #8c564b; stroke: #8c564b\"/>\n     <use xlink:href=\"#m6f87cd43da\" x=\"285.860447\" y=\"92.130614\" style=\"fill: #8c564b; stroke: #8c564b\"/>\n     <use xlink:href=\"#m6f87cd43da\" x=\"287.000477\" y=\"91.620674\" style=\"fill: #8c564b; stroke: #8c564b\"/>\n     <use xlink:href=\"#m6f87cd43da\" x=\"289.280536\" y=\"91.110733\" style=\"fill: #8c564b; stroke: #8c564b\"/>\n     <use xlink:href=\"#m6f87cd43da\" x=\"291.560595\" y=\"90.600792\" style=\"fill: #8c564b; stroke: #8c564b\"/>\n     <use xlink:href=\"#m6f87cd43da\" x=\"293.840655\" y=\"90.090852\" style=\"fill: #8c564b; stroke: #8c564b\"/>\n     <use xlink:href=\"#m6f87cd43da\" x=\"294.980684\" y=\"89.580911\" style=\"fill: #8c564b; stroke: #8c564b\"/>\n     <use xlink:href=\"#m6f87cd43da\" x=\"296.120714\" y=\"89.07097\" style=\"fill: #8c564b; stroke: #8c564b\"/>\n     <use xlink:href=\"#m6f87cd43da\" x=\"297.260744\" y=\"88.56103\" style=\"fill: #8c564b; stroke: #8c564b\"/>\n     <use xlink:href=\"#m6f87cd43da\" x=\"298.400773\" y=\"88.051089\" style=\"fill: #8c564b; stroke: #8c564b\"/>\n     <use xlink:href=\"#m6f87cd43da\" x=\"300.680833\" y=\"87.541148\" style=\"fill: #8c564b; stroke: #8c564b\"/>\n     <use xlink:href=\"#m6f87cd43da\" x=\"301.820863\" y=\"87.031208\" style=\"fill: #8c564b; stroke: #8c564b\"/>\n     <use xlink:href=\"#m6f87cd43da\" x=\"302.960892\" y=\"86.521267\" style=\"fill: #8c564b; stroke: #8c564b\"/>\n     <use xlink:href=\"#m6f87cd43da\" x=\"304.100922\" y=\"86.011326\" style=\"fill: #8c564b; stroke: #8c564b\"/>\n     <use xlink:href=\"#m6f87cd43da\" x=\"305.240952\" y=\"85.501386\" style=\"fill: #8c564b; stroke: #8c564b\"/>\n     <use xlink:href=\"#m6f87cd43da\" x=\"307.521011\" y=\"84.991445\" style=\"fill: #8c564b; stroke: #8c564b\"/>\n     <use xlink:href=\"#m6f87cd43da\" x=\"309.80107\" y=\"84.481505\" style=\"fill: #8c564b; stroke: #8c564b\"/>\n     <use xlink:href=\"#m6f87cd43da\" x=\"310.9411\" y=\"83.971564\" style=\"fill: #8c564b; stroke: #8c564b\"/>\n     <use xlink:href=\"#m6f87cd43da\" x=\"312.08113\" y=\"83.461623\" style=\"fill: #8c564b; stroke: #8c564b\"/>\n     <use xlink:href=\"#m6f87cd43da\" x=\"314.361189\" y=\"82.951683\" style=\"fill: #8c564b; stroke: #8c564b\"/>\n     <use xlink:href=\"#m6f87cd43da\" x=\"316.641249\" y=\"82.441742\" style=\"fill: #8c564b; stroke: #8c564b\"/>\n     <use xlink:href=\"#m6f87cd43da\" x=\"317.781278\" y=\"81.931801\" style=\"fill: #8c564b; stroke: #8c564b\"/>\n     <use xlink:href=\"#m6f87cd43da\" x=\"318.921308\" y=\"81.421861\" style=\"fill: #8c564b; stroke: #8c564b\"/>\n     <use xlink:href=\"#m6f87cd43da\" x=\"320.061338\" y=\"80.91192\" style=\"fill: #8c564b; stroke: #8c564b\"/>\n     <use xlink:href=\"#m6f87cd43da\" x=\"321.201367\" y=\"80.401979\" style=\"fill: #8c564b; stroke: #8c564b\"/>\n     <use xlink:href=\"#m6f87cd43da\" x=\"322.341397\" y=\"79.892039\" style=\"fill: #8c564b; stroke: #8c564b\"/>\n     <use xlink:href=\"#m6f87cd43da\" x=\"323.481427\" y=\"79.382098\" style=\"fill: #8c564b; stroke: #8c564b\"/>\n     <use xlink:href=\"#m6f87cd43da\" x=\"325.761486\" y=\"78.872157\" style=\"fill: #8c564b; stroke: #8c564b\"/>\n     <use xlink:href=\"#m6f87cd43da\" x=\"326.901516\" y=\"78.362217\" style=\"fill: #8c564b; stroke: #8c564b\"/>\n     <use xlink:href=\"#m6f87cd43da\" x=\"328.041546\" y=\"77.852276\" style=\"fill: #8c564b; stroke: #8c564b\"/>\n     <use xlink:href=\"#m6f87cd43da\" x=\"329.181575\" y=\"77.342336\" style=\"fill: #8c564b; stroke: #8c564b\"/>\n     <use xlink:href=\"#m6f87cd43da\" x=\"330.321605\" y=\"76.832395\" style=\"fill: #8c564b; stroke: #8c564b\"/>\n     <use xlink:href=\"#m6f87cd43da\" x=\"331.461635\" y=\"76.322454\" style=\"fill: #8c564b; stroke: #8c564b\"/>\n     <use xlink:href=\"#m6f87cd43da\" x=\"332.601664\" y=\"75.812514\" style=\"fill: #8c564b; stroke: #8c564b\"/>\n     <use xlink:href=\"#m6f87cd43da\" x=\"333.741694\" y=\"75.302573\" style=\"fill: #8c564b; stroke: #8c564b\"/>\n     <use xlink:href=\"#m6f87cd43da\" x=\"334.881724\" y=\"74.792632\" style=\"fill: #8c564b; stroke: #8c564b\"/>\n     <use xlink:href=\"#m6f87cd43da\" x=\"336.021753\" y=\"74.282692\" style=\"fill: #8c564b; stroke: #8c564b\"/>\n     <use xlink:href=\"#m6f87cd43da\" x=\"337.161783\" y=\"73.772751\" style=\"fill: #8c564b; stroke: #8c564b\"/>\n     <use xlink:href=\"#m6f87cd43da\" x=\"338.301813\" y=\"73.26281\" style=\"fill: #8c564b; stroke: #8c564b\"/>\n     <use xlink:href=\"#m6f87cd43da\" x=\"339.441842\" y=\"72.75287\" style=\"fill: #8c564b; stroke: #8c564b\"/>\n     <use xlink:href=\"#m6f87cd43da\" x=\"340.581872\" y=\"72.242929\" style=\"fill: #8c564b; stroke: #8c564b\"/>\n     <use xlink:href=\"#m6f87cd43da\" x=\"341.721902\" y=\"71.732988\" style=\"fill: #8c564b; stroke: #8c564b\"/>\n     <use xlink:href=\"#m6f87cd43da\" x=\"342.861932\" y=\"71.223048\" style=\"fill: #8c564b; stroke: #8c564b\"/>\n     <use xlink:href=\"#m6f87cd43da\" x=\"344.001961\" y=\"70.713107\" style=\"fill: #8c564b; stroke: #8c564b\"/>\n     <use xlink:href=\"#m6f87cd43da\" x=\"345.141991\" y=\"70.203167\" style=\"fill: #8c564b; stroke: #8c564b\"/>\n     <use xlink:href=\"#m6f87cd43da\" x=\"346.282021\" y=\"69.693226\" style=\"fill: #8c564b; stroke: #8c564b\"/>\n     <use xlink:href=\"#m6f87cd43da\" x=\"347.42205\" y=\"69.183285\" style=\"fill: #8c564b; stroke: #8c564b\"/>\n     <use xlink:href=\"#m6f87cd43da\" x=\"348.56208\" y=\"68.673345\" style=\"fill: #8c564b; stroke: #8c564b\"/>\n     <use xlink:href=\"#m6f87cd43da\" x=\"349.70211\" y=\"68.163404\" style=\"fill: #8c564b; stroke: #8c564b\"/>\n     <use xlink:href=\"#m6f87cd43da\" x=\"350.842139\" y=\"67.653463\" style=\"fill: #8c564b; stroke: #8c564b\"/>\n     <use xlink:href=\"#m6f87cd43da\" x=\"351.982169\" y=\"67.143523\" style=\"fill: #8c564b; stroke: #8c564b\"/>\n     <use xlink:href=\"#m6f87cd43da\" x=\"353.122199\" y=\"66.633582\" style=\"fill: #8c564b; stroke: #8c564b\"/>\n     <use xlink:href=\"#m6f87cd43da\" x=\"354.262228\" y=\"66.123641\" style=\"fill: #8c564b; stroke: #8c564b\"/>\n     <use xlink:href=\"#m6f87cd43da\" x=\"355.402258\" y=\"65.613701\" style=\"fill: #8c564b; stroke: #8c564b\"/>\n     <use xlink:href=\"#m6f87cd43da\" x=\"356.542288\" y=\"65.10376\" style=\"fill: #8c564b; stroke: #8c564b\"/>\n     <use xlink:href=\"#m6f87cd43da\" x=\"357.682318\" y=\"64.593819\" style=\"fill: #8c564b; stroke: #8c564b\"/>\n     <use xlink:href=\"#m6f87cd43da\" x=\"358.822347\" y=\"64.083879\" style=\"fill: #8c564b; stroke: #8c564b\"/>\n     <use xlink:href=\"#m6f87cd43da\" x=\"359.962377\" y=\"63.573938\" style=\"fill: #8c564b; stroke: #8c564b\"/>\n     <use xlink:href=\"#m6f87cd43da\" x=\"361.102407\" y=\"63.063998\" style=\"fill: #8c564b; stroke: #8c564b\"/>\n     <use xlink:href=\"#m6f87cd43da\" x=\"362.242436\" y=\"62.554057\" style=\"fill: #8c564b; stroke: #8c564b\"/>\n     <use xlink:href=\"#m6f87cd43da\" x=\"363.382466\" y=\"62.044116\" style=\"fill: #8c564b; stroke: #8c564b\"/>\n     <use xlink:href=\"#m6f87cd43da\" x=\"364.522496\" y=\"61.534176\" style=\"fill: #8c564b; stroke: #8c564b\"/>\n     <use xlink:href=\"#m6f87cd43da\" x=\"365.662525\" y=\"61.024235\" style=\"fill: #8c564b; stroke: #8c564b\"/>\n     <use xlink:href=\"#m6f87cd43da\" x=\"366.802555\" y=\"60.514294\" style=\"fill: #8c564b; stroke: #8c564b\"/>\n     <use xlink:href=\"#m6f87cd43da\" x=\"367.942585\" y=\"60.004354\" style=\"fill: #8c564b; stroke: #8c564b\"/>\n     <use xlink:href=\"#m6f87cd43da\" x=\"369.082614\" y=\"59.494413\" style=\"fill: #8c564b; stroke: #8c564b\"/>\n     <use xlink:href=\"#m6f87cd43da\" x=\"370.222644\" y=\"58.984472\" style=\"fill: #8c564b; stroke: #8c564b\"/>\n     <use xlink:href=\"#m6f87cd43da\" x=\"371.362674\" y=\"58.474532\" style=\"fill: #8c564b; stroke: #8c564b\"/>\n     <use xlink:href=\"#m6f87cd43da\" x=\"372.502704\" y=\"57.964591\" style=\"fill: #8c564b; stroke: #8c564b\"/>\n     <use xlink:href=\"#m6f87cd43da\" x=\"373.642733\" y=\"57.45465\" style=\"fill: #8c564b; stroke: #8c564b\"/>\n     <use xlink:href=\"#m6f87cd43da\" x=\"374.782763\" y=\"56.94471\" style=\"fill: #8c564b; stroke: #8c564b\"/>\n     <use xlink:href=\"#m6f87cd43da\" x=\"375.922793\" y=\"56.434769\" style=\"fill: #8c564b; stroke: #8c564b\"/>\n     <use xlink:href=\"#m6f87cd43da\" x=\"378.202852\" y=\"55.924828\" style=\"fill: #8c564b; stroke: #8c564b\"/>\n     <use xlink:href=\"#m6f87cd43da\" x=\"382.762971\" y=\"55.414888\" style=\"fill: #8c564b; stroke: #8c564b\"/>\n     <use xlink:href=\"#m6f87cd43da\" x=\"383.903001\" y=\"54.904947\" style=\"fill: #8c564b; stroke: #8c564b\"/>\n     <use xlink:href=\"#m6f87cd43da\" x=\"387.32309\" y=\"54.395007\" style=\"fill: #8c564b; stroke: #8c564b\"/>\n     <use xlink:href=\"#m6f87cd43da\" x=\"390.743179\" y=\"53.885066\" style=\"fill: #8c564b; stroke: #8c564b\"/>\n     <use xlink:href=\"#m6f87cd43da\" x=\"395.303297\" y=\"53.375125\" style=\"fill: #8c564b; stroke: #8c564b\"/>\n     <use xlink:href=\"#m6f87cd43da\" x=\"396.443327\" y=\"52.865185\" style=\"fill: #8c564b; stroke: #8c564b\"/>\n     <use xlink:href=\"#m6f87cd43da\" x=\"398.723387\" y=\"52.355244\" style=\"fill: #8c564b; stroke: #8c564b\"/>\n     <use xlink:href=\"#m6f87cd43da\" x=\"399.863416\" y=\"51.845303\" style=\"fill: #8c564b; stroke: #8c564b\"/>\n     <use xlink:href=\"#m6f87cd43da\" x=\"401.003446\" y=\"51.335363\" style=\"fill: #8c564b; stroke: #8c564b\"/>\n     <use xlink:href=\"#m6f87cd43da\" x=\"402.143476\" y=\"50.825422\" style=\"fill: #8c564b; stroke: #8c564b\"/>\n     <use xlink:href=\"#m6f87cd43da\" x=\"403.283505\" y=\"50.315481\" style=\"fill: #8c564b; stroke: #8c564b\"/>\n     <use xlink:href=\"#m6f87cd43da\" x=\"404.423535\" y=\"49.805541\" style=\"fill: #8c564b; stroke: #8c564b\"/>\n     <use xlink:href=\"#m6f87cd43da\" x=\"410.123683\" y=\"49.2956\" style=\"fill: #8c564b; stroke: #8c564b\"/>\n     <use xlink:href=\"#m6f87cd43da\" x=\"413.543773\" y=\"48.785659\" style=\"fill: #8c564b; stroke: #8c564b\"/>\n     <use xlink:href=\"#m6f87cd43da\" x=\"414.683802\" y=\"48.275719\" style=\"fill: #8c564b; stroke: #8c564b\"/>\n     <use xlink:href=\"#m6f87cd43da\" x=\"415.823832\" y=\"47.765778\" style=\"fill: #8c564b; stroke: #8c564b\"/>\n     <use xlink:href=\"#m6f87cd43da\" x=\"416.963862\" y=\"47.255838\" style=\"fill: #8c564b; stroke: #8c564b\"/>\n     <use xlink:href=\"#m6f87cd43da\" x=\"419.243921\" y=\"46.745897\" style=\"fill: #8c564b; stroke: #8c564b\"/>\n     <use xlink:href=\"#m6f87cd43da\" x=\"420.383951\" y=\"46.235956\" style=\"fill: #8c564b; stroke: #8c564b\"/>\n     <use xlink:href=\"#m6f87cd43da\" x=\"421.52398\" y=\"45.726016\" style=\"fill: #8c564b; stroke: #8c564b\"/>\n     <use xlink:href=\"#m6f87cd43da\" x=\"424.944069\" y=\"45.216075\" style=\"fill: #8c564b; stroke: #8c564b\"/>\n     <use xlink:href=\"#m6f87cd43da\" x=\"427.224129\" y=\"44.706134\" style=\"fill: #8c564b; stroke: #8c564b\"/>\n     <use xlink:href=\"#m6f87cd43da\" x=\"436.344366\" y=\"44.196194\" style=\"fill: #8c564b; stroke: #8c564b\"/>\n     <use xlink:href=\"#m6f87cd43da\" x=\"437.484396\" y=\"43.686253\" style=\"fill: #8c564b; stroke: #8c564b\"/>\n     <use xlink:href=\"#m6f87cd43da\" x=\"438.624426\" y=\"43.176312\" style=\"fill: #8c564b; stroke: #8c564b\"/>\n     <use xlink:href=\"#m6f87cd43da\" x=\"439.764456\" y=\"42.666372\" style=\"fill: #8c564b; stroke: #8c564b\"/>\n     <use xlink:href=\"#m6f87cd43da\" x=\"440.904485\" y=\"42.156431\" style=\"fill: #8c564b; stroke: #8c564b\"/>\n     <use xlink:href=\"#m6f87cd43da\" x=\"442.044515\" y=\"41.64649\" style=\"fill: #8c564b; stroke: #8c564b\"/>\n     <use xlink:href=\"#m6f87cd43da\" x=\"443.184545\" y=\"41.13655\" style=\"fill: #8c564b; stroke: #8c564b\"/>\n     <use xlink:href=\"#m6f87cd43da\" x=\"444.324574\" y=\"40.626609\" style=\"fill: #8c564b; stroke: #8c564b\"/>\n     <use xlink:href=\"#m6f87cd43da\" x=\"445.464604\" y=\"40.116669\" style=\"fill: #8c564b; stroke: #8c564b\"/>\n     <use xlink:href=\"#m6f87cd43da\" x=\"446.604634\" y=\"39.606728\" style=\"fill: #8c564b; stroke: #8c564b\"/>\n     <use xlink:href=\"#m6f87cd43da\" x=\"447.744663\" y=\"39.096787\" style=\"fill: #8c564b; stroke: #8c564b\"/>\n     <use xlink:href=\"#m6f87cd43da\" x=\"448.884693\" y=\"38.586847\" style=\"fill: #8c564b; stroke: #8c564b\"/>\n     <use xlink:href=\"#m6f87cd43da\" x=\"450.024723\" y=\"38.076906\" style=\"fill: #8c564b; stroke: #8c564b\"/>\n     <use xlink:href=\"#m6f87cd43da\" x=\"451.164752\" y=\"37.566965\" style=\"fill: #8c564b; stroke: #8c564b\"/>\n     <use xlink:href=\"#m6f87cd43da\" x=\"452.304782\" y=\"37.057025\" style=\"fill: #8c564b; stroke: #8c564b\"/>\n     <use xlink:href=\"#m6f87cd43da\" x=\"453.444812\" y=\"36.547084\" style=\"fill: #8c564b; stroke: #8c564b\"/>\n     <use xlink:href=\"#m6f87cd43da\" x=\"458.004931\" y=\"36.037143\" style=\"fill: #8c564b; stroke: #8c564b\"/>\n     <use xlink:href=\"#m6f87cd43da\" x=\"459.14496\" y=\"35.527203\" style=\"fill: #8c564b; stroke: #8c564b\"/>\n     <use xlink:href=\"#m6f87cd43da\" x=\"460.28499\" y=\"35.017262\" style=\"fill: #8c564b; stroke: #8c564b\"/>\n     <use xlink:href=\"#m6f87cd43da\" x=\"461.42502\" y=\"34.507321\" style=\"fill: #8c564b; stroke: #8c564b\"/>\n     <use xlink:href=\"#m6f87cd43da\" x=\"462.565049\" y=\"33.997381\" style=\"fill: #8c564b; stroke: #8c564b\"/>\n     <use xlink:href=\"#m6f87cd43da\" x=\"464.845109\" y=\"33.48744\" style=\"fill: #8c564b; stroke: #8c564b\"/>\n     <use xlink:href=\"#m6f87cd43da\" x=\"465.985138\" y=\"32.9775\" style=\"fill: #8c564b; stroke: #8c564b\"/>\n     <use xlink:href=\"#m6f87cd43da\" x=\"469.405228\" y=\"32.467559\" style=\"fill: #8c564b; stroke: #8c564b\"/>\n     <use xlink:href=\"#m6f87cd43da\" x=\"471.685287\" y=\"31.957618\" style=\"fill: #8c564b; stroke: #8c564b\"/>\n     <use xlink:href=\"#m6f87cd43da\" x=\"472.825317\" y=\"31.447678\" style=\"fill: #8c564b; stroke: #8c564b\"/>\n     <use xlink:href=\"#m6f87cd43da\" x=\"473.965346\" y=\"30.937737\" style=\"fill: #8c564b; stroke: #8c564b\"/>\n     <use xlink:href=\"#m6f87cd43da\" x=\"478.525465\" y=\"30.427796\" style=\"fill: #8c564b; stroke: #8c564b\"/>\n     <use xlink:href=\"#m6f87cd43da\" x=\"479.665495\" y=\"29.917856\" style=\"fill: #8c564b; stroke: #8c564b\"/>\n     <use xlink:href=\"#m6f87cd43da\" x=\"480.805524\" y=\"29.407915\" style=\"fill: #8c564b; stroke: #8c564b\"/>\n     <use xlink:href=\"#m6f87cd43da\" x=\"481.945554\" y=\"28.897974\" style=\"fill: #8c564b; stroke: #8c564b\"/>\n     <use xlink:href=\"#m6f87cd43da\" x=\"483.085584\" y=\"28.388034\" style=\"fill: #8c564b; stroke: #8c564b\"/>\n     <use xlink:href=\"#m6f87cd43da\" x=\"484.225614\" y=\"27.878093\" style=\"fill: #8c564b; stroke: #8c564b\"/>\n     <use xlink:href=\"#m6f87cd43da\" x=\"485.365643\" y=\"27.368152\" style=\"fill: #8c564b; stroke: #8c564b\"/>\n     <use xlink:href=\"#m6f87cd43da\" x=\"486.505673\" y=\"26.858212\" style=\"fill: #8c564b; stroke: #8c564b\"/>\n     <use xlink:href=\"#m6f87cd43da\" x=\"487.645703\" y=\"26.348271\" style=\"fill: #8c564b; stroke: #8c564b\"/>\n     <use xlink:href=\"#m6f87cd43da\" x=\"488.785732\" y=\"25.838331\" style=\"fill: #8c564b; stroke: #8c564b\"/>\n     <use xlink:href=\"#m6f87cd43da\" x=\"489.925762\" y=\"25.32839\" style=\"fill: #8c564b; stroke: #8c564b\"/>\n     <use xlink:href=\"#m6f87cd43da\" x=\"491.065792\" y=\"24.818449\" style=\"fill: #8c564b; stroke: #8c564b\"/>\n     <use xlink:href=\"#m6f87cd43da\" x=\"492.205821\" y=\"24.308509\" style=\"fill: #8c564b; stroke: #8c564b\"/>\n     <use xlink:href=\"#m6f87cd43da\" x=\"493.345851\" y=\"23.798568\" style=\"fill: #8c564b; stroke: #8c564b\"/>\n     <use xlink:href=\"#m6f87cd43da\" x=\"494.485881\" y=\"23.288627\" style=\"fill: #8c564b; stroke: #8c564b\"/>\n     <use xlink:href=\"#m6f87cd43da\" x=\"495.625911\" y=\"22.778687\" style=\"fill: #8c564b; stroke: #8c564b\"/>\n     <use xlink:href=\"#m6f87cd43da\" x=\"496.76594\" y=\"22.268746\" style=\"fill: #8c564b; stroke: #8c564b\"/>\n     <use xlink:href=\"#m6f87cd43da\" x=\"497.90597\" y=\"21.758805\" style=\"fill: #8c564b; stroke: #8c564b\"/>\n     <use xlink:href=\"#m6f87cd43da\" x=\"499.046\" y=\"21.248865\" style=\"fill: #8c564b; stroke: #8c564b\"/>\n     <use xlink:href=\"#m6f87cd43da\" x=\"500.186029\" y=\"20.738924\" style=\"fill: #8c564b; stroke: #8c564b\"/>\n     <use xlink:href=\"#m6f87cd43da\" x=\"501.326059\" y=\"20.228983\" style=\"fill: #8c564b; stroke: #8c564b\"/>\n     <use xlink:href=\"#m6f87cd43da\" x=\"502.466089\" y=\"19.719043\" style=\"fill: #8c564b; stroke: #8c564b\"/>\n     <use xlink:href=\"#m6f87cd43da\" x=\"503.606118\" y=\"19.209102\" style=\"fill: #8c564b; stroke: #8c564b\"/>\n     <use xlink:href=\"#m6f87cd43da\" x=\"504.746148\" y=\"18.699162\" style=\"fill: #8c564b; stroke: #8c564b\"/>\n     <use xlink:href=\"#m6f87cd43da\" x=\"505.886178\" y=\"18.189221\" style=\"fill: #8c564b; stroke: #8c564b\"/>\n     <use xlink:href=\"#m6f87cd43da\" x=\"507.026207\" y=\"17.67928\" style=\"fill: #8c564b; stroke: #8c564b\"/>\n     <use xlink:href=\"#m6f87cd43da\" x=\"508.166237\" y=\"17.16934\" style=\"fill: #8c564b; stroke: #8c564b\"/>\n     <use xlink:href=\"#m6f87cd43da\" x=\"509.306267\" y=\"16.659399\" style=\"fill: #8c564b; stroke: #8c564b\"/>\n     <use xlink:href=\"#m6f87cd43da\" x=\"510.446297\" y=\"16.149458\" style=\"fill: #8c564b; stroke: #8c564b\"/>\n     <use xlink:href=\"#m6f87cd43da\" x=\"511.586326\" y=\"15.639518\" style=\"fill: #8c564b; stroke: #8c564b\"/>\n     <use xlink:href=\"#m6f87cd43da\" x=\"515.006415\" y=\"15.129577\" style=\"fill: #8c564b; stroke: #8c564b\"/>\n     <use xlink:href=\"#m6f87cd43da\" x=\"518.426504\" y=\"14.619636\" style=\"fill: #8c564b; stroke: #8c564b\"/>\n    </g>\n   </g>\n   <g id=\"line2d_23\"/>\n   <g id=\"line2d_24\"/>\n   <g id=\"line2d_25\"/>\n   <g id=\"line2d_26\">\n    <path d=\"M 68.114775 163.012364 \nL 70.394835 162.502423 \nL 72.674894 161.482542 \nL 79.515072 160.972601 \nL 104.595726 160.46266 \nL 106.875785 159.95272 \nL 111.435904 159.442779 \nL 112.575933 158.932838 \nL 117.136052 158.422898 \nL 118.276082 157.912957 \nL 121.696171 157.403017 \nL 149.056884 156.383135 \nL 150.196913 155.873195 \nL 152.476973 155.363254 \nL 155.897062 154.853313 \nL 165.017299 150.773788 \nL 168.437388 150.263848 \nL 172.997507 149.243966 \nL 174.137537 148.734026 \nL 183.257774 147.714144 \nL 194.658071 142.614738 \nL 196.938131 142.104797 \nL 201.498249 140.065035 \nL 203.778309 139.555094 \nL 204.918339 139.045153 \nL 209.478457 138.025272 \nL 214.038576 137.515331 \nL 215.178606 137.005391 \nL 217.458665 136.49545 \nL 233.419081 135.98551 \nL 252.799586 127.316519 \nL 257.359704 126.806578 \nL 258.499734 126.296637 \nL 260.779794 125.786697 \nL 267.619972 122.727053 \nL 269.900031 122.217112 \nL 276.740209 119.157468 \nL 289.280536 118.647528 \nL 307.521011 118.137587 \nL 322.341397 117.117706 \nL 326.901516 116.607765 \nL 329.181575 115.587884 \nL 355.402258 115.077943 \nL 356.542288 114.568002 \nL 380.482911 114.058062 \nL 385.04303 112.018299 \nL 387.32309 111.508359 \nL 390.743179 110.998418 \nL 403.283505 110.488477 \nL 406.703594 108.958655 \nL 408.983654 108.448715 \nL 411.263713 107.428833 \nL 420.383951 106.918893 \nL 426.084099 106.408952 \nL 427.224129 105.899012 \nL 429.504188 105.389071 \nL 437.484396 104.87913 \nL 442.044515 104.36919 \nL 444.324574 103.349308 \nL 448.884693 102.839368 \nL 452.304782 102.329427 \nL 456.864901 101.819486 \nL 459.14496 101.309546 \nL 463.705079 100.799605 \nL 464.845109 100.289664 \nL 469.405228 99.779724 \nL 481.945554 99.269783 \nL 483.085584 98.759843 \nL 489.925762 97.230021 \nL 492.205821 96.210139 \nL 503.606118 95.190258 \nL 504.746148 94.680317 \nL 508.166237 94.170377 \nL 512.726356 93.660436 \nL 515.006415 93.150495 \nL 519.566534 91.110733 \nL 519.566534 91.110733 \n\" clip-path=\"url(#pf7ef7b8355)\" style=\"fill: none; stroke: #17becf; stroke-width: 1.5; stroke-linecap: square\"/>\n    <defs>\n     <path id=\"mb655ebe3a2\" d=\"M -2.5 2.5 \nL 2.5 -2.5 \nM -2.5 -2.5 \nL 2.5 2.5 \n\" style=\"stroke: #17becf\"/>\n    </defs>\n    <g clip-path=\"url(#pf7ef7b8355)\">\n     <use xlink:href=\"#mb655ebe3a2\" x=\"68.114775\" y=\"163.012364\" style=\"fill: #17becf; stroke: #17becf\"/>\n     <use xlink:href=\"#mb655ebe3a2\" x=\"70.394835\" y=\"162.502423\" style=\"fill: #17becf; stroke: #17becf\"/>\n     <use xlink:href=\"#mb655ebe3a2\" x=\"71.534864\" y=\"161.992482\" style=\"fill: #17becf; stroke: #17becf\"/>\n     <use xlink:href=\"#mb655ebe3a2\" x=\"72.674894\" y=\"161.482542\" style=\"fill: #17becf; stroke: #17becf\"/>\n     <use xlink:href=\"#mb655ebe3a2\" x=\"79.515072\" y=\"160.972601\" style=\"fill: #17becf; stroke: #17becf\"/>\n     <use xlink:href=\"#mb655ebe3a2\" x=\"104.595726\" y=\"160.46266\" style=\"fill: #17becf; stroke: #17becf\"/>\n     <use xlink:href=\"#mb655ebe3a2\" x=\"106.875785\" y=\"159.95272\" style=\"fill: #17becf; stroke: #17becf\"/>\n     <use xlink:href=\"#mb655ebe3a2\" x=\"111.435904\" y=\"159.442779\" style=\"fill: #17becf; stroke: #17becf\"/>\n     <use xlink:href=\"#mb655ebe3a2\" x=\"112.575933\" y=\"158.932838\" style=\"fill: #17becf; stroke: #17becf\"/>\n     <use xlink:href=\"#mb655ebe3a2\" x=\"117.136052\" y=\"158.422898\" style=\"fill: #17becf; stroke: #17becf\"/>\n     <use xlink:href=\"#mb655ebe3a2\" x=\"118.276082\" y=\"157.912957\" style=\"fill: #17becf; stroke: #17becf\"/>\n     <use xlink:href=\"#mb655ebe3a2\" x=\"121.696171\" y=\"157.403017\" style=\"fill: #17becf; stroke: #17becf\"/>\n     <use xlink:href=\"#mb655ebe3a2\" x=\"135.376527\" y=\"156.893076\" style=\"fill: #17becf; stroke: #17becf\"/>\n     <use xlink:href=\"#mb655ebe3a2\" x=\"149.056884\" y=\"156.383135\" style=\"fill: #17becf; stroke: #17becf\"/>\n     <use xlink:href=\"#mb655ebe3a2\" x=\"150.196913\" y=\"155.873195\" style=\"fill: #17becf; stroke: #17becf\"/>\n     <use xlink:href=\"#mb655ebe3a2\" x=\"152.476973\" y=\"155.363254\" style=\"fill: #17becf; stroke: #17becf\"/>\n     <use xlink:href=\"#mb655ebe3a2\" x=\"155.897062\" y=\"154.853313\" style=\"fill: #17becf; stroke: #17becf\"/>\n     <use xlink:href=\"#mb655ebe3a2\" x=\"157.037091\" y=\"154.343373\" style=\"fill: #17becf; stroke: #17becf\"/>\n     <use xlink:href=\"#mb655ebe3a2\" x=\"158.177121\" y=\"153.833432\" style=\"fill: #17becf; stroke: #17becf\"/>\n     <use xlink:href=\"#mb655ebe3a2\" x=\"159.317151\" y=\"153.323491\" style=\"fill: #17becf; stroke: #17becf\"/>\n     <use xlink:href=\"#mb655ebe3a2\" x=\"160.457181\" y=\"152.813551\" style=\"fill: #17becf; stroke: #17becf\"/>\n     <use xlink:href=\"#mb655ebe3a2\" x=\"161.59721\" y=\"152.30361\" style=\"fill: #17becf; stroke: #17becf\"/>\n     <use xlink:href=\"#mb655ebe3a2\" x=\"162.73724\" y=\"151.793669\" style=\"fill: #17becf; stroke: #17becf\"/>\n     <use xlink:href=\"#mb655ebe3a2\" x=\"163.87727\" y=\"151.283729\" style=\"fill: #17becf; stroke: #17becf\"/>\n     <use xlink:href=\"#mb655ebe3a2\" x=\"165.017299\" y=\"150.773788\" style=\"fill: #17becf; stroke: #17becf\"/>\n     <use xlink:href=\"#mb655ebe3a2\" x=\"168.437388\" y=\"150.263848\" style=\"fill: #17becf; stroke: #17becf\"/>\n     <use xlink:href=\"#mb655ebe3a2\" x=\"170.717448\" y=\"149.753907\" style=\"fill: #17becf; stroke: #17becf\"/>\n     <use xlink:href=\"#mb655ebe3a2\" x=\"172.997507\" y=\"149.243966\" style=\"fill: #17becf; stroke: #17becf\"/>\n     <use xlink:href=\"#mb655ebe3a2\" x=\"174.137537\" y=\"148.734026\" style=\"fill: #17becf; stroke: #17becf\"/>\n     <use xlink:href=\"#mb655ebe3a2\" x=\"178.697656\" y=\"148.224085\" style=\"fill: #17becf; stroke: #17becf\"/>\n     <use xlink:href=\"#mb655ebe3a2\" x=\"183.257774\" y=\"147.714144\" style=\"fill: #17becf; stroke: #17becf\"/>\n     <use xlink:href=\"#mb655ebe3a2\" x=\"184.397804\" y=\"147.204204\" style=\"fill: #17becf; stroke: #17becf\"/>\n     <use xlink:href=\"#mb655ebe3a2\" x=\"185.537834\" y=\"146.694263\" style=\"fill: #17becf; stroke: #17becf\"/>\n     <use xlink:href=\"#mb655ebe3a2\" x=\"186.677863\" y=\"146.184322\" style=\"fill: #17becf; stroke: #17becf\"/>\n     <use xlink:href=\"#mb655ebe3a2\" x=\"187.817893\" y=\"145.674382\" style=\"fill: #17becf; stroke: #17becf\"/>\n     <use xlink:href=\"#mb655ebe3a2\" x=\"188.957923\" y=\"145.164441\" style=\"fill: #17becf; stroke: #17becf\"/>\n     <use xlink:href=\"#mb655ebe3a2\" x=\"190.097953\" y=\"144.6545\" style=\"fill: #17becf; stroke: #17becf\"/>\n     <use xlink:href=\"#mb655ebe3a2\" x=\"191.237982\" y=\"144.14456\" style=\"fill: #17becf; stroke: #17becf\"/>\n     <use xlink:href=\"#mb655ebe3a2\" x=\"192.378012\" y=\"143.634619\" style=\"fill: #17becf; stroke: #17becf\"/>\n     <use xlink:href=\"#mb655ebe3a2\" x=\"193.518042\" y=\"143.124679\" style=\"fill: #17becf; stroke: #17becf\"/>\n     <use xlink:href=\"#mb655ebe3a2\" x=\"194.658071\" y=\"142.614738\" style=\"fill: #17becf; stroke: #17becf\"/>\n     <use xlink:href=\"#mb655ebe3a2\" x=\"196.938131\" y=\"142.104797\" style=\"fill: #17becf; stroke: #17becf\"/>\n     <use xlink:href=\"#mb655ebe3a2\" x=\"198.07816\" y=\"141.594857\" style=\"fill: #17becf; stroke: #17becf\"/>\n     <use xlink:href=\"#mb655ebe3a2\" x=\"199.21819\" y=\"141.084916\" style=\"fill: #17becf; stroke: #17becf\"/>\n     <use xlink:href=\"#mb655ebe3a2\" x=\"200.35822\" y=\"140.574975\" style=\"fill: #17becf; stroke: #17becf\"/>\n     <use xlink:href=\"#mb655ebe3a2\" x=\"201.498249\" y=\"140.065035\" style=\"fill: #17becf; stroke: #17becf\"/>\n     <use xlink:href=\"#mb655ebe3a2\" x=\"203.778309\" y=\"139.555094\" style=\"fill: #17becf; stroke: #17becf\"/>\n     <use xlink:href=\"#mb655ebe3a2\" x=\"204.918339\" y=\"139.045153\" style=\"fill: #17becf; stroke: #17becf\"/>\n     <use xlink:href=\"#mb655ebe3a2\" x=\"207.198398\" y=\"138.535213\" style=\"fill: #17becf; stroke: #17becf\"/>\n     <use xlink:href=\"#mb655ebe3a2\" x=\"209.478457\" y=\"138.025272\" style=\"fill: #17becf; stroke: #17becf\"/>\n     <use xlink:href=\"#mb655ebe3a2\" x=\"214.038576\" y=\"137.515331\" style=\"fill: #17becf; stroke: #17becf\"/>\n     <use xlink:href=\"#mb655ebe3a2\" x=\"215.178606\" y=\"137.005391\" style=\"fill: #17becf; stroke: #17becf\"/>\n     <use xlink:href=\"#mb655ebe3a2\" x=\"217.458665\" y=\"136.49545\" style=\"fill: #17becf; stroke: #17becf\"/>\n     <use xlink:href=\"#mb655ebe3a2\" x=\"233.419081\" y=\"135.98551\" style=\"fill: #17becf; stroke: #17becf\"/>\n     <use xlink:href=\"#mb655ebe3a2\" x=\"234.559111\" y=\"135.475569\" style=\"fill: #17becf; stroke: #17becf\"/>\n     <use xlink:href=\"#mb655ebe3a2\" x=\"235.69914\" y=\"134.965628\" style=\"fill: #17becf; stroke: #17becf\"/>\n     <use xlink:href=\"#mb655ebe3a2\" x=\"236.83917\" y=\"134.455688\" style=\"fill: #17becf; stroke: #17becf\"/>\n     <use xlink:href=\"#mb655ebe3a2\" x=\"237.9792\" y=\"133.945747\" style=\"fill: #17becf; stroke: #17becf\"/>\n     <use xlink:href=\"#mb655ebe3a2\" x=\"239.119229\" y=\"133.435806\" style=\"fill: #17becf; stroke: #17becf\"/>\n     <use xlink:href=\"#mb655ebe3a2\" x=\"240.259259\" y=\"132.925866\" style=\"fill: #17becf; stroke: #17becf\"/>\n     <use xlink:href=\"#mb655ebe3a2\" x=\"241.399289\" y=\"132.415925\" style=\"fill: #17becf; stroke: #17becf\"/>\n     <use xlink:href=\"#mb655ebe3a2\" x=\"242.539318\" y=\"131.905984\" style=\"fill: #17becf; stroke: #17becf\"/>\n     <use xlink:href=\"#mb655ebe3a2\" x=\"243.679348\" y=\"131.396044\" style=\"fill: #17becf; stroke: #17becf\"/>\n     <use xlink:href=\"#mb655ebe3a2\" x=\"244.819378\" y=\"130.886103\" style=\"fill: #17becf; stroke: #17becf\"/>\n     <use xlink:href=\"#mb655ebe3a2\" x=\"245.959408\" y=\"130.376162\" style=\"fill: #17becf; stroke: #17becf\"/>\n     <use xlink:href=\"#mb655ebe3a2\" x=\"247.099437\" y=\"129.866222\" style=\"fill: #17becf; stroke: #17becf\"/>\n     <use xlink:href=\"#mb655ebe3a2\" x=\"248.239467\" y=\"129.356281\" style=\"fill: #17becf; stroke: #17becf\"/>\n     <use xlink:href=\"#mb655ebe3a2\" x=\"249.379497\" y=\"128.846341\" style=\"fill: #17becf; stroke: #17becf\"/>\n     <use xlink:href=\"#mb655ebe3a2\" x=\"250.519526\" y=\"128.3364\" style=\"fill: #17becf; stroke: #17becf\"/>\n     <use xlink:href=\"#mb655ebe3a2\" x=\"251.659556\" y=\"127.826459\" style=\"fill: #17becf; stroke: #17becf\"/>\n     <use xlink:href=\"#mb655ebe3a2\" x=\"252.799586\" y=\"127.316519\" style=\"fill: #17becf; stroke: #17becf\"/>\n     <use xlink:href=\"#mb655ebe3a2\" x=\"257.359704\" y=\"126.806578\" style=\"fill: #17becf; stroke: #17becf\"/>\n     <use xlink:href=\"#mb655ebe3a2\" x=\"258.499734\" y=\"126.296637\" style=\"fill: #17becf; stroke: #17becf\"/>\n     <use xlink:href=\"#mb655ebe3a2\" x=\"260.779794\" y=\"125.786697\" style=\"fill: #17becf; stroke: #17becf\"/>\n     <use xlink:href=\"#mb655ebe3a2\" x=\"261.919823\" y=\"125.276756\" style=\"fill: #17becf; stroke: #17becf\"/>\n     <use xlink:href=\"#mb655ebe3a2\" x=\"263.059853\" y=\"124.766815\" style=\"fill: #17becf; stroke: #17becf\"/>\n     <use xlink:href=\"#mb655ebe3a2\" x=\"264.199883\" y=\"124.256875\" style=\"fill: #17becf; stroke: #17becf\"/>\n     <use xlink:href=\"#mb655ebe3a2\" x=\"265.339912\" y=\"123.746934\" style=\"fill: #17becf; stroke: #17becf\"/>\n     <use xlink:href=\"#mb655ebe3a2\" x=\"266.479942\" y=\"123.236993\" style=\"fill: #17becf; stroke: #17becf\"/>\n     <use xlink:href=\"#mb655ebe3a2\" x=\"267.619972\" y=\"122.727053\" style=\"fill: #17becf; stroke: #17becf\"/>\n     <use xlink:href=\"#mb655ebe3a2\" x=\"269.900031\" y=\"122.217112\" style=\"fill: #17becf; stroke: #17becf\"/>\n     <use xlink:href=\"#mb655ebe3a2\" x=\"271.040061\" y=\"121.707172\" style=\"fill: #17becf; stroke: #17becf\"/>\n     <use xlink:href=\"#mb655ebe3a2\" x=\"272.180091\" y=\"121.197231\" style=\"fill: #17becf; stroke: #17becf\"/>\n     <use xlink:href=\"#mb655ebe3a2\" x=\"273.32012\" y=\"120.68729\" style=\"fill: #17becf; stroke: #17becf\"/>\n     <use xlink:href=\"#mb655ebe3a2\" x=\"274.46015\" y=\"120.17735\" style=\"fill: #17becf; stroke: #17becf\"/>\n     <use xlink:href=\"#mb655ebe3a2\" x=\"275.60018\" y=\"119.667409\" style=\"fill: #17becf; stroke: #17becf\"/>\n     <use xlink:href=\"#mb655ebe3a2\" x=\"276.740209\" y=\"119.157468\" style=\"fill: #17becf; stroke: #17becf\"/>\n     <use xlink:href=\"#mb655ebe3a2\" x=\"289.280536\" y=\"118.647528\" style=\"fill: #17becf; stroke: #17becf\"/>\n     <use xlink:href=\"#mb655ebe3a2\" x=\"307.521011\" y=\"118.137587\" style=\"fill: #17becf; stroke: #17becf\"/>\n     <use xlink:href=\"#mb655ebe3a2\" x=\"315.501219\" y=\"117.627646\" style=\"fill: #17becf; stroke: #17becf\"/>\n     <use xlink:href=\"#mb655ebe3a2\" x=\"322.341397\" y=\"117.117706\" style=\"fill: #17becf; stroke: #17becf\"/>\n     <use xlink:href=\"#mb655ebe3a2\" x=\"326.901516\" y=\"116.607765\" style=\"fill: #17becf; stroke: #17becf\"/>\n     <use xlink:href=\"#mb655ebe3a2\" x=\"328.041546\" y=\"116.097824\" style=\"fill: #17becf; stroke: #17becf\"/>\n     <use xlink:href=\"#mb655ebe3a2\" x=\"329.181575\" y=\"115.587884\" style=\"fill: #17becf; stroke: #17becf\"/>\n     <use xlink:href=\"#mb655ebe3a2\" x=\"355.402258\" y=\"115.077943\" style=\"fill: #17becf; stroke: #17becf\"/>\n     <use xlink:href=\"#mb655ebe3a2\" x=\"356.542288\" y=\"114.568002\" style=\"fill: #17becf; stroke: #17becf\"/>\n     <use xlink:href=\"#mb655ebe3a2\" x=\"380.482911\" y=\"114.058062\" style=\"fill: #17becf; stroke: #17becf\"/>\n     <use xlink:href=\"#mb655ebe3a2\" x=\"381.622941\" y=\"113.548121\" style=\"fill: #17becf; stroke: #17becf\"/>\n     <use xlink:href=\"#mb655ebe3a2\" x=\"382.762971\" y=\"113.038181\" style=\"fill: #17becf; stroke: #17becf\"/>\n     <use xlink:href=\"#mb655ebe3a2\" x=\"383.903001\" y=\"112.52824\" style=\"fill: #17becf; stroke: #17becf\"/>\n     <use xlink:href=\"#mb655ebe3a2\" x=\"385.04303\" y=\"112.018299\" style=\"fill: #17becf; stroke: #17becf\"/>\n     <use xlink:href=\"#mb655ebe3a2\" x=\"387.32309\" y=\"111.508359\" style=\"fill: #17becf; stroke: #17becf\"/>\n     <use xlink:href=\"#mb655ebe3a2\" x=\"390.743179\" y=\"110.998418\" style=\"fill: #17becf; stroke: #17becf\"/>\n     <use xlink:href=\"#mb655ebe3a2\" x=\"403.283505\" y=\"110.488477\" style=\"fill: #17becf; stroke: #17becf\"/>\n     <use xlink:href=\"#mb655ebe3a2\" x=\"404.423535\" y=\"109.978537\" style=\"fill: #17becf; stroke: #17becf\"/>\n     <use xlink:href=\"#mb655ebe3a2\" x=\"405.563565\" y=\"109.468596\" style=\"fill: #17becf; stroke: #17becf\"/>\n     <use xlink:href=\"#mb655ebe3a2\" x=\"406.703594\" y=\"108.958655\" style=\"fill: #17becf; stroke: #17becf\"/>\n     <use xlink:href=\"#mb655ebe3a2\" x=\"408.983654\" y=\"108.448715\" style=\"fill: #17becf; stroke: #17becf\"/>\n     <use xlink:href=\"#mb655ebe3a2\" x=\"410.123683\" y=\"107.938774\" style=\"fill: #17becf; stroke: #17becf\"/>\n     <use xlink:href=\"#mb655ebe3a2\" x=\"411.263713\" y=\"107.428833\" style=\"fill: #17becf; stroke: #17becf\"/>\n     <use xlink:href=\"#mb655ebe3a2\" x=\"420.383951\" y=\"106.918893\" style=\"fill: #17becf; stroke: #17becf\"/>\n     <use xlink:href=\"#mb655ebe3a2\" x=\"426.084099\" y=\"106.408952\" style=\"fill: #17becf; stroke: #17becf\"/>\n     <use xlink:href=\"#mb655ebe3a2\" x=\"427.224129\" y=\"105.899012\" style=\"fill: #17becf; stroke: #17becf\"/>\n     <use xlink:href=\"#mb655ebe3a2\" x=\"429.504188\" y=\"105.389071\" style=\"fill: #17becf; stroke: #17becf\"/>\n     <use xlink:href=\"#mb655ebe3a2\" x=\"437.484396\" y=\"104.87913\" style=\"fill: #17becf; stroke: #17becf\"/>\n     <use xlink:href=\"#mb655ebe3a2\" x=\"442.044515\" y=\"104.36919\" style=\"fill: #17becf; stroke: #17becf\"/>\n     <use xlink:href=\"#mb655ebe3a2\" x=\"443.184545\" y=\"103.859249\" style=\"fill: #17becf; stroke: #17becf\"/>\n     <use xlink:href=\"#mb655ebe3a2\" x=\"444.324574\" y=\"103.349308\" style=\"fill: #17becf; stroke: #17becf\"/>\n     <use xlink:href=\"#mb655ebe3a2\" x=\"448.884693\" y=\"102.839368\" style=\"fill: #17becf; stroke: #17becf\"/>\n     <use xlink:href=\"#mb655ebe3a2\" x=\"452.304782\" y=\"102.329427\" style=\"fill: #17becf; stroke: #17becf\"/>\n     <use xlink:href=\"#mb655ebe3a2\" x=\"456.864901\" y=\"101.819486\" style=\"fill: #17becf; stroke: #17becf\"/>\n     <use xlink:href=\"#mb655ebe3a2\" x=\"459.14496\" y=\"101.309546\" style=\"fill: #17becf; stroke: #17becf\"/>\n     <use xlink:href=\"#mb655ebe3a2\" x=\"463.705079\" y=\"100.799605\" style=\"fill: #17becf; stroke: #17becf\"/>\n     <use xlink:href=\"#mb655ebe3a2\" x=\"464.845109\" y=\"100.289664\" style=\"fill: #17becf; stroke: #17becf\"/>\n     <use xlink:href=\"#mb655ebe3a2\" x=\"469.405228\" y=\"99.779724\" style=\"fill: #17becf; stroke: #17becf\"/>\n     <use xlink:href=\"#mb655ebe3a2\" x=\"481.945554\" y=\"99.269783\" style=\"fill: #17becf; stroke: #17becf\"/>\n     <use xlink:href=\"#mb655ebe3a2\" x=\"483.085584\" y=\"98.759843\" style=\"fill: #17becf; stroke: #17becf\"/>\n     <use xlink:href=\"#mb655ebe3a2\" x=\"485.365643\" y=\"98.249902\" style=\"fill: #17becf; stroke: #17becf\"/>\n     <use xlink:href=\"#mb655ebe3a2\" x=\"487.645703\" y=\"97.739961\" style=\"fill: #17becf; stroke: #17becf\"/>\n     <use xlink:href=\"#mb655ebe3a2\" x=\"489.925762\" y=\"97.230021\" style=\"fill: #17becf; stroke: #17becf\"/>\n     <use xlink:href=\"#mb655ebe3a2\" x=\"491.065792\" y=\"96.72008\" style=\"fill: #17becf; stroke: #17becf\"/>\n     <use xlink:href=\"#mb655ebe3a2\" x=\"492.205821\" y=\"96.210139\" style=\"fill: #17becf; stroke: #17becf\"/>\n     <use xlink:href=\"#mb655ebe3a2\" x=\"497.90597\" y=\"95.700199\" style=\"fill: #17becf; stroke: #17becf\"/>\n     <use xlink:href=\"#mb655ebe3a2\" x=\"503.606118\" y=\"95.190258\" style=\"fill: #17becf; stroke: #17becf\"/>\n     <use xlink:href=\"#mb655ebe3a2\" x=\"504.746148\" y=\"94.680317\" style=\"fill: #17becf; stroke: #17becf\"/>\n     <use xlink:href=\"#mb655ebe3a2\" x=\"508.166237\" y=\"94.170377\" style=\"fill: #17becf; stroke: #17becf\"/>\n     <use xlink:href=\"#mb655ebe3a2\" x=\"512.726356\" y=\"93.660436\" style=\"fill: #17becf; stroke: #17becf\"/>\n     <use xlink:href=\"#mb655ebe3a2\" x=\"515.006415\" y=\"93.150495\" style=\"fill: #17becf; stroke: #17becf\"/>\n     <use xlink:href=\"#mb655ebe3a2\" x=\"516.146445\" y=\"92.640555\" style=\"fill: #17becf; stroke: #17becf\"/>\n     <use xlink:href=\"#mb655ebe3a2\" x=\"517.286475\" y=\"92.130614\" style=\"fill: #17becf; stroke: #17becf\"/>\n     <use xlink:href=\"#mb655ebe3a2\" x=\"518.426504\" y=\"91.620674\" style=\"fill: #17becf; stroke: #17becf\"/>\n     <use xlink:href=\"#mb655ebe3a2\" x=\"519.566534\" y=\"91.110733\" style=\"fill: #17becf; stroke: #17becf\"/>\n    </g>\n   </g>\n   <g id=\"patch_3\">\n    <path d=\"M 43.148125 170.432 \nL 43.148125 7.2 \n\" style=\"fill: none; stroke: #000000; stroke-width: 0.8; stroke-linejoin: miter; stroke-linecap: square\"/>\n   </g>\n   <g id=\"patch_4\">\n    <path d=\"M 43.148125 170.432 \nL 542.253125 170.432 \n\" style=\"fill: none; stroke: #000000; stroke-width: 0.8; stroke-linejoin: miter; stroke-linecap: square\"/>\n   </g>\n   <g id=\"legend_1\">\n    <g id=\"patch_5\">\n     <path d=\"M 33.928562 269.7909 \nL 485.342625 269.7909 \nQ 487.342625 269.7909 487.342625 267.7909 \nL 487.342625 210.0784 \nQ 487.342625 208.0784 485.342625 208.0784 \nL 33.928562 208.0784 \nQ 31.928562 208.0784 31.928562 210.0784 \nL 31.928562 267.7909 \nQ 31.928562 269.7909 33.928562 269.7909 \nz\n\" style=\"fill: #ffffff; opacity: 0.8; stroke: #cccccc; stroke-linejoin: miter\"/>\n    </g>\n    <g id=\"line2d_27\">\n     <path d=\"M 35.928562 216.176838 \nL 45.928562 216.176838 \nL 55.928562 216.176838 \n\" style=\"fill: none; stroke: #1f77b4; stroke-width: 1.5; stroke-linecap: square\"/>\n     <g>\n      <use xlink:href=\"#m00bd4e55fc\" x=\"45.928562\" y=\"216.176838\" style=\"fill: #1f77b4; stroke: #1f77b4\"/>\n     </g>\n    </g>\n    <g id=\"text_19\">\n     <!-- f” -->\n     <g transform=\"translate(63.928562 219.676838)scale(0.1 -0.1)\">\n      <defs>\n       <path id=\"DejaVuSerif-66\" d=\"M 2753 4078 \nL 2450 4078 \nQ 2447 4313 2317 4434 \nQ 2188 4556 1941 4556 \nQ 1619 4556 1487 4379 \nQ 1356 4203 1356 3750 \nL 1356 3322 \nL 2284 3322 \nL 2284 2988 \nL 1356 2988 \nL 1356 331 \nL 2094 331 \nL 2094 0 \nL 231 0 \nL 231 331 \nL 781 331 \nL 781 2988 \nL 231 2988 \nL 231 3322 \nL 781 3322 \nL 781 3738 \nQ 781 4294 1070 4578 \nQ 1359 4863 1919 4863 \nQ 2128 4863 2337 4825 \nQ 2547 4788 2753 4709 \nL 2753 4078 \nz\n\" transform=\"scale(0.015625)\"/>\n       <path id=\"DejaVuSerif-201d\" d=\"M 453 3334 \nQ 697 3531 806 3800 \nQ 916 4069 916 4475 \nL 916 4666 \nL 1522 4666 \nQ 1519 4125 1322 3747 \nQ 1125 3369 697 3084 \nL 453 3334 \nz\nM 1697 3334 \nQ 1934 3531 2042 3798 \nQ 2150 4066 2150 4469 \nL 2150 4666 \nL 2756 4666 \nQ 2753 4119 2558 3744 \nQ 2363 3369 1941 3084 \nL 1697 3334 \nz\n\" transform=\"scale(0.015625)\"/>\n      </defs>\n      <use xlink:href=\"#DejaVuSerif-66\"/>\n      <use xlink:href=\"#DejaVuSerif-201d\" x=\"44.386719\"/>\n     </g>\n    </g>\n    <g id=\"line2d_28\">\n     <path d=\"M 35.928562 230.854963 \nL 45.928562 230.854963 \nL 55.928562 230.854963 \n\" style=\"fill: none; stroke: #ff7f0e; stroke-width: 1.5; stroke-linecap: square\"/>\n     <g>\n      <use xlink:href=\"#ma7202002c4\" x=\"45.928562\" y=\"230.854963\" style=\"fill: #ff7f0e; stroke: #ff7f0e\"/>\n     </g>\n    </g>\n    <g id=\"text_20\">\n     <!-- factor. -->\n     <g transform=\"translate(63.928562 234.354963)scale(0.1 -0.1)\">\n      <defs>\n       <path id=\"DejaVuSerif-2e\" d=\"M 603 325 \nQ 603 500 722 622 \nQ 841 744 1019 744 \nQ 1191 744 1312 622 \nQ 1434 500 1434 325 \nQ 1434 153 1312 31 \nQ 1191 -91 1019 -91 \nQ 841 -91 722 29 \nQ 603 150 603 325 \nz\n\" transform=\"scale(0.015625)\"/>\n      </defs>\n      <use xlink:href=\"#DejaVuSerif-66\"/>\n      <use xlink:href=\"#DejaVuSerif-61\" x=\"37.011719\"/>\n      <use xlink:href=\"#DejaVuSerif-63\" x=\"96.630859\"/>\n      <use xlink:href=\"#DejaVuSerif-74\" x=\"152.636719\"/>\n      <use xlink:href=\"#DejaVuSerif-6f\" x=\"192.822266\"/>\n      <use xlink:href=\"#DejaVuSerif-72\" x=\"253.027344\"/>\n      <use xlink:href=\"#DejaVuSerif-2e\" x=\"289.830078\"/>\n     </g>\n    </g>\n    <g id=\"line2d_29\">\n     <path d=\"M 35.928562 245.533088 \nL 45.928562 245.533088 \nL 55.928562 245.533088 \n\" style=\"fill: none; stroke: #2ca02c; stroke-width: 1.5; stroke-linecap: square\"/>\n     <g>\n      <use xlink:href=\"#m5e7b726447\" x=\"45.928562\" y=\"245.533088\" style=\"fill: #2ca02c; stroke: #2ca02c\"/>\n     </g>\n    </g>\n    <g id=\"text_21\">\n     <!-- field -->\n     <g transform=\"translate(63.928562 249.033088)scale(0.1 -0.1)\">\n      <defs>\n       <path id=\"DejaVuSerif-69\" d=\"M 622 4353 \nQ 622 4497 726 4603 \nQ 831 4709 978 4709 \nQ 1122 4709 1226 4603 \nQ 1331 4497 1331 4353 \nQ 1331 4206 1228 4103 \nQ 1125 4000 978 4000 \nQ 831 4000 726 4103 \nQ 622 4206 622 4353 \nz\nM 1356 331 \nL 1900 331 \nL 1900 0 \nL 231 0 \nL 231 331 \nL 781 331 \nL 781 2988 \nL 231 2988 \nL 231 3322 \nL 1356 3322 \nL 1356 331 \nz\n\" transform=\"scale(0.015625)\"/>\n       <path id=\"DejaVuSerif-6c\" d=\"M 1313 331 \nL 1856 331 \nL 1856 0 \nL 184 0 \nL 184 331 \nL 738 331 \nL 738 4531 \nL 184 4531 \nL 184 4863 \nL 1313 4863 \nL 1313 331 \nz\n\" transform=\"scale(0.015625)\"/>\n       <path id=\"DejaVuSerif-64\" d=\"M 3359 331 \nL 3909 331 \nL 3909 0 \nL 2784 0 \nL 2784 519 \nQ 2616 206 2355 57 \nQ 2094 -91 1709 -91 \nQ 1097 -91 708 395 \nQ 319 881 319 1663 \nQ 319 2444 706 2928 \nQ 1094 3413 1709 3413 \nQ 2094 3413 2355 3264 \nQ 2616 3116 2784 2803 \nL 2784 4531 \nL 2241 4531 \nL 2241 4863 \nL 3359 4863 \nL 3359 331 \nz\nM 2784 1497 \nL 2784 1825 \nQ 2784 2422 2554 2737 \nQ 2325 3053 1888 3053 \nQ 1444 3053 1217 2703 \nQ 991 2353 991 1663 \nQ 991 975 1217 622 \nQ 1444 269 1888 269 \nQ 2325 269 2554 583 \nQ 2784 897 2784 1497 \nz\n\" transform=\"scale(0.015625)\"/>\n      </defs>\n      <use xlink:href=\"#DejaVuSerif-66\"/>\n      <use xlink:href=\"#DejaVuSerif-69\" x=\"37.011719\"/>\n      <use xlink:href=\"#DejaVuSerif-65\" x=\"68.994141\"/>\n      <use xlink:href=\"#DejaVuSerif-6c\" x=\"128.173828\"/>\n      <use xlink:href=\"#DejaVuSerif-64\" x=\"160.15625\"/>\n     </g>\n    </g>\n    <g id=\"line2d_30\">\n     <path d=\"M 35.928562 260.211213 \nL 45.928562 260.211213 \nL 55.928562 260.211213 \n\" style=\"fill: none; stroke: #d62728; stroke-width: 1.5; stroke-linecap: square\"/>\n     <g>\n      <use xlink:href=\"#maeeead3943\" x=\"45.928562\" y=\"260.211213\" style=\"fill: #d62728; stroke: #d62728\"/>\n     </g>\n    </g>\n    <g id=\"text_22\">\n     <!-- finite-dimensional -->\n     <g transform=\"translate(63.928562 263.711213)scale(0.1 -0.1)\">\n      <defs>\n       <path id=\"DejaVuSerif-2d\" d=\"M 281 1959 \nL 1881 1959 \nL 1881 1472 \nL 281 1472 \nL 281 1959 \nz\n\" transform=\"scale(0.015625)\"/>\n       <path id=\"DejaVuSerif-73\" d=\"M 359 184 \nL 359 959 \nL 691 959 \nQ 703 588 923 403 \nQ 1144 219 1575 219 \nQ 1963 219 2166 364 \nQ 2369 509 2369 788 \nQ 2369 1006 2220 1140 \nQ 2072 1275 1594 1428 \nL 1178 1569 \nQ 750 1706 558 1912 \nQ 366 2119 366 2438 \nQ 366 2894 700 3153 \nQ 1034 3413 1625 3413 \nQ 1888 3413 2178 3344 \nQ 2469 3275 2778 3144 \nL 2778 2419 \nL 2447 2419 \nQ 2434 2741 2221 2922 \nQ 2009 3103 1644 3103 \nQ 1281 3103 1095 2975 \nQ 909 2847 909 2591 \nQ 909 2381 1050 2254 \nQ 1191 2128 1613 1997 \nL 2069 1856 \nQ 2541 1709 2748 1489 \nQ 2956 1269 2956 922 \nQ 2956 450 2595 179 \nQ 2234 -91 1600 -91 \nQ 1278 -91 972 -22 \nQ 666 47 359 184 \nz\n\" transform=\"scale(0.015625)\"/>\n      </defs>\n      <use xlink:href=\"#DejaVuSerif-66\"/>\n      <use xlink:href=\"#DejaVuSerif-69\" x=\"37.011719\"/>\n      <use xlink:href=\"#DejaVuSerif-6e\" x=\"68.994141\"/>\n      <use xlink:href=\"#DejaVuSerif-69\" x=\"133.398438\"/>\n      <use xlink:href=\"#DejaVuSerif-74\" x=\"165.380859\"/>\n      <use xlink:href=\"#DejaVuSerif-65\" x=\"205.566406\"/>\n      <use xlink:href=\"#DejaVuSerif-2d\" x=\"264.746094\"/>\n      <use xlink:href=\"#DejaVuSerif-64\" x=\"298.535156\"/>\n      <use xlink:href=\"#DejaVuSerif-69\" x=\"362.548828\"/>\n      <use xlink:href=\"#DejaVuSerif-6d\" x=\"394.53125\"/>\n      <use xlink:href=\"#DejaVuSerif-65\" x=\"489.355469\"/>\n      <use xlink:href=\"#DejaVuSerif-6e\" x=\"548.535156\"/>\n      <use xlink:href=\"#DejaVuSerif-73\" x=\"612.939453\"/>\n      <use xlink:href=\"#DejaVuSerif-69\" x=\"664.257812\"/>\n      <use xlink:href=\"#DejaVuSerif-6f\" x=\"696.240234\"/>\n      <use xlink:href=\"#DejaVuSerif-6e\" x=\"756.445312\"/>\n      <use xlink:href=\"#DejaVuSerif-61\" x=\"820.849609\"/>\n      <use xlink:href=\"#DejaVuSerif-6c\" x=\"880.46875\"/>\n     </g>\n    </g>\n    <g id=\"line2d_31\">\n     <path d=\"M 175.178562 216.176838 \nL 185.178562 216.176838 \nL 195.178562 216.176838 \n\" style=\"fill: none; stroke: #9467bd; stroke-width: 1.5; stroke-linecap: square\"/>\n     <defs>\n      <path id=\"mc688d11ee3\" d=\"M -2.5 2.5 \nL 2.5 -2.5 \nM -2.5 -2.5 \nL 2.5 2.5 \n\" style=\"stroke: #9467bd\"/>\n     </defs>\n     <g>\n      <use xlink:href=\"#mc688d11ee3\" x=\"185.178562\" y=\"216.176838\" style=\"fill: #9467bd; stroke: #9467bd\"/>\n     </g>\n    </g>\n    <g id=\"text_23\">\n     <!-- finitely generated module -->\n     <g transform=\"translate(203.178562 219.676838)scale(0.1 -0.1)\">\n      <defs>\n       <path id=\"DejaVuSerif-79\" d=\"M 1381 -609 \nL 1600 -56 \nL 359 2988 \nL -19 2988 \nL -19 3322 \nL 1509 3322 \nL 1509 2988 \nL 978 2988 \nL 1913 703 \nL 2847 2988 \nL 2350 2988 \nL 2350 3322 \nL 3597 3322 \nL 3597 2988 \nL 3225 2988 \nL 1703 -750 \nQ 1547 -1138 1356 -1280 \nQ 1166 -1422 819 -1422 \nQ 672 -1422 517 -1397 \nQ 363 -1372 206 -1325 \nL 206 -691 \nL 500 -691 \nQ 519 -903 608 -995 \nQ 697 -1088 884 -1088 \nQ 1056 -1088 1161 -992 \nQ 1266 -897 1381 -609 \nz\n\" transform=\"scale(0.015625)\"/>\n      </defs>\n      <use xlink:href=\"#DejaVuSerif-66\"/>\n      <use xlink:href=\"#DejaVuSerif-69\" x=\"37.011719\"/>\n      <use xlink:href=\"#DejaVuSerif-6e\" x=\"68.994141\"/>\n      <use xlink:href=\"#DejaVuSerif-69\" x=\"133.398438\"/>\n      <use xlink:href=\"#DejaVuSerif-74\" x=\"165.380859\"/>\n      <use xlink:href=\"#DejaVuSerif-65\" x=\"205.566406\"/>\n      <use xlink:href=\"#DejaVuSerif-6c\" x=\"264.746094\"/>\n      <use xlink:href=\"#DejaVuSerif-79\" x=\"296.728516\"/>\n      <use xlink:href=\"#DejaVuSerif-20\" x=\"353.222656\"/>\n      <use xlink:href=\"#DejaVuSerif-67\" x=\"385.009766\"/>\n      <use xlink:href=\"#DejaVuSerif-65\" x=\"449.023438\"/>\n      <use xlink:href=\"#DejaVuSerif-6e\" x=\"508.203125\"/>\n      <use xlink:href=\"#DejaVuSerif-65\" x=\"572.607422\"/>\n      <use xlink:href=\"#DejaVuSerif-72\" x=\"631.787109\"/>\n      <use xlink:href=\"#DejaVuSerif-61\" x=\"679.589844\"/>\n      <use xlink:href=\"#DejaVuSerif-74\" x=\"739.208984\"/>\n      <use xlink:href=\"#DejaVuSerif-65\" x=\"779.394531\"/>\n      <use xlink:href=\"#DejaVuSerif-64\" x=\"838.574219\"/>\n      <use xlink:href=\"#DejaVuSerif-20\" x=\"902.587891\"/>\n      <use xlink:href=\"#DejaVuSerif-6d\" x=\"934.375\"/>\n      <use xlink:href=\"#DejaVuSerif-6f\" x=\"1029.199219\"/>\n      <use xlink:href=\"#DejaVuSerif-64\" x=\"1089.404297\"/>\n      <use xlink:href=\"#DejaVuSerif-75\" x=\"1153.417969\"/>\n      <use xlink:href=\"#DejaVuSerif-6c\" x=\"1217.822266\"/>\n      <use xlink:href=\"#DejaVuSerif-65\" x=\"1249.804688\"/>\n     </g>\n    </g>\n    <g id=\"line2d_32\">\n     <path d=\"M 175.178562 230.99715 \nL 185.178562 230.99715 \nL 195.178562 230.99715 \n\" style=\"fill: none; stroke: #8c564b; stroke-width: 1.5; stroke-linecap: square\"/>\n     <g>\n      <use xlink:href=\"#m6f87cd43da\" x=\"185.178562\" y=\"230.99715\" style=\"fill: #8c564b; stroke: #8c564b\"/>\n     </g>\n    </g>\n    <g id=\"text_24\">\n     <!-- form -->\n     <g transform=\"translate(203.178562 234.49715)scale(0.1 -0.1)\">\n      <use xlink:href=\"#DejaVuSerif-66\"/>\n      <use xlink:href=\"#DejaVuSerif-6f\" x=\"37.011719\"/>\n      <use xlink:href=\"#DejaVuSerif-72\" x=\"97.216797\"/>\n      <use xlink:href=\"#DejaVuSerif-6d\" x=\"145.019531\"/>\n     </g>\n    </g>\n    <g id=\"line2d_33\">\n     <path d=\"M 175.178562 245.675275 \nL 185.178562 245.675275 \nL 195.178562 245.675275 \n\" style=\"fill: none; stroke: #e377c2; stroke-width: 1.5; stroke-linecap: square\"/>\n     <defs>\n      <path id=\"me59512b502\" d=\"M -2.5 2.5 \nL 2.5 -2.5 \nM -2.5 -2.5 \nL 2.5 2.5 \n\" style=\"stroke: #e377c2\"/>\n     </defs>\n     <g>\n      <use xlink:href=\"#me59512b502\" x=\"185.178562\" y=\"245.675275\" style=\"fill: #e377c2; stroke: #e377c2\"/>\n     </g>\n    </g>\n    <g id=\"text_25\">\n     <!-- hermitian t- tor) -->\n     <g transform=\"translate(203.178562 249.175275)scale(0.1 -0.1)\">\n      <defs>\n       <path id=\"DejaVuSerif-68\" d=\"M 263 0 \nL 263 331 \nL 781 331 \nL 781 4531 \nL 231 4531 \nL 231 4863 \nL 1356 4863 \nL 1356 2731 \nQ 1516 3069 1770 3241 \nQ 2025 3413 2363 3413 \nQ 2913 3413 3172 3097 \nQ 3431 2781 3431 2113 \nL 3431 331 \nL 3944 331 \nL 3944 0 \nL 2356 0 \nL 2356 331 \nL 2853 331 \nL 2853 1931 \nQ 2853 2541 2704 2764 \nQ 2556 2988 2175 2988 \nQ 1775 2988 1565 2697 \nQ 1356 2406 1356 1850 \nL 1356 331 \nL 1856 331 \nL 1856 0 \nL 263 0 \nz\n\" transform=\"scale(0.015625)\"/>\n       <path id=\"DejaVuSerif-29\" d=\"M 453 -997 \nL 453 -691 \nQ 934 -359 1145 242 \nQ 1356 844 1356 1931 \nQ 1356 3022 1145 3623 \nQ 934 4225 453 4556 \nL 453 4863 \nQ 1216 4522 1603 3783 \nQ 1991 3044 1991 1931 \nQ 1991 822 1603 83 \nQ 1216 -656 453 -997 \nz\n\" transform=\"scale(0.015625)\"/>\n      </defs>\n      <use xlink:href=\"#DejaVuSerif-68\"/>\n      <use xlink:href=\"#DejaVuSerif-65\" x=\"64.404297\"/>\n      <use xlink:href=\"#DejaVuSerif-72\" x=\"123.583984\"/>\n      <use xlink:href=\"#DejaVuSerif-6d\" x=\"171.386719\"/>\n      <use xlink:href=\"#DejaVuSerif-69\" x=\"266.210938\"/>\n      <use xlink:href=\"#DejaVuSerif-74\" x=\"298.193359\"/>\n      <use xlink:href=\"#DejaVuSerif-69\" x=\"338.378906\"/>\n      <use xlink:href=\"#DejaVuSerif-61\" x=\"370.361328\"/>\n      <use xlink:href=\"#DejaVuSerif-6e\" x=\"429.980469\"/>\n      <use xlink:href=\"#DejaVuSerif-20\" x=\"494.384766\"/>\n      <use xlink:href=\"#DejaVuSerif-74\" x=\"526.171875\"/>\n      <use xlink:href=\"#DejaVuSerif-2d\" x=\"566.357422\"/>\n      <use xlink:href=\"#DejaVuSerif-20\" x=\"600.146484\"/>\n      <use xlink:href=\"#DejaVuSerif-74\" x=\"631.933594\"/>\n      <use xlink:href=\"#DejaVuSerif-6f\" x=\"672.119141\"/>\n      <use xlink:href=\"#DejaVuSerif-72\" x=\"732.324219\"/>\n      <use xlink:href=\"#DejaVuSerif-29\" x=\"780.126953\"/>\n     </g>\n    </g>\n    <g id=\"line2d_34\">\n     <path d=\"M 354.08325 216.176838 \nL 364.08325 216.176838 \nL 374.08325 216.176838 \n\" style=\"fill: none; stroke: #7f7f7f; stroke-width: 1.5; stroke-linecap: square\"/>\n     <defs>\n      <path id=\"ma1a160f19a\" d=\"M -2.5 2.5 \nL 2.5 -2.5 \nM -2.5 -2.5 \nL 2.5 2.5 \n\" style=\"stroke: #7f7f7f\"/>\n     </defs>\n     <g>\n      <use xlink:href=\"#ma1a160f19a\" x=\"364.08325\" y=\"216.176838\" style=\"fill: #7f7f7f; stroke: #7f7f7f\"/>\n     </g>\n    </g>\n    <g id=\"text_26\">\n     <!-- formal power series -->\n     <g transform=\"translate(382.08325 219.676838)scale(0.1 -0.1)\">\n      <defs>\n       <path id=\"DejaVuSerif-77\" d=\"M 3072 3322 \nL 3922 728 \nL 4672 2988 \nL 4191 2988 \nL 4191 3322 \nL 5394 3322 \nL 5394 2988 \nL 5025 2988 \nL 4038 0 \nL 3559 0 \nL 2741 2484 \nL 1919 0 \nL 1459 0 \nL 475 2988 \nL 103 2988 \nL 103 3322 \nL 1606 3322 \nL 1606 2988 \nL 1069 2988 \nL 1813 728 \nL 2669 3322 \nL 3072 3322 \nz\n\" transform=\"scale(0.015625)\"/>\n      </defs>\n      <use xlink:href=\"#DejaVuSerif-66\"/>\n      <use xlink:href=\"#DejaVuSerif-6f\" x=\"37.011719\"/>\n      <use xlink:href=\"#DejaVuSerif-72\" x=\"97.216797\"/>\n      <use xlink:href=\"#DejaVuSerif-6d\" x=\"145.019531\"/>\n      <use xlink:href=\"#DejaVuSerif-61\" x=\"239.84375\"/>\n      <use xlink:href=\"#DejaVuSerif-6c\" x=\"299.462891\"/>\n      <use xlink:href=\"#DejaVuSerif-20\" x=\"331.445312\"/>\n      <use xlink:href=\"#DejaVuSerif-70\" x=\"363.232422\"/>\n      <use xlink:href=\"#DejaVuSerif-6f\" x=\"427.246094\"/>\n      <use xlink:href=\"#DejaVuSerif-77\" x=\"487.451172\"/>\n      <use xlink:href=\"#DejaVuSerif-65\" x=\"573.046875\"/>\n      <use xlink:href=\"#DejaVuSerif-72\" x=\"632.226562\"/>\n      <use xlink:href=\"#DejaVuSerif-20\" x=\"680.029297\"/>\n      <use xlink:href=\"#DejaVuSerif-73\" x=\"711.816406\"/>\n      <use xlink:href=\"#DejaVuSerif-65\" x=\"763.134766\"/>\n      <use xlink:href=\"#DejaVuSerif-72\" x=\"822.314453\"/>\n      <use xlink:href=\"#DejaVuSerif-69\" x=\"870.117188\"/>\n      <use xlink:href=\"#DejaVuSerif-65\" x=\"902.099609\"/>\n      <use xlink:href=\"#DejaVuSerif-73\" x=\"961.279297\"/>\n     </g>\n    </g>\n    <g id=\"line2d_35\">\n     <path d=\"M 354.08325 230.854963 \nL 364.08325 230.854963 \nL 374.08325 230.854963 \n\" style=\"fill: none; stroke: #bcbd22; stroke-width: 1.5; stroke-linecap: square\"/>\n     <defs>\n      <path id=\"md067857e27\" d=\"M -2.5 2.5 \nL 2.5 -2.5 \nM -2.5 -2.5 \nL 2.5 2.5 \n\" style=\"stroke: #bcbd22\"/>\n     </defs>\n     <g>\n      <use xlink:href=\"#md067857e27\" x=\"364.08325\" y=\"230.854963\" style=\"fill: #bcbd22; stroke: #bcbd22\"/>\n     </g>\n    </g>\n    <g id=\"text_27\">\n     <!-- free module -->\n     <g transform=\"translate(382.08325 234.354963)scale(0.1 -0.1)\">\n      <use xlink:href=\"#DejaVuSerif-66\"/>\n      <use xlink:href=\"#DejaVuSerif-72\" x=\"37.011719\"/>\n      <use xlink:href=\"#DejaVuSerif-65\" x=\"84.814453\"/>\n      <use xlink:href=\"#DejaVuSerif-65\" x=\"143.994141\"/>\n      <use xlink:href=\"#DejaVuSerif-20\" x=\"203.173828\"/>\n      <use xlink:href=\"#DejaVuSerif-6d\" x=\"234.960938\"/>\n      <use xlink:href=\"#DejaVuSerif-6f\" x=\"329.785156\"/>\n      <use xlink:href=\"#DejaVuSerif-64\" x=\"389.990234\"/>\n      <use xlink:href=\"#DejaVuSerif-75\" x=\"454.003906\"/>\n      <use xlink:href=\"#DejaVuSerif-6c\" x=\"518.408203\"/>\n      <use xlink:href=\"#DejaVuSerif-65\" x=\"550.390625\"/>\n     </g>\n    </g>\n    <g id=\"line2d_36\">\n     <path d=\"M 354.08325 245.533088 \nL 364.08325 245.533088 \nL 374.08325 245.533088 \n\" style=\"fill: none; stroke: #17becf; stroke-width: 1.5; stroke-linecap: square\"/>\n     <g>\n      <use xlink:href=\"#mb655ebe3a2\" x=\"364.08325\" y=\"245.533088\" style=\"fill: #17becf; stroke: #17becf\"/>\n     </g>\n    </g>\n    <g id=\"text_28\">\n     <!-- function -->\n     <g transform=\"translate(382.08325 249.033088)scale(0.1 -0.1)\">\n      <use xlink:href=\"#DejaVuSerif-66\"/>\n      <use xlink:href=\"#DejaVuSerif-75\" x=\"37.011719\"/>\n      <use xlink:href=\"#DejaVuSerif-6e\" x=\"101.416016\"/>\n      <use xlink:href=\"#DejaVuSerif-63\" x=\"165.820312\"/>\n      <use xlink:href=\"#DejaVuSerif-74\" x=\"221.826172\"/>\n      <use xlink:href=\"#DejaVuSerif-69\" x=\"262.011719\"/>\n      <use xlink:href=\"#DejaVuSerif-6f\" x=\"293.994141\"/>\n      <use xlink:href=\"#DejaVuSerif-6e\" x=\"354.199219\"/>\n     </g>\n    </g>\n   </g>\n  </g>\n </g>\n <defs>\n  <clipPath id=\"pf7ef7b8355\">\n   <rect x=\"43.148125\" y=\"7.2\" width=\"499.105\" height=\"163.232\"/>\n  </clipPath>\n </defs>\n</svg>\n",
      "text/plain": [
       "<Figure size 576x288 with 1 Axes>"
      ]
     },
     "metadata": {
      "needs_background": "light"
     },
     "output_type": "display_data"
    }
   ],
   "source": [
    "fig,ax = plt.subplots(1,1,figsize=(8,4))\n",
    "ff=10\n",
    "num_plot=10\n",
    "ini_=50\n",
    "for node in node_list[ini_:ini_+num_plot]:\n",
    "    ax.plot(dict_node_appearances[node],range(1,len(dict_node_appearances[node])+1),marker='x',label=node, markersize=5)\n",
    "ax.legend(ncol=3,bbox_to_anchor=(.9,-.2),fontsize=ff)\n",
    "xlab_='page number';\n",
    "ylab_='count';\n",
    "simpleaxis(ax,xlab_,ylab_)\n",
    "\n",
    "# ax.set_yscale('log',base=10)\n",
    "# ax.set_xscale('log',base=10)\n"
   ]
  },
  {
   "cell_type": "markdown",
   "id": "6a28a691-058d-487b-aca4-03fc483ee8c3",
   "metadata": {},
   "source": [
    "# Extracting the section names from Index \n"
   ]
  },
  {
   "cell_type": "code",
   "execution_count": 64,
   "id": "294caf3d",
   "metadata": {},
   "outputs": [
    {
     "data": {
      "text/plain": [
       "['fields',\n",
       " 'systems of linear equations',\n",
       " 'matrices and elementary row operations',\n",
       " 'row-reduced echelon matrices',\n",
       " 'matrix multiplication',\n",
       " 'invertible matrices',\n",
       " 'vector spaces',\n",
       " 'subspaces',\n",
       " 'bases and dimension',\n",
       " 'coordinates',\n",
       " 'summary of row-equivalence',\n",
       " 'computations concerning subspaces',\n",
       " 'linear transformations',\n",
       " 'the algebra of linear transformations',\n",
       " 'isomorphism',\n",
       " 'representation of transformations by matrices',\n",
       " 'linear functionals',\n",
       " 'the double dual',\n",
       " 'the transpose of a linear transformation',\n",
       " 'algebras',\n",
       " 'the algebra of polynomials',\n",
       " 'lagrange interpolation',\n",
       " 'polynomial ideals',\n",
       " 'the prime factorization of a polynomial',\n",
       " 'commutative rings',\n",
       " 'determinant functions',\n",
       " 'permutations and the uniqueness of determinants',\n",
       " 'additional properties of determinants',\n",
       " 'modules',\n",
       " 'multilinear functions',\n",
       " 'the grassman ring',\n",
       " 'introduction',\n",
       " 'characteristic values',\n",
       " 'annihilating polynomials',\n",
       " 'invariant subspaces',\n",
       " 'simultaneous triangulation; simultaneous diagonalization',\n",
       " 'direct-sum decompositions',\n",
       " 'invariant direct sums',\n",
       " 'the primary decomposition theorem',\n",
       " 'cyclic subspaces and annihilators',\n",
       " 'cyclic decompositions and the rational form',\n",
       " 'the jordan form',\n",
       " 'computation of invariant factors',\n",
       " 'summary; semi-simple operators',\n",
       " 'inner products',\n",
       " 'inner product spaces',\n",
       " 'linear functionals and adjoints',\n",
       " 'unitary operators',\n",
       " 'normal operators',\n",
       " 'introduction',\n",
       " 'forms on inner product spaces',\n",
       " 'positive forms',\n",
       " 'more on forms',\n",
       " 'spectral theory',\n",
       " 'further properties of normal operators',\n",
       " 'bilinear forms',\n",
       " 'symmetric bilinear forms',\n",
       " 'skew-symmetric bilinear forms',\n",
       " 'groups preserving bilinear forms']"
      ]
     },
     "execution_count": 64,
     "metadata": {},
     "output_type": "execute_result"
    }
   ],
   "source": [
    "# file = pdfplumber.open('Kenneth M Hoffman, Ray Kunze - Linear Algebra -Prentice Hall (1971).pdf')\n",
    "file = pdfplumber.open('Linear Algebra, 2Nd Edition - Kenneth Hoffmann And Ray Kunze.pdf')\n",
    "\n",
    "node_list = []\n",
    "all_sections=[]\n",
    "\n",
    "for x in range(5,8):\n",
    "# for x in range(6,7):\n",
    "    \n",
    "    text_=file.pages[x].extract_text()\n",
    "    text_list = text_.split('\\n')\n",
    "#     text_list = [text for text in text_list if text[0].isdigit()]\n",
    "    text_list_new=[]\n",
    "    for line_ in range(len(text_list)):\n",
    "        \n",
    "        text=text_list[line_]\n",
    "        \n",
    "        if (text[0].isdigit()) and (text.rstrip()[-1].isdigit()):\n",
    "            text_list_new.append(text)\n",
    "        elif (text[0].isdigit()) and ((line_+1)<=(len(text_list)-1)):\n",
    "            text_list_new.append(text+text_list[line_+1])\n",
    "#         if '8.4' in text:\n",
    "#             print(text,'\\n conditions-\\n',text[0].isdigit() and text.rstrip()[-1].isdigit(),'\\n',text+text_list[line_+1])\n",
    "#             print(text_list[line_+1])\n",
    "            \n",
    "            \n",
    "    \n",
    "    \n",
    "#     text_list_new = [text.rstrip('1234567890') for text in text_list_new]\n",
    "    text_list_new=[x for x in text_list_new if len(x)>5]\n",
    "    all_sections=all_sections+(text_list_new)\n",
    "all_sections=[x[0:len(x)-4].lower().rstrip() for x in all_sections]\n",
    "# all_sections=[x.split('.')[-1].lstrip() for x in all_sections]\n",
    "all_sections= [re.sub('\\s+',' ',x) for x in all_sections]\n",
    "all_sections=[x.split('.')[-1].lstrip() for x in all_sections]\n",
    "all_sections= [re.sub(r'[0-9]+', '', x) for x in all_sections]\n",
    "all_sections=[x.lstrip() for x in all_sections]\n",
    "all_sections\n",
    "\n"
   ]
  },
  {
   "cell_type": "code",
   "execution_count": null,
   "id": "c7aaad6c-da43-4851-af01-b2d554b67c44",
   "metadata": {},
   "outputs": [],
   "source": []
  },
  {
   "cell_type": "code",
   "execution_count": null,
   "id": "02b94b21-3784-4350-bfd8-eb350be4a144",
   "metadata": {},
   "outputs": [],
   "source": []
  },
  {
   "cell_type": "code",
   "execution_count": 65,
   "id": "46021dcc-8407-4f23-9917-b4d95cbb48ee",
   "metadata": {},
   "outputs": [
    {
     "name": "stdout",
     "output_type": "stream",
     "text": [
      "1 matrices and elementary\n",
      "matrices and elementary row operations\n"
     ]
    },
    {
     "data": {
      "text/plain": [
       "{'0.fields': [8, array([1])],\n",
       " '1.systems of linear equations': [10, array([27])],\n",
       " '2.matrices and elementary row operations': [13, 1],\n",
       " '3.row-reduced echelon matrices': [18, array([18])],\n",
       " '4.matrix multiplication': [23, array([29])],\n",
       " '5.invertible matrices': [28, array([25])],\n",
       " '6.vector spaces': [35, array([0, 1])],\n",
       " '7.subspaces': [41, array([24])],\n",
       " '8.bases and dimension': [47, array([25])],\n",
       " '9.coordinates': [56, array([25])],\n",
       " '10.summary of row-equivalence': [62, array([32])],\n",
       " '11.computations concerning subspaces': [65, array([25])],\n",
       " '12.linear transformations': [74, array([0, 1])],\n",
       " '13.the algebra of linear transformations': [81, array([17])],\n",
       " '14.isomorphism': [91, array([22])],\n",
       " '15.representation of transformations by matrices': [93, 30],\n",
       " '16.linear functionals': [104, 14],\n",
       " '17.the double dual': [114, array([11])],\n",
       " '18.the transpose of a linear transformation': [118, 36],\n",
       " '19.algebras': [124, array([1])],\n",
       " '20.the algebra of polynomials': [126, array([28])],\n",
       " '21.lagrange interpolation': [131, array([1])],\n",
       " '22.polynomial ideals': [134, array([28])],\n",
       " '23.the prime factorization of a polynomial': [141, 31],\n",
       " '24.commutative rings': [147, array([1])],\n",
       " '25.determinant functions': [148, array([29])],\n",
       " '26.permutations and the uniqueness of determinants': [157, 21],\n",
       " '27.additional properties of determinants': [163, array([23])],\n",
       " '28.modules': [171, array([6])],\n",
       " '29.multilinear functions': [173, array([1])],\n",
       " '30.the grassman ring': [180, array([23])],\n",
       " '31.introduction': [188, array([3])],\n",
       " '32.characteristic values': [189, array([21])],\n",
       " '33.annihilating polynomials': [197, array([35])],\n",
       " '34.invariant subspaces': [205, array([37])],\n",
       " '35.simultaneous triangulation; simultaneous diagonalization': [213, 17],\n",
       " '36.direct-sum decompositions': [216, array([1])],\n",
       " '37.invariant direct sums': [220, array([32])],\n",
       " '38.the primary decomposition theorem': [226, array([26])],\n",
       " '39.cyclic subspaces and annihilators': [234, array([2])],\n",
       " '40.cyclic decompositions and the rational form': [238, 18],\n",
       " '41.the jordan form': [251, array([6])],\n",
       " '42.computation of invariant factors': [258, array([20])],\n",
       " '43.summary; semi-simple operators': [269, array([5])],\n",
       " '44.inner products': [277, array([4])],\n",
       " '45.inner product spaces': [284, array([8])],\n",
       " '46.linear functionals and adjoints': [297, array([24])],\n",
       " '47.unitary operators': [306, array([16])],\n",
       " '48.normal operators': [318, array([26])],\n",
       " '49.introduction': [326, array([2])],\n",
       " '50.forms on inner product spaces': [327, array([1])],\n",
       " '51.positive forms': [332, array([12])],\n",
       " '52.more on forms': [339, array([7])],\n",
       " '53.spectral theory': [342, array([28])],\n",
       " '54.further properties of normal operators': [356, 6],\n",
       " '55.bilinear forms': [366, array([2])],\n",
       " '56.symmetric bilinear forms': [374, array([25])],\n",
       " '57.skew-symmetric bilinear forms': [382, array([23])],\n",
       " '58.groups preserving bilinear forms': [386, array([13])]}"
      ]
     },
     "execution_count": 65,
     "metadata": {},
     "output_type": "execute_result"
    }
   ],
   "source": [
    "import numpy as np\n",
    "all_sections=[x.split('.')[-1].lstrip() for x in all_sections]\n",
    "\n",
    "it_section=0\n",
    "dict_section_page_line={}\n",
    "\n",
    "for x in range(8,394):\n",
    "    text_=file.pages[x].extract_text()\n",
    "    text_=text_.lower()\n",
    "    text_list = text_.split('\\n')\n",
    "#     x=text_list[1]\n",
    "    xx=[x.split('.') for x in text_list]\n",
    "    text_new=[y[-1].rstrip().lstrip() for y in xx]\n",
    "    text_new=[re.sub('\\s+',' ',x) for x in text_new]\n",
    "    line_num=np.where(all_sections[it_section]== np.array(text_new))[0]\n",
    "    \n",
    "    \n",
    "    if line_num.shape[0]>0:\n",
    "#         print(it_section)\n",
    "        dict_section_page_line[str(it_section)+'.'+all_sections[it_section]]= [x,line_num]\n",
    "        it_section=it_section+1\n",
    "    else:\n",
    "        for it__ in range(len(text_new)-2):\n",
    "            joined_=text_new[it__]+' '+text_new[it__+1]\n",
    "            if x==13:\n",
    "                print(joined_)\n",
    "            if re.sub('\\s+',' ',joined_)==all_sections[it_section]:\n",
    "                line_num=it__\n",
    "                dict_section_page_line[str(it_section)+'.'+all_sections[it_section]]= [x,line_num]\n",
    "                it_section=it_section+1\n",
    "                break\n",
    "        for it__ in range(len(text_new)-1):\n",
    "            joined_=text_new[it__]\n",
    "#             if x==13:\n",
    "#                 print(joined_)\n",
    "            if re.sub('\\s+',' ',joined_).replace(' ','')==all_sections[it_section].replace(' ',''):\n",
    "                line_num=it__\n",
    "                dict_section_page_line[str(it_section)+'.'+all_sections[it_section]]= [x,line_num]\n",
    "                it_section=it_section+1\n",
    "                break\n",
    "\n",
    "\n",
    "    \n",
    "    if it_section==len(all_sections):\n",
    "        break\n",
    "dict_section_page_line\n"
   ]
  },
  {
   "cell_type": "code",
   "execution_count": 66,
   "id": "c58860a2-463c-4da0-9f5c-8016bdc7d7e5",
   "metadata": {},
   "outputs": [],
   "source": [
    "line_num=[]\n",
    "for key in dict_section_page_line.keys():\n",
    "    if type(dict_section_page_line[key][1])==np.ndarray:\n",
    "\n",
    "        dict_section_page_line[key][1]=dict_section_page_line[key][1][0]"
   ]
  },
  {
   "cell_type": "code",
   "execution_count": null,
   "id": "b5c37827-1202-4b2d-998b-50dc96a66c52",
   "metadata": {},
   "outputs": [],
   "source": []
  },
  {
   "cell_type": "code",
   "execution_count": 67,
   "id": "9e75b71c-b97c-4685-9017-f5b69a23ed97",
   "metadata": {},
   "outputs": [],
   "source": [
    "# cut the book into subsections\n",
    "\n",
    "dict_section_text={}\n",
    "page_nums=[]\n",
    "for key in dict_section_page_line.keys():\n",
    "    page_nums.append(dict_section_page_line[key][0])\n",
    "text_section=[]    \n",
    "section_names=list(dict_section_page_line.keys())\n",
    "it_section=0\n",
    "for x in range(8,394):\n",
    "    \n",
    "    text_=file.pages[x].extract_text()\n",
    "    text_=text_.lower()\n",
    "    text_list = text_.split('\\n')\n",
    "    \n",
    "    if (x in page_nums) and x>8:\n",
    "        it_section=it_section+1\n",
    "        key=section_names[it_section]\n",
    "#         print('line_num-----',dict_section_page_line[key][1])\n",
    "        text_section.append(text_list[1:dict_section_page_line[key][1]])\n",
    "        dict_section_text[section_names[it_section-1]]=text_section\n",
    "        text_section=text_list[dict_section_page_line[key][1]:-1]\n",
    "    else:\n",
    "        text_section.append(text_list[1:-1])\n",
    "        \n",
    "# #     x=text_list[1]\n",
    "#     xx=[x.split('.') for x in text_list]\n",
    "#     text_new=[y[-1].rstrip().lstrip() for y in xx]\n",
    "#     text_new=[re.sub('\\s+',' ',x) for x in text_new]\n",
    "#     line_num=np.where(all_sections[it_section]== np.array(text_new))[0]\n",
    "#     print(text_list)\n",
    "    \n",
    "#     dict_section_page_line\n",
    "    \n",
    "    \n"
   ]
  },
  {
   "cell_type": "code",
   "execution_count": 68,
   "id": "5dd68180-32dc-4faa-8f9b-0647dadd9e50",
   "metadata": {},
   "outputs": [],
   "source": [
    "dict_section_textcombined=dict_section_text.copy()\n",
    "for k in dict_section_text.keys():\n",
    "#     print(dict_section_text[k],'\\n\\n')\n",
    "    text_combined='  '\n",
    "    y=' '\n",
    "    \n",
    "    for xx in dict_section_text[k]:\n",
    "        for x in xx:\n",
    "            if text_combined[-2]=='-':\n",
    "                text_combined=text_combined[0:-2]+x\n",
    "            else:\n",
    "                text_combined=text_combined+x\n",
    "    dict_section_textcombined[k]=text_combined\n"
   ]
  },
  {
   "cell_type": "code",
   "execution_count": 69,
   "id": "4e33b257-4912-4eb5-8f01-49d78136de0e",
   "metadata": {},
   "outputs": [
    {
     "data": {
      "text/plain": [
       "True"
      ]
     },
     "execution_count": 69,
     "metadata": {},
     "output_type": "execute_result"
    }
   ],
   "source": [
    "x in dict_section_textcombined[list(dict_section_textcombined.keys())[6]]"
   ]
  },
  {
   "cell_type": "code",
   "execution_count": 83,
   "id": "4d02e88a-36aa-4bf1-9667-3e7a220453ad",
   "metadata": {},
   "outputs": [
    {
     "data": {
      "text/plain": [
       "[]"
      ]
     },
     "execution_count": 83,
     "metadata": {},
     "output_type": "execute_result"
    }
   ],
   "source": []
  },
  {
   "cell_type": "code",
   "execution_count": null,
   "id": "0b069e50-d455-4f41-9bf5-293423a1a093",
   "metadata": {},
   "outputs": [],
   "source": []
  },
  {
   "cell_type": "code",
   "execution_count": null,
   "id": "235fd65c-8028-4fee-8c33-cb826b7ed840",
   "metadata": {},
   "outputs": [],
   "source": []
  },
  {
   "cell_type": "code",
   "execution_count": null,
   "id": "8520a7f2-3914-4061-8b74-02c7a09df990",
   "metadata": {},
   "outputs": [],
   "source": []
  },
  {
   "cell_type": "code",
   "execution_count": 84,
   "id": "ffbd3c71-ba30-483e-a982-31bbb1a95faf",
   "metadata": {},
   "outputs": [
    {
     "data": {
      "text/plain": [
       "[]"
      ]
     },
     "execution_count": 84,
     "metadata": {},
     "output_type": "execute_result"
    }
   ],
   "source": []
  },
  {
   "cell_type": "code",
   "execution_count": 70,
   "id": "b98ff01a-8b8a-44ef-8246-994ccfbc5b98",
   "metadata": {},
   "outputs": [],
   "source": [
    "# dict_section_keywords_line_no = {keyword: {section: [line_numbers_within_section]}}\n",
    "dict_section_keywords_line_no={}\n",
    "\n",
    "glossary_words=node_list.copy()\n",
    "it_gloss=0\n",
    "for x in glossary_words:\n",
    "    print(it_gloss,'==',x,end='\\r')\n",
    "    it_gloss=it_gloss+1\n",
    "    x_key=x\n",
    "    x=x.split(' ')\n",
    "\n",
    "    dict_section_keywords_line_no[x_key]={}\n",
    "\n",
    "    for k in dict_section_textcombined.keys():\n",
    "        dict_section_keywords_line_no[x_key][k]=[]\n",
    "        search_text=dict_section_textcombined[k]\n",
    "        search_text=[x for x in search_text.split(' ') if x!='']\n",
    "        for it in range(len(search_text)-1):\n",
    "            if x == search_text[it:it+len(x)]:\n",
    "                dict_section_keywords_line_no[x_key][k].append(it)\n",
    "\n",
    "\n"
   ]
  },
  {
   "cell_type": "code",
   "execution_count": 71,
   "id": "927cfab2-fb45-47c0-9d99-117b411bb6de",
   "metadata": {},
   "outputs": [
    {
     "data": {
      "text/plain": [
       "'space. '"
      ]
     },
     "execution_count": 71,
     "metadata": {},
     "output_type": "execute_result"
    }
   ],
   "source": [
    "x"
   ]
  },
  {
   "cell_type": "code",
   "execution_count": 72,
   "id": "688f56c6-4848-4698-9475-841870906c61",
   "metadata": {},
   "outputs": [
    {
     "data": {
      "text/plain": [
       "{}"
      ]
     },
     "execution_count": 72,
     "metadata": {},
     "output_type": "execute_result"
    }
   ],
   "source": [
    "dict_section_keywords_line_no"
   ]
  },
  {
   "cell_type": "code",
   "execution_count": 73,
   "id": "d983c886-1448-425a-a7ee-e67de13b3345",
   "metadata": {},
   "outputs": [],
   "source": [
    "# for k in dict_section_textcombined.keys():\n",
    "#     print(dict_section_textcombined[k],'\\n\\n')"
   ]
  },
  {
   "cell_type": "code",
   "execution_count": null,
   "id": "46925534-6d7a-484c-8759-c34d9a762539",
   "metadata": {},
   "outputs": [],
   "source": []
  },
  {
   "cell_type": "code",
   "execution_count": null,
   "id": "ce58c4e2-b921-426a-ba01-12b208b8c2ec",
   "metadata": {},
   "outputs": [],
   "source": []
  },
  {
   "cell_type": "code",
   "execution_count": 74,
   "id": "4ed786c3-df94-48e1-9744-224263ee6973",
   "metadata": {},
   "outputs": [],
   "source": [
    "#### Quick check that page numbers of subsections where correct by manual inspection"
   ]
  },
  {
   "cell_type": "code",
   "execution_count": 75,
   "id": "23930df7-e2c4-4cdc-ae61-ec7f90e84881",
   "metadata": {},
   "outputs": [
    {
     "data": {
      "text/plain": [
       "array([  1,   3,   6,  11,  16,  21,  28,  34,  40,  49,  55,  58,  67,\n",
       "        74,  84,  86,  97, 107, 111, 117, 119, 124, 127, 134, 140, 141,\n",
       "       150, 156, 164, 166, 173, 181, 182, 190, 198, 206, 209, 213, 219,\n",
       "       227, 231, 244, 251, 262, 270, 277, 290, 299, 311, 319, 320, 325,\n",
       "       332, 335, 349, 359, 367, 375, 379])"
      ]
     },
     "execution_count": 75,
     "metadata": {},
     "output_type": "execute_result"
    }
   ],
   "source": [
    "page_nums=[]\n",
    "for key in dict_section_page_line.keys():\n",
    "    page_nums.append(dict_section_page_line[key][0])\n",
    "np.array(page_nums)-7"
   ]
  },
  {
   "cell_type": "code",
   "execution_count": 76,
   "id": "0357af01-8af1-4fb2-9fb8-241ce388242e",
   "metadata": {},
   "outputs": [
    {
     "data": {
      "text/plain": [
       "59"
      ]
     },
     "execution_count": 76,
     "metadata": {},
     "output_type": "execute_result"
    }
   ],
   "source": [
    "len(dict_section_page_line.keys())"
   ]
  },
  {
   "cell_type": "code",
   "execution_count": null,
   "id": "de510444-e016-458e-97fe-2b77dd66a864",
   "metadata": {},
   "outputs": [],
   "source": []
  },
  {
   "cell_type": "code",
   "execution_count": null,
   "id": "d2c7ee12-f1fd-4424-88fb-51a637dc532e",
   "metadata": {},
   "outputs": [],
   "source": []
  },
  {
   "cell_type": "code",
   "execution_count": null,
   "id": "8324acb1-44e9-4b12-a731-5d42452e48fa",
   "metadata": {},
   "outputs": [],
   "source": []
  },
  {
   "cell_type": "code",
   "execution_count": null,
   "id": "3a1e54bf-4b91-47f4-8b01-d7b0c33c1469",
   "metadata": {},
   "outputs": [],
   "source": []
  },
  {
   "cell_type": "code",
   "execution_count": null,
   "id": "1ca52a96-4e88-4524-9094-7099b125a1f2",
   "metadata": {},
   "outputs": [],
   "source": []
  },
  {
   "cell_type": "code",
   "execution_count": null,
   "id": "d1400666-8622-41ae-8c86-2485d222d686",
   "metadata": {},
   "outputs": [],
   "source": []
  },
  {
   "cell_type": "code",
   "execution_count": null,
   "id": "edc402c7-8a1b-4554-aefa-b3b7abc18844",
   "metadata": {},
   "outputs": [],
   "source": []
  },
  {
   "cell_type": "code",
   "execution_count": null,
   "id": "f9ffa5e2-e7db-49be-bd0f-1a77ae901788",
   "metadata": {},
   "outputs": [],
   "source": []
  },
  {
   "cell_type": "code",
   "execution_count": null,
   "id": "40c1e8e1-e4ab-4660-a5f4-ab72c806e655",
   "metadata": {},
   "outputs": [],
   "source": []
  },
  {
   "cell_type": "code",
   "execution_count": null,
   "id": "770cc807-b062-4062-b487-8f193f67d149",
   "metadata": {},
   "outputs": [],
   "source": []
  },
  {
   "cell_type": "code",
   "execution_count": null,
   "id": "13b1a0d5-186c-4968-9070-6ffe0bc7888b",
   "metadata": {},
   "outputs": [],
   "source": []
  },
  {
   "cell_type": "code",
   "execution_count": 77,
   "id": "67e829c2-bf71-4dc8-b465-2e7faae14d9a",
   "metadata": {},
   "outputs": [],
   "source": [
    "# code to read a page and print it"
   ]
  },
  {
   "cell_type": "code",
   "execution_count": 78,
   "id": "64076240-4975-4be9-9a01-72f1e716a4a7",
   "metadata": {},
   "outputs": [
    {
     "name": "stdout",
     "output_type": "stream",
     "text": [
      "['elementarv', 'j', 'canonical forms', 'introduction', 'we have mentioned earlier that our principal aim is to study linear', 'by this time, we have', 'seen many specific examples of linear transformations, and we have proved', 'in the finite-', 'dimensional case we have utilized ordered bases to represent such trans-', 'formations by matrices, and this representation adds to our insight into', 'we have explored the vector space l(v, iv), consisting of', 'the linear transformations from one space into another, and we have', 'explored the linear algebra l( 8, v), consisting of the linear transformations', '', '', 'our program is to select a single linear operator t on a finite-dimensional', '’ at this', 'early stage, it is easiest to express our goal in matrix language: given the', 'linear operator t, find an ordered basis for v in which the matrix of t', '', '', '0c0 *2 0* *', 'perhaps the simplest', 'matrices to work with, beyond the scalar multiples of the identity, are the', 'diagonal matrices :', '(6-l)', '', '', '181']\n",
      "['elementarv', 'j', 'canonicalforms', 'introduction', 'wehavementionedearlierthatourprincipalaimistostudylinear', 'bythistime,wehave', 'seenmanyspecificexamplesoflineartransformations,andwehaveproved', 'inthefinite-', 'dimensionalcasewehaveutilizedorderedbasestorepresentsuchtrans-', 'formationsbymatrices,andthisrepresentationaddstoourinsightinto', 'wehaveexploredthevectorspacel(v,iv),consistingof', 'thelineartransformationsfromonespaceintoanother,andwehave', 'exploredthelinearalgebral(8,v),consistingofthelineartransformations', '', '', 'ourprogramistoselectasinglelinearoperatortonafinite-dimensional', '’atthis', 'earlystage,itiseasiesttoexpressourgoalinmatrixlanguage:giventhe', 'linearoperatort,findanorderedbasisforvinwhichthematrixoft', '', '', '0c0*20**', 'perhapsthesimplest', 'matricestoworkwith,beyondthescalarmultiplesoftheidentity,arethe', 'diagonalmatrices:', '(6-l)', '', '', '181']\n",
      "['6', 'if we could find', ', (y,,} for v in which t were represented by', '', 'for instance, simple numbers associated with t, such as the rank of t or', 'the determinant of t, could be determined with little more than a glance', 'we could describe explicitly the range and the null space', 'since [t],b = d if and only if', ',n', 'the range would be the subspace spanned by those ark’s for which ck # 0', 'indeed, it', 'seems fair to say that, if we knew a basis a3 and a diagonal matrix d such', 'that [t]a = d, we could answer readily any question about t which', '', 'can each linear operator t be represented by a diagonal matrix in', 'some ordered basis? if not, for which operators t does such a basis exist?', 'how can we find such a basis if there is one? if no such basis exists, what', 'is the simplest type of matrix by which we can represent t? these are some', 'the', 'form of our questions will become more sophisticated as we learn what', '', 'characteristic values', 'the introductory remarks of the previous section provide us with a', '', 'we take our cue from (6-a), which suggests that we should study vectors', '', 'f and let t be a linear', 'a characteristic value of t is a scalar c in f such that', 'if c is a characteristic value of', 't, then', '(a) any (y such that tly = ccr is called a characteristic vector of t', 'associated with the characteristic value c;', '(b) the collection of all a such that ta = cat is called the characteristic', '', 'characteristic values are often called characteristic roots, latent roots,', 'in this book we shall use', '’', 'if t is any linear operator and c is any scalar, the set of vectors (y such', 'it is the null space of the linear trans-']\n",
      "['6', 'ifwecouldfind', ',(y,,}forvinwhichtwererepresentedby', '', 'forinstance,simplenumbersassociatedwitht,suchastherankoftor', 'thedeterminantoft,couldbedeterminedwithlittlemorethanaglance', 'wecoulddescribeexplicitlytherangeandthenullspace', 'since[t],b=difandonlyif', ',n', 'therangewouldbethesubspacespannedbythoseark’sforwhichck#0', 'indeed,it', 'seemsfairtosaythat,ifweknewabasisa3andadiagonalmatrixdsuch', 'that[t]a=d,wecouldanswerreadilyanyquestionabouttwhich', '', 'caneachlinearoperatortberepresentedbyadiagonalmatrixin', 'someorderedbasis?ifnot,forwhichoperatorstdoessuchabasisexist?', 'howcanwefindsuchabasisifthereisone?ifnosuchbasisexists,what', 'isthesimplesttypeofmatrixbywhichwecanrepresentt?thesearesome', 'the', 'formofourquestionswillbecomemoresophisticatedaswelearnwhat', '', 'characteristicvalues', 'theintroductoryremarksoftheprevioussectionprovideuswitha', '', 'wetakeourcuefrom(6-a),whichsuggeststhatweshouldstudyvectors', '', 'fandlettbealinear', 'acharacteristicvalueoftisascalarcinfsuchthat', 'ifcisacharacteristicvalueof', 't,then', '(a)any(ysuchthattly=ccriscalledacharacteristicvectoroft', 'associatedwiththecharacteristicvaluec;', '(b)thecollectionofallasuchthatta=catiscalledthecharacteristic', '', 'characteristicvaluesareoftencalledcharacteristicroots,latentroots,', 'inthisbookweshalluse', '’', 'iftisanylinearoperatorandcisanyscalar,thesetofvectors(ysuch', 'itisthenullspaceofthelineartrans-']\n"
     ]
    }
   ],
   "source": [
    "it_section=0\n",
    "dict_section_page_line={}\n",
    "for x in range(188,190):\n",
    "    text_=file.pages[x].extract_text()\n",
    "    text_=text_.lower()\n",
    "    text_list = text_.split('\\n')\n",
    "#     x=text_list[1]\n",
    "    xx=[x.split('.') for x in text_list]\n",
    "    text_new=[y[-1].rstrip().lstrip() for y in xx]\n",
    "    text_new=[re.sub('\\s+',' ',x) for x in text_new]\n",
    "    \n",
    "    print(text_new)\n",
    "    text_new=[re.sub('\\s+',' ',x).replace(' ','') for x in text_new]\n",
    "    print(text_new)\n"
   ]
  },
  {
   "cell_type": "code",
   "execution_count": 79,
   "id": "29791ce0-2ba6-4771-8c08-85154fae17f6",
   "metadata": {},
   "outputs": [],
   "source": [
    "# to_find=all_sections[it_section].split('.')[-1].lstrip()\n",
    "# to_find\n",
    "# to_find ==np.array(text_new)"
   ]
  },
  {
   "cell_type": "code",
   "execution_count": 80,
   "id": "a6654d8d-ca23-451e-9295-192317dce23f",
   "metadata": {},
   "outputs": [],
   "source": [
    "# to_find\n",
    "\n",
    "# text_=text_.lower()\n",
    "# text_list = text_.split('\\n')\n",
    "# # x=text_list[1]\n",
    "# x=[x.split('.') for x in text_list]\n",
    "# text_new=[y[-1].rstrip().lstrip() for y in x]\n",
    "# line_num=np.where(all_sections[it_section].split('.')[-1].lstrip() == np.array(text_new))[0][0]\n",
    "# line_num"
   ]
  },
  {
   "cell_type": "code",
   "execution_count": 81,
   "id": "4bc21acc-8f22-40e6-bea2-8651c2b26c5e",
   "metadata": {},
   "outputs": [
    {
     "data": {
      "text/plain": [
       "'acharacteristicvalueoftisascalarcinfsuchthat'"
      ]
     },
     "execution_count": 81,
     "metadata": {},
     "output_type": "execute_result"
    }
   ],
   "source": [
    "text_new[27]"
   ]
  },
  {
   "cell_type": "code",
   "execution_count": 82,
   "id": "72e558b2-9560-41c7-b876-b99e32cb4ff8",
   "metadata": {},
   "outputs": [],
   "source": [
    "# to_find"
   ]
  },
  {
   "cell_type": "code",
   "execution_count": null,
   "id": "135620ee-067a-4d18-8028-d453c2914614",
   "metadata": {},
   "outputs": [],
   "source": []
  },
  {
   "cell_type": "code",
   "execution_count": null,
   "id": "74358c68-a098-4e86-97de-9f2dda9170e4",
   "metadata": {},
   "outputs": [],
   "source": []
  },
  {
   "cell_type": "code",
   "execution_count": null,
   "id": "ad6c6a00-9150-470b-a76c-d5c1c2dae2db",
   "metadata": {},
   "outputs": [],
   "source": []
  }
 ],
 "metadata": {
  "kernelspec": {
   "display_name": "Python 3.9.7 ('base')",
   "language": "python",
   "name": "python3"
  },
  "language_info": {
   "codemirror_mode": {
    "name": "ipython",
    "version": 3
   },
   "file_extension": ".py",
   "mimetype": "text/x-python",
   "name": "python",
   "nbconvert_exporter": "python",
   "pygments_lexer": "ipython3",
   "version": "3.9.7"
  },
  "vscode": {
   "interpreter": {
    "hash": "507645663622515d8257022cf03b5024c7bdb8862f4076706ebffba46bdb73d0"
   }
  }
 },
 "nbformat": 4,
 "nbformat_minor": 5
}
