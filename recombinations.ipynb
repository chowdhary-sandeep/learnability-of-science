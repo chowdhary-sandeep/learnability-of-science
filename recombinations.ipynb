{
 "cells": [
  {
   "cell_type": "code",
   "execution_count": null,
   "id": "ee403caf-ca75-4302-83da-4742f13c4c26",
   "metadata": {},
   "outputs": [],
   "source": []
  },
  {
   "cell_type": "code",
   "execution_count": 5,
   "id": "d683b8fb-fe95-4130-ac2e-7d36413862a9",
   "metadata": {},
   "outputs": [
    {
     "name": "stderr",
     "output_type": "stream",
     "text": [
      "[nltk_data] Downloading package stopwords to\n",
      "[nltk_data]     /mnt/sdb1/sandeep/nltk_data...\n",
      "[nltk_data]   Unzipping corpora/stopwords.zip.\n",
      "[nltk_data] Downloading package punkt to\n",
      "[nltk_data]     /mnt/sdb1/sandeep/nltk_data...\n",
      "[nltk_data]   Unzipping tokenizers/punkt.zip.\n",
      "[nltk_data] Downloading package averaged_perceptron_tagger to\n",
      "[nltk_data]     /mnt/sdb1/sandeep/nltk_data...\n",
      "[nltk_data]   Unzipping taggers/averaged_perceptron_tagger.zip.\n"
     ]
    },
    {
     "data": {
      "text/plain": [
       "True"
      ]
     },
     "execution_count": 5,
     "metadata": {},
     "output_type": "execute_result"
    }
   ],
   "source": [
    "import nltk\n",
    "nltk.download('stopwords')\n",
    "nltk.download('punkt')\n",
    "nltk.download('averaged_perceptron_tagger')"
   ]
  },
  {
   "cell_type": "code",
   "execution_count": 4,
   "id": "82ff7877-66e5-4b0f-bc9c-5322956a45b5",
   "metadata": {},
   "outputs": [],
   "source": [
    "import trafilatura\n",
    "array_links = [\n",
    "    \"https://en.wikipedia.org/wiki/Coronavirus_disease_2019\", \n",
    "    \"https://en.wikipedia.org/wiki/Recession\", \n",
    "    \"https://en.wikipedia.org/wiki/Vienna\", \n",
    "    \"https://en.wikipedia.org/wiki/Machine_learning\", \n",
    "    \"https://en.wikipedia.org/wiki/Graph_database\"\n",
    "]\n",
    "array_text = []\n",
    "for l in array_links:\n",
    "    html = trafilatura.fetch_url(l)\n",
    "    text = trafilatura.extract(html)\n",
    "    text_clean = text.replace(\"\\n\", \" \").replace(\"\\'\", \"\")\n",
    "    array_text.append(text_clean[0:5000])"
   ]
  },
  {
   "cell_type": "code",
   "execution_count": 41,
   "id": "8f8f6bf8-39e6-4841-8d4d-ff98c3fce7bd",
   "metadata": {},
   "outputs": [
    {
     "name": "stdout",
     "output_type": "stream",
     "text": [
      "Keywords of article 1 \n",
      " ['respiratory syndrome coronavirus', 'Coronavirus disease', 'Symptoms', 'people', 'Wuhan', 'days', 'acute', 'Diagnostic method', 'Fever', 'risk']\n",
      "Keywords of article 2 \n",
      " ['economic', 'adverse demand shock', 'United Kingdom', 'Labor Statistics Julius', 'GDP', 'activity', 'Part', 'U-shaped', 'real', 'NBER']\n",
      "Keywords of article 3 \n",
      " ['Mayor and Governor', 'Michael Ludwig', 'Vienna', 'city', 'Vehicle registration', 'State', 'national capital', 'GDP', 'largest German-speaking city', 'world']\n",
      "Keywords of article 4 \n",
      " ['Machine learning', 'data', 'algorithms', 'tasks', 'computer', 'field', 'study', 'Artificial', 'experience', 'programmed']\n",
      "Keywords of article 5 \n",
      " ['Graph databases', 'relationships', 'store', 'query', 'edges', 'ISO', 'Commercial', 'Joint Technical Committee', 'IEC JTC', 'GQL']\n"
     ]
    }
   ],
   "source": [
    "from yake import KeywordExtractor\n",
    "kw_extractor = KeywordExtractor(lan=\"en\", n=3, top=10, dedupLim = .2)\n",
    "\n",
    "KeywordExtractor\n",
    "for j in range(len(array_text)):\n",
    "    keywords = kw_extractor.extract_keywords(text=array_text[j])\n",
    "    keywords = [x for x, y in keywords]\n",
    "    print(\"Keywords of article\", str(j+1), \"\\n\", keywords)"
   ]
  },
  {
   "cell_type": "code",
   "execution_count": 29,
   "id": "cfea3d99-d1d8-409a-9958-166c00c12089",
   "metadata": {},
   "outputs": [
    {
     "data": {
      "text/plain": [
       "'Machine learning |Part of a series on| |Machine learning| and data mining |Part of a series on| |Artificial intelligence| Machine learning (ML) is the study of computer algorithms that can improve automatically through experience and by the use of data.[1] It is seen as a part of artificial intelligence. Machine learning algorithms build a model based on sample data, known as training data, in order to make predictions or decisions without being explicitly programmed to do so.[2] Machine learning algorithms are used in a wide variety of applications, such as in medicine, email filtering, speech recognition, and computer vision, where it is difficult or unfeasible to develop conventional algorithms to perform the needed tasks.[3] A subset of machine learning is closely related to computational statistics, which focuses on making predictions using computers; but not all machine learning is statistical learning. The study of mathematical optimization delivers methods, theory and application domains to the field of machine learning. Data mining is a related field of study, focusing on exploratory data analysis through unsupervised learning.[5][6] Some implementations of machine learning use data and neural networks in a way that mimics the working of a biological brain.[7][8] In its application across business problems, machine learning is also referred to as predictive analytics. Overview[edit] Learning algorithms work on the basis that strategies, algorithms, and inferences that worked well in the past are likely to continue working well in the future. These inferences can be obvious, such as \"since the sun rose every morning for the last 10,000 days, it will probably rise tomorrow morning as well\". They can be nuanced, such as \"X% of families have geographically separate species with color variants, so there is a Y% chance that undiscovered black swans exist\".[9] Machine learning programs can perform tasks without being explicitly programmed to do so. It involves computers learning from data provided so that they carry out certain tasks. For simple tasks assigned to computers, it is possible to program algorithms telling the machine how to execute all steps required to solve the problem at hand; on the computers part, no learning is needed. For more advanced tasks, it can be challenging for a human to manually create the needed algorithms. In practice, it can turn out to be more effective to help the machine develop its own algorithm, rather than having human programmers specify every needed step.[10] The discipline of machine learning employs various approaches to teach computers to accomplish tasks where no fully satisfactory algorithm is available. In cases where vast numbers of potential answers exist, one approach is to label some of the correct answers as valid. This can then be used as training data for the computer to improve the algorithm(s) it uses to determine correct answers. For example, to train a system for the task of digital character recognition, the MNIST dataset of handwritten digits has often been used.[10] History and relationships to other fields[edit] The term machine learning was coined in 1959 by Arthur Samuel, an American IBMer and pioneer in the field of computer gaming and artificial intelligence.[11][12] Also the synonym self-teaching computers was used in this time period.[13][14] A representative book of the machine learning research during the 1960s was the Nilssons book on Learning Machines, dealing mostly with machine learning for pattern classification.[15] Interest related to pattern recognition continued into the 1970s, as described by Duda and Hart in 1973.[16] In 1981 a report was given on using teaching strategies so that a neural network learns to recognize 40 characters (26 letters, 10 digits, and 4 special symbols) from a computer terminal.[17] Tom M. Mitchell provided a widely quoted, more formal definition of the algorithms studied in the machine learning field: \"A computer program is said to learn from experience E with respect to some class of tasks T and performance measure P if its performance at tasks in T, as measured by P, improves with experience E.\"[18] This definition of the tasks in which machine learning is concerned offers a fundamentally operational definition rather than defining the field in cognitive terms. This follows Alan Turings proposal in his paper \"Computing Machinery and Intelligence\", in which the question \"Can machines think?\" is replaced with the question \"Can machines do what we (as thinking entities) can do?\".[19] Modern day machine learning has two objectives, one is to classify data based on models which have been developed, the other purpose is to make predictions for future outcomes based on these models. A hypothetical algorithm specific to classifying data may use computer vision of moles coupled with supervised learning in order to train it to classify the cancerous moles. A machine learning algorithm for stock trading may inf'"
      ]
     },
     "execution_count": 29,
     "metadata": {},
     "output_type": "execute_result"
    }
   ],
   "source": [
    "array_text[3]"
   ]
  },
  {
   "cell_type": "code",
   "execution_count": null,
   "id": "4eca301d-1035-40a6-a989-65809e9f02a5",
   "metadata": {},
   "outputs": [],
   "source": []
  }
 ],
 "metadata": {
  "kernelspec": {
   "display_name": "Python 3",
   "language": "python",
   "name": "python3"
  },
  "language_info": {
   "codemirror_mode": {
    "name": "ipython",
    "version": 3
   },
   "file_extension": ".py",
   "mimetype": "text/x-python",
   "name": "python",
   "nbconvert_exporter": "python",
   "pygments_lexer": "ipython3",
   "version": "3.9.2"
  }
 },
 "nbformat": 4,
 "nbformat_minor": 5
}
